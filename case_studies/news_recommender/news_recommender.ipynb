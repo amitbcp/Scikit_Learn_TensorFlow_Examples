{
 "cells": [
  {
   "cell_type": "markdown",
   "metadata": {},
   "source": [
    "## Import Necessary Libraries"
   ]
  },
  {
   "cell_type": "code",
   "execution_count": 1,
   "metadata": {
    "ExecuteTime": {
     "end_time": "2021-04-12T12:23:17.954575Z",
     "start_time": "2021-04-12T12:23:12.766704Z"
    }
   },
   "outputs": [],
   "source": [
    "import warnings\n",
    "\n",
    "warnings.filterwarnings(\"ignore\")\n",
    "# Libraries to help with reading and manipulating data\n",
    "import pandas as pd\n",
    "import numpy as np\n",
    "\n",
    "# libaries to help with data visualization\n",
    "%matplotlib inline\n",
    "import matplotlib.pyplot as plt\n",
    "import seaborn as sns\n",
    "\n",
    "\n",
    "from sklearn.preprocessing import MinMaxScaler\n",
    "\n",
    "from sklearn.model_selection import train_test_split\n",
    "\n",
    "from sklearn.metrics.pairwise import pairwise_distances\n",
    "from gensim.corpora.dictionary import Dictionary\n",
    "from gensim.models.tfidfmodel import TfidfModel\n",
    "from gensim.similarities import MatrixSimilarity\n",
    "from scipy.sparse import csr_matrix\n",
    "\n",
    "import implicit\n",
    "from implicit import evaluation\n",
    "# from implicit.evaluation import train_test_split\n",
    "\n",
    "from sklearn.metrics import mean_squared_error\n",
    "from sklearn.metrics import mean_absolute_error\n",
    "from sklearn.metrics import accuracy_score\n",
    "from math import sqrt\n"
   ]
  },
  {
   "cell_type": "markdown",
   "metadata": {
    "ExecuteTime": {
     "end_time": "2021-04-02T14:44:55.661277Z",
     "start_time": "2021-04-02T14:44:55.659145Z"
    }
   },
   "source": [
    "## Load & Understand Dataset "
   ]
  },
  {
   "cell_type": "markdown",
   "metadata": {},
   "source": [
    "### Platform Content Dataset\n",
    "\n",
    "- Check shape & head\n",
    "- Check for Missing Values\n",
    "- Remove Duplicate rows if present\n",
    "- Check Stats with Describe. \n",
    "\n",
    "It can be noted that most the numerical columns are unique identifiers and statiscal measures don't provide any useful insights for them. Hence we would check it for categorical data."
   ]
  },
  {
   "cell_type": "code",
   "execution_count": 2,
   "metadata": {
    "ExecuteTime": {
     "end_time": "2021-04-12T12:23:18.260933Z",
     "start_time": "2021-04-12T12:23:17.963287Z"
    }
   },
   "outputs": [
    {
     "name": "stdout",
     "output_type": "stream",
     "text": [
      "Shape of Dataset : (3122, 13)\n"
     ]
    },
    {
     "data": {
      "text/html": [
       "<div>\n",
       "<style scoped>\n",
       "    .dataframe tbody tr th:only-of-type {\n",
       "        vertical-align: middle;\n",
       "    }\n",
       "\n",
       "    .dataframe tbody tr th {\n",
       "        vertical-align: top;\n",
       "    }\n",
       "\n",
       "    .dataframe thead th {\n",
       "        text-align: right;\n",
       "    }\n",
       "</style>\n",
       "<table border=\"1\" class=\"dataframe\">\n",
       "  <thead>\n",
       "    <tr style=\"text-align: right;\">\n",
       "      <th></th>\n",
       "      <th>event_timestamp</th>\n",
       "      <th>interaction_type</th>\n",
       "      <th>item_id</th>\n",
       "      <th>producer_id</th>\n",
       "      <th>producer_session_id</th>\n",
       "      <th>producer_device_info</th>\n",
       "      <th>producer_location</th>\n",
       "      <th>producer_country</th>\n",
       "      <th>item_type</th>\n",
       "      <th>item_url</th>\n",
       "      <th>title</th>\n",
       "      <th>text_description</th>\n",
       "      <th>language</th>\n",
       "    </tr>\n",
       "  </thead>\n",
       "  <tbody>\n",
       "    <tr>\n",
       "      <th>0</th>\n",
       "      <td>1459192779</td>\n",
       "      <td>content_pulled_out</td>\n",
       "      <td>-6451309518266745024</td>\n",
       "      <td>4340306774493623681</td>\n",
       "      <td>8940341205206233829</td>\n",
       "      <td>NaN</td>\n",
       "      <td>NaN</td>\n",
       "      <td>NaN</td>\n",
       "      <td>HTML</td>\n",
       "      <td>http://www.nytimes.com/2016/03/28/business/dea...</td>\n",
       "      <td>Ethereum, a Virtual Currency, Enables Transact...</td>\n",
       "      <td>All of this work is still very early. The firs...</td>\n",
       "      <td>en</td>\n",
       "    </tr>\n",
       "    <tr>\n",
       "      <th>1</th>\n",
       "      <td>1459193988</td>\n",
       "      <td>content_present</td>\n",
       "      <td>-4110354420726924665</td>\n",
       "      <td>4340306774493623681</td>\n",
       "      <td>8940341205206233829</td>\n",
       "      <td>NaN</td>\n",
       "      <td>NaN</td>\n",
       "      <td>NaN</td>\n",
       "      <td>HTML</td>\n",
       "      <td>http://www.nytimes.com/2016/03/28/business/dea...</td>\n",
       "      <td>Ethereum, a Virtual Currency, Enables Transact...</td>\n",
       "      <td>All of this work is still very early. The firs...</td>\n",
       "      <td>en</td>\n",
       "    </tr>\n",
       "    <tr>\n",
       "      <th>2</th>\n",
       "      <td>1459194146</td>\n",
       "      <td>content_present</td>\n",
       "      <td>-7292285110016212249</td>\n",
       "      <td>4340306774493623681</td>\n",
       "      <td>8940341205206233829</td>\n",
       "      <td>NaN</td>\n",
       "      <td>NaN</td>\n",
       "      <td>NaN</td>\n",
       "      <td>HTML</td>\n",
       "      <td>http://cointelegraph.com/news/bitcoin-future-w...</td>\n",
       "      <td>Bitcoin Future: When GBPcoin of Branson Wins O...</td>\n",
       "      <td>The alarm clock wakes me at 8:00 with stream o...</td>\n",
       "      <td>en</td>\n",
       "    </tr>\n",
       "    <tr>\n",
       "      <th>3</th>\n",
       "      <td>1459194474</td>\n",
       "      <td>content_present</td>\n",
       "      <td>-6151852268067518688</td>\n",
       "      <td>3891637997717104548</td>\n",
       "      <td>-1457532940883382585</td>\n",
       "      <td>NaN</td>\n",
       "      <td>NaN</td>\n",
       "      <td>NaN</td>\n",
       "      <td>HTML</td>\n",
       "      <td>https://cloudplatform.googleblog.com/2016/03/G...</td>\n",
       "      <td>Google Data Center 360° Tour</td>\n",
       "      <td>We're excited to share the Google Data Center ...</td>\n",
       "      <td>en</td>\n",
       "    </tr>\n",
       "    <tr>\n",
       "      <th>4</th>\n",
       "      <td>1459194497</td>\n",
       "      <td>content_present</td>\n",
       "      <td>2448026894306402386</td>\n",
       "      <td>4340306774493623681</td>\n",
       "      <td>8940341205206233829</td>\n",
       "      <td>NaN</td>\n",
       "      <td>NaN</td>\n",
       "      <td>NaN</td>\n",
       "      <td>HTML</td>\n",
       "      <td>https://bitcoinmagazine.com/articles/ibm-wants...</td>\n",
       "      <td>IBM Wants to \"Evolve the Internet\" With Blockc...</td>\n",
       "      <td>The Aite Group projects the blockchain market ...</td>\n",
       "      <td>en</td>\n",
       "    </tr>\n",
       "  </tbody>\n",
       "</table>\n",
       "</div>"
      ],
      "text/plain": [
       "   event_timestamp    interaction_type              item_id  \\\n",
       "0       1459192779  content_pulled_out -6451309518266745024   \n",
       "1       1459193988     content_present -4110354420726924665   \n",
       "2       1459194146     content_present -7292285110016212249   \n",
       "3       1459194474     content_present -6151852268067518688   \n",
       "4       1459194497     content_present  2448026894306402386   \n",
       "\n",
       "           producer_id  producer_session_id producer_device_info  \\\n",
       "0  4340306774493623681  8940341205206233829                  NaN   \n",
       "1  4340306774493623681  8940341205206233829                  NaN   \n",
       "2  4340306774493623681  8940341205206233829                  NaN   \n",
       "3  3891637997717104548 -1457532940883382585                  NaN   \n",
       "4  4340306774493623681  8940341205206233829                  NaN   \n",
       "\n",
       "  producer_location producer_country item_type  \\\n",
       "0               NaN              NaN      HTML   \n",
       "1               NaN              NaN      HTML   \n",
       "2               NaN              NaN      HTML   \n",
       "3               NaN              NaN      HTML   \n",
       "4               NaN              NaN      HTML   \n",
       "\n",
       "                                            item_url  \\\n",
       "0  http://www.nytimes.com/2016/03/28/business/dea...   \n",
       "1  http://www.nytimes.com/2016/03/28/business/dea...   \n",
       "2  http://cointelegraph.com/news/bitcoin-future-w...   \n",
       "3  https://cloudplatform.googleblog.com/2016/03/G...   \n",
       "4  https://bitcoinmagazine.com/articles/ibm-wants...   \n",
       "\n",
       "                                               title  \\\n",
       "0  Ethereum, a Virtual Currency, Enables Transact...   \n",
       "1  Ethereum, a Virtual Currency, Enables Transact...   \n",
       "2  Bitcoin Future: When GBPcoin of Branson Wins O...   \n",
       "3                       Google Data Center 360° Tour   \n",
       "4  IBM Wants to \"Evolve the Internet\" With Blockc...   \n",
       "\n",
       "                                    text_description language  \n",
       "0  All of this work is still very early. The firs...       en  \n",
       "1  All of this work is still very early. The firs...       en  \n",
       "2  The alarm clock wakes me at 8:00 with stream o...       en  \n",
       "3  We're excited to share the Google Data Center ...       en  \n",
       "4  The Aite Group projects the blockchain market ...       en  "
      ]
     },
     "execution_count": 2,
     "metadata": {},
     "output_type": "execute_result"
    }
   ],
   "source": [
    "# Check Shape & few rows\n",
    "platform_content = pd.read_csv(\"./data/platform_content.csv\")\n",
    "print(\"Shape of Dataset : {}\".format(platform_content.shape))\n",
    "\n",
    "platform_content.head()"
   ]
  },
  {
   "cell_type": "code",
   "execution_count": 3,
   "metadata": {
    "ExecuteTime": {
     "end_time": "2021-04-12T12:23:18.286427Z",
     "start_time": "2021-04-12T12:23:18.265553Z"
    }
   },
   "outputs": [
    {
     "name": "stdout",
     "output_type": "stream",
     "text": [
      "<class 'pandas.core.frame.DataFrame'>\n",
      "RangeIndex: 3122 entries, 0 to 3121\n",
      "Data columns (total 13 columns):\n",
      " #   Column                Non-Null Count  Dtype \n",
      "---  ------                --------------  ----- \n",
      " 0   event_timestamp       3122 non-null   int64 \n",
      " 1   interaction_type      3122 non-null   object\n",
      " 2   item_id               3122 non-null   int64 \n",
      " 3   producer_id           3122 non-null   int64 \n",
      " 4   producer_session_id   3122 non-null   int64 \n",
      " 5   producer_device_info  680 non-null    object\n",
      " 6   producer_location     680 non-null    object\n",
      " 7   producer_country      680 non-null    object\n",
      " 8   item_type             3122 non-null   object\n",
      " 9   item_url              3122 non-null   object\n",
      " 10  title                 3122 non-null   object\n",
      " 11  text_description      3122 non-null   object\n",
      " 12  language              3122 non-null   object\n",
      "dtypes: int64(4), object(9)\n",
      "memory usage: 317.2+ KB\n"
     ]
    }
   ],
   "source": [
    "# Check data-types & missing values\n",
    "platform_content.info()"
   ]
  },
  {
   "cell_type": "code",
   "execution_count": 4,
   "metadata": {
    "ExecuteTime": {
     "end_time": "2021-04-12T12:23:18.335258Z",
     "start_time": "2021-04-12T12:23:18.290151Z"
    }
   },
   "outputs": [
    {
     "data": {
      "text/html": [
       "<div>\n",
       "<style scoped>\n",
       "    .dataframe tbody tr th:only-of-type {\n",
       "        vertical-align: middle;\n",
       "    }\n",
       "\n",
       "    .dataframe tbody tr th {\n",
       "        vertical-align: top;\n",
       "    }\n",
       "\n",
       "    .dataframe thead th {\n",
       "        text-align: right;\n",
       "    }\n",
       "</style>\n",
       "<table border=\"1\" class=\"dataframe\">\n",
       "  <thead>\n",
       "    <tr style=\"text-align: right;\">\n",
       "      <th></th>\n",
       "      <th>% of Missing Values</th>\n",
       "    </tr>\n",
       "  </thead>\n",
       "  <tbody>\n",
       "    <tr>\n",
       "      <th>producer_device_info</th>\n",
       "      <td>78.22</td>\n",
       "    </tr>\n",
       "    <tr>\n",
       "      <th>producer_location</th>\n",
       "      <td>78.22</td>\n",
       "    </tr>\n",
       "    <tr>\n",
       "      <th>producer_country</th>\n",
       "      <td>78.22</td>\n",
       "    </tr>\n",
       "    <tr>\n",
       "      <th>event_timestamp</th>\n",
       "      <td>0.00</td>\n",
       "    </tr>\n",
       "    <tr>\n",
       "      <th>interaction_type</th>\n",
       "      <td>0.00</td>\n",
       "    </tr>\n",
       "    <tr>\n",
       "      <th>item_id</th>\n",
       "      <td>0.00</td>\n",
       "    </tr>\n",
       "    <tr>\n",
       "      <th>producer_id</th>\n",
       "      <td>0.00</td>\n",
       "    </tr>\n",
       "    <tr>\n",
       "      <th>producer_session_id</th>\n",
       "      <td>0.00</td>\n",
       "    </tr>\n",
       "    <tr>\n",
       "      <th>item_type</th>\n",
       "      <td>0.00</td>\n",
       "    </tr>\n",
       "    <tr>\n",
       "      <th>item_url</th>\n",
       "      <td>0.00</td>\n",
       "    </tr>\n",
       "    <tr>\n",
       "      <th>title</th>\n",
       "      <td>0.00</td>\n",
       "    </tr>\n",
       "    <tr>\n",
       "      <th>text_description</th>\n",
       "      <td>0.00</td>\n",
       "    </tr>\n",
       "    <tr>\n",
       "      <th>language</th>\n",
       "      <td>0.00</td>\n",
       "    </tr>\n",
       "  </tbody>\n",
       "</table>\n",
       "</div>"
      ],
      "text/plain": [
       "                      % of Missing Values\n",
       "producer_device_info                78.22\n",
       "producer_location                   78.22\n",
       "producer_country                    78.22\n",
       "event_timestamp                      0.00\n",
       "interaction_type                     0.00\n",
       "item_id                              0.00\n",
       "producer_id                          0.00\n",
       "producer_session_id                  0.00\n",
       "item_type                            0.00\n",
       "item_url                             0.00\n",
       "title                                0.00\n",
       "text_description                     0.00\n",
       "language                             0.00"
      ]
     },
     "execution_count": 4,
     "metadata": {},
     "output_type": "execute_result"
    }
   ],
   "source": [
    "# Check Missing values in terms of Percentage\n",
    "pd.DataFrame(data={'% of Missing Values':round(platform_content.isnull().sum()/platform_content.isnull().count()*100,2)\n",
    "                  }).sort_values(by='% of Missing Values',ascending=False)"
   ]
  },
  {
   "cell_type": "code",
   "execution_count": 5,
   "metadata": {
    "ExecuteTime": {
     "end_time": "2021-04-12T12:23:18.397503Z",
     "start_time": "2021-04-12T12:23:18.340125Z"
    }
   },
   "outputs": [
    {
     "data": {
      "text/html": [
       "<div>\n",
       "<style scoped>\n",
       "    .dataframe tbody tr th:only-of-type {\n",
       "        vertical-align: middle;\n",
       "    }\n",
       "\n",
       "    .dataframe tbody tr th {\n",
       "        vertical-align: top;\n",
       "    }\n",
       "\n",
       "    .dataframe thead th {\n",
       "        text-align: right;\n",
       "    }\n",
       "</style>\n",
       "<table border=\"1\" class=\"dataframe\">\n",
       "  <thead>\n",
       "    <tr style=\"text-align: right;\">\n",
       "      <th></th>\n",
       "      <th>count</th>\n",
       "      <th>mean</th>\n",
       "      <th>std</th>\n",
       "      <th>min</th>\n",
       "      <th>25%</th>\n",
       "      <th>50%</th>\n",
       "      <th>75%</th>\n",
       "      <th>max</th>\n",
       "    </tr>\n",
       "  </thead>\n",
       "  <tbody>\n",
       "    <tr>\n",
       "      <th>event_timestamp</th>\n",
       "      <td>3122.0</td>\n",
       "      <td>1.468804e+09</td>\n",
       "      <td>7.571512e+06</td>\n",
       "      <td>1.459193e+09</td>\n",
       "      <td>1.462369e+09</td>\n",
       "      <td>1.467136e+09</td>\n",
       "      <td>1.473873e+09</td>\n",
       "      <td>1.488308e+09</td>\n",
       "    </tr>\n",
       "    <tr>\n",
       "      <th>item_id</th>\n",
       "      <td>3122.0</td>\n",
       "      <td>3.284110e+16</td>\n",
       "      <td>5.383734e+18</td>\n",
       "      <td>-9.222795e+18</td>\n",
       "      <td>-4.660869e+18</td>\n",
       "      <td>4.436584e+16</td>\n",
       "      <td>4.745617e+18</td>\n",
       "      <td>9.222265e+18</td>\n",
       "    </tr>\n",
       "    <tr>\n",
       "      <th>producer_id</th>\n",
       "      <td>3122.0</td>\n",
       "      <td>3.984819e+17</td>\n",
       "      <td>4.387115e+18</td>\n",
       "      <td>-9.120686e+18</td>\n",
       "      <td>-1.578288e+18</td>\n",
       "      <td>-7.092877e+17</td>\n",
       "      <td>3.609194e+18</td>\n",
       "      <td>9.210531e+18</td>\n",
       "    </tr>\n",
       "    <tr>\n",
       "      <th>producer_session_id</th>\n",
       "      <td>3122.0</td>\n",
       "      <td>1.976675e+17</td>\n",
       "      <td>5.403753e+18</td>\n",
       "      <td>-9.212055e+18</td>\n",
       "      <td>-4.651280e+18</td>\n",
       "      <td>4.154103e+17</td>\n",
       "      <td>4.841644e+18</td>\n",
       "      <td>9.221043e+18</td>\n",
       "    </tr>\n",
       "  </tbody>\n",
       "</table>\n",
       "</div>"
      ],
      "text/plain": [
       "                      count          mean           std           min  \\\n",
       "event_timestamp      3122.0  1.468804e+09  7.571512e+06  1.459193e+09   \n",
       "item_id              3122.0  3.284110e+16  5.383734e+18 -9.222795e+18   \n",
       "producer_id          3122.0  3.984819e+17  4.387115e+18 -9.120686e+18   \n",
       "producer_session_id  3122.0  1.976675e+17  5.403753e+18 -9.212055e+18   \n",
       "\n",
       "                              25%           50%           75%           max  \n",
       "event_timestamp      1.462369e+09  1.467136e+09  1.473873e+09  1.488308e+09  \n",
       "item_id             -4.660869e+18  4.436584e+16  4.745617e+18  9.222265e+18  \n",
       "producer_id         -1.578288e+18 -7.092877e+17  3.609194e+18  9.210531e+18  \n",
       "producer_session_id -4.651280e+18  4.154103e+17  4.841644e+18  9.221043e+18  "
      ]
     },
     "execution_count": 5,
     "metadata": {},
     "output_type": "execute_result"
    }
   ],
   "source": [
    "# Describe stats for Numerical Columns\n",
    "platform_content.describe().T"
   ]
  },
  {
   "cell_type": "code",
   "execution_count": 6,
   "metadata": {
    "ExecuteTime": {
     "end_time": "2021-04-12T12:23:18.507468Z",
     "start_time": "2021-04-12T12:23:18.405566Z"
    }
   },
   "outputs": [
    {
     "data": {
      "text/html": [
       "<div>\n",
       "<style scoped>\n",
       "    .dataframe tbody tr th:only-of-type {\n",
       "        vertical-align: middle;\n",
       "    }\n",
       "\n",
       "    .dataframe tbody tr th {\n",
       "        vertical-align: top;\n",
       "    }\n",
       "\n",
       "    .dataframe thead th {\n",
       "        text-align: right;\n",
       "    }\n",
       "</style>\n",
       "<table border=\"1\" class=\"dataframe\">\n",
       "  <thead>\n",
       "    <tr style=\"text-align: right;\">\n",
       "      <th></th>\n",
       "      <th>count</th>\n",
       "      <th>unique</th>\n",
       "      <th>top</th>\n",
       "      <th>freq</th>\n",
       "    </tr>\n",
       "  </thead>\n",
       "  <tbody>\n",
       "    <tr>\n",
       "      <th>interaction_type</th>\n",
       "      <td>3122</td>\n",
       "      <td>2</td>\n",
       "      <td>content_present</td>\n",
       "      <td>3047</td>\n",
       "    </tr>\n",
       "    <tr>\n",
       "      <th>producer_device_info</th>\n",
       "      <td>680</td>\n",
       "      <td>114</td>\n",
       "      <td>Mozilla/5.0 (X11; Linux x86_64) AppleWebKit/53...</td>\n",
       "      <td>71</td>\n",
       "    </tr>\n",
       "    <tr>\n",
       "      <th>producer_location</th>\n",
       "      <td>680</td>\n",
       "      <td>19</td>\n",
       "      <td>SP</td>\n",
       "      <td>533</td>\n",
       "    </tr>\n",
       "    <tr>\n",
       "      <th>producer_country</th>\n",
       "      <td>680</td>\n",
       "      <td>5</td>\n",
       "      <td>BR</td>\n",
       "      <td>613</td>\n",
       "    </tr>\n",
       "    <tr>\n",
       "      <th>item_type</th>\n",
       "      <td>3122</td>\n",
       "      <td>3</td>\n",
       "      <td>HTML</td>\n",
       "      <td>3101</td>\n",
       "    </tr>\n",
       "    <tr>\n",
       "      <th>item_url</th>\n",
       "      <td>3122</td>\n",
       "      <td>3029</td>\n",
       "      <td>https://medium.com/quality-functions/preventin...</td>\n",
       "      <td>8</td>\n",
       "    </tr>\n",
       "    <tr>\n",
       "      <th>title</th>\n",
       "      <td>3122</td>\n",
       "      <td>3011</td>\n",
       "      <td>Preventing Software Bugs from Ever Occurring -...</td>\n",
       "      <td>8</td>\n",
       "    </tr>\n",
       "    <tr>\n",
       "      <th>text_description</th>\n",
       "      <td>3122</td>\n",
       "      <td>3019</td>\n",
       "      <td>Bug Type 3: Missing Specifications Description...</td>\n",
       "      <td>8</td>\n",
       "    </tr>\n",
       "    <tr>\n",
       "      <th>language</th>\n",
       "      <td>3122</td>\n",
       "      <td>5</td>\n",
       "      <td>en</td>\n",
       "      <td>2264</td>\n",
       "    </tr>\n",
       "  </tbody>\n",
       "</table>\n",
       "</div>"
      ],
      "text/plain": [
       "                     count unique  \\\n",
       "interaction_type      3122      2   \n",
       "producer_device_info   680    114   \n",
       "producer_location      680     19   \n",
       "producer_country       680      5   \n",
       "item_type             3122      3   \n",
       "item_url              3122   3029   \n",
       "title                 3122   3011   \n",
       "text_description      3122   3019   \n",
       "language              3122      5   \n",
       "\n",
       "                                                                    top  freq  \n",
       "interaction_type                                        content_present  3047  \n",
       "producer_device_info  Mozilla/5.0 (X11; Linux x86_64) AppleWebKit/53...    71  \n",
       "producer_location                                                    SP   533  \n",
       "producer_country                                                     BR   613  \n",
       "item_type                                                          HTML  3101  \n",
       "item_url              https://medium.com/quality-functions/preventin...     8  \n",
       "title                 Preventing Software Bugs from Ever Occurring -...     8  \n",
       "text_description      Bug Type 3: Missing Specifications Description...     8  \n",
       "language                                                             en  2264  "
      ]
     },
     "execution_count": 6,
     "metadata": {},
     "output_type": "execute_result"
    }
   ],
   "source": [
    "# Describe states for Categorical/Object Columns\n",
    "platform_content.describe(include=['object']).T"
   ]
  },
  {
   "cell_type": "code",
   "execution_count": 7,
   "metadata": {
    "ExecuteTime": {
     "end_time": "2021-04-12T12:23:18.622335Z",
     "start_time": "2021-04-12T12:23:18.512885Z"
    }
   },
   "outputs": [
    {
     "data": {
      "text/plain": [
       "event_timestamp         3121\n",
       "interaction_type           2\n",
       "item_id                 3057\n",
       "producer_id              252\n",
       "producer_session_id     2017\n",
       "producer_device_info     114\n",
       "producer_location         19\n",
       "producer_country           5\n",
       "item_type                  3\n",
       "item_url                3029\n",
       "title                   3011\n",
       "text_description        3019\n",
       "language                   5\n",
       "dtype: int64"
      ]
     },
     "execution_count": 7,
     "metadata": {},
     "output_type": "execute_result"
    }
   ],
   "source": [
    "# Check Unique values in all the columns\n",
    "platform_content.nunique()"
   ]
  },
  {
   "cell_type": "code",
   "execution_count": 8,
   "metadata": {
    "ExecuteTime": {
     "end_time": "2021-04-12T12:23:18.720618Z",
     "start_time": "2021-04-12T12:23:18.625782Z"
    }
   },
   "outputs": [
    {
     "data": {
      "text/html": [
       "<div>\n",
       "<style scoped>\n",
       "    .dataframe tbody tr th:only-of-type {\n",
       "        vertical-align: middle;\n",
       "    }\n",
       "\n",
       "    .dataframe tbody tr th {\n",
       "        vertical-align: top;\n",
       "    }\n",
       "\n",
       "    .dataframe thead th {\n",
       "        text-align: right;\n",
       "    }\n",
       "</style>\n",
       "<table border=\"1\" class=\"dataframe\">\n",
       "  <thead>\n",
       "    <tr style=\"text-align: right;\">\n",
       "      <th></th>\n",
       "      <th>event_timestamp</th>\n",
       "      <th>interaction_type</th>\n",
       "      <th>item_id</th>\n",
       "      <th>producer_id</th>\n",
       "      <th>producer_session_id</th>\n",
       "      <th>producer_device_info</th>\n",
       "      <th>producer_location</th>\n",
       "      <th>producer_country</th>\n",
       "      <th>item_type</th>\n",
       "      <th>item_url</th>\n",
       "      <th>title</th>\n",
       "      <th>text_description</th>\n",
       "      <th>language</th>\n",
       "    </tr>\n",
       "  </thead>\n",
       "  <tbody>\n",
       "  </tbody>\n",
       "</table>\n",
       "</div>"
      ],
      "text/plain": [
       "Empty DataFrame\n",
       "Columns: [event_timestamp, interaction_type, item_id, producer_id, producer_session_id, producer_device_info, producer_location, producer_country, item_type, item_url, title, text_description, language]\n",
       "Index: []"
      ]
     },
     "execution_count": 8,
     "metadata": {},
     "output_type": "execute_result"
    }
   ],
   "source": [
    "# Check for Duplicates\n",
    "platform_content[platform_content.duplicated()]"
   ]
  },
  {
   "cell_type": "markdown",
   "metadata": {},
   "source": [
    "#### Note : \n",
    "\n",
    "1. The describe function showed minimum values for few columns to be negative. \n",
    "2. Also, no duplicates where seen in the dataset.\n",
    "3. Based on this, I decide to convert negative values to positive values by take absolute & recheck for duplicates.\n",
    "4. This would help us create a consistent dataset\n",
    "5. Some details about the producers have high percentage of missing values. Since we will not be using them, it's fine and we can ignore them later."
   ]
  },
  {
   "cell_type": "code",
   "execution_count": 9,
   "metadata": {
    "ExecuteTime": {
     "end_time": "2021-04-12T12:23:18.731739Z",
     "start_time": "2021-04-12T12:23:18.724215Z"
    }
   },
   "outputs": [],
   "source": [
    "# Convert Columns to Absolute Values\n",
    "\n",
    "platform_content['item_id'] = platform_content['item_id'].abs()\n",
    "platform_content['producer_id'] = platform_content['producer_id'].abs()\n",
    "platform_content['producer_session_id'] = platform_content['producer_session_id'].abs()"
   ]
  },
  {
   "cell_type": "code",
   "execution_count": 10,
   "metadata": {
    "ExecuteTime": {
     "end_time": "2021-04-12T12:23:18.826785Z",
     "start_time": "2021-04-12T12:23:18.735500Z"
    }
   },
   "outputs": [
    {
     "data": {
      "text/html": [
       "<div>\n",
       "<style scoped>\n",
       "    .dataframe tbody tr th:only-of-type {\n",
       "        vertical-align: middle;\n",
       "    }\n",
       "\n",
       "    .dataframe tbody tr th {\n",
       "        vertical-align: top;\n",
       "    }\n",
       "\n",
       "    .dataframe thead th {\n",
       "        text-align: right;\n",
       "    }\n",
       "</style>\n",
       "<table border=\"1\" class=\"dataframe\">\n",
       "  <thead>\n",
       "    <tr style=\"text-align: right;\">\n",
       "      <th></th>\n",
       "      <th>event_timestamp</th>\n",
       "      <th>interaction_type</th>\n",
       "      <th>item_id</th>\n",
       "      <th>producer_id</th>\n",
       "      <th>producer_session_id</th>\n",
       "      <th>producer_device_info</th>\n",
       "      <th>producer_location</th>\n",
       "      <th>producer_country</th>\n",
       "      <th>item_type</th>\n",
       "      <th>item_url</th>\n",
       "      <th>title</th>\n",
       "      <th>text_description</th>\n",
       "      <th>language</th>\n",
       "    </tr>\n",
       "  </thead>\n",
       "  <tbody>\n",
       "  </tbody>\n",
       "</table>\n",
       "</div>"
      ],
      "text/plain": [
       "Empty DataFrame\n",
       "Columns: [event_timestamp, interaction_type, item_id, producer_id, producer_session_id, producer_device_info, producer_location, producer_country, item_type, item_url, title, text_description, language]\n",
       "Index: []"
      ]
     },
     "execution_count": 10,
     "metadata": {},
     "output_type": "execute_result"
    }
   ],
   "source": [
    "# Check for Duplicates Again\n",
    "platform_content[platform_content.duplicated()]"
   ]
  },
  {
   "cell_type": "markdown",
   "metadata": {},
   "source": [
    "#### Note :\n",
    "\n",
    "1. As we see that there are still no duplicates, we can make conclude safely that the above transformation is valid"
   ]
  },
  {
   "cell_type": "markdown",
   "metadata": {},
   "source": [
    "#### Observations from the Platform Content\n",
    "\n",
    "1. We have few columns with ~78% missing values, which will be hard to impute or use\n",
    "2. We treated some negative values in the dataset\n",
    "3. There are not duplicates in the dataset considering all columns together\n",
    "4. From the Describe & N-Unique functions, we can see that some news/articles are published more than one time.\n",
    "5. This might need to be handled while suggesting recommedations.\n",
    "6. Also, the number of Unique Producers is ~250"
   ]
  },
  {
   "cell_type": "markdown",
   "metadata": {
    "ExecuteTime": {
     "end_time": "2021-04-02T14:49:45.792446Z",
     "start_time": "2021-04-02T14:49:45.788611Z"
    }
   },
   "source": [
    "### Consumer Transaction Dataset\n",
    "\n",
    "- Check shape & head\n",
    "- Check for Missing Values\n",
    "- Remove Duplicate rows if present\n",
    "- Check Stats with Describe. \n",
    "\n",
    "It can be noted that most the numerical columns are unique identifiers and statiscal measures don't provide any useful insights for them. Hence we would check it for categorical data."
   ]
  },
  {
   "cell_type": "code",
   "execution_count": 11,
   "metadata": {
    "ExecuteTime": {
     "end_time": "2021-04-12T12:23:19.091057Z",
     "start_time": "2021-04-12T12:23:18.830507Z"
    }
   },
   "outputs": [
    {
     "name": "stdout",
     "output_type": "stream",
     "text": [
      "Shape of Dataset : (72312, 8)\n"
     ]
    },
    {
     "data": {
      "text/html": [
       "<div>\n",
       "<style scoped>\n",
       "    .dataframe tbody tr th:only-of-type {\n",
       "        vertical-align: middle;\n",
       "    }\n",
       "\n",
       "    .dataframe tbody tr th {\n",
       "        vertical-align: top;\n",
       "    }\n",
       "\n",
       "    .dataframe thead th {\n",
       "        text-align: right;\n",
       "    }\n",
       "</style>\n",
       "<table border=\"1\" class=\"dataframe\">\n",
       "  <thead>\n",
       "    <tr style=\"text-align: right;\">\n",
       "      <th></th>\n",
       "      <th>event_timestamp</th>\n",
       "      <th>interaction_type</th>\n",
       "      <th>item_id</th>\n",
       "      <th>consumer_id</th>\n",
       "      <th>consumer_session_id</th>\n",
       "      <th>consumer_device_info</th>\n",
       "      <th>consumer_location</th>\n",
       "      <th>country</th>\n",
       "    </tr>\n",
       "  </thead>\n",
       "  <tbody>\n",
       "    <tr>\n",
       "      <th>0</th>\n",
       "      <td>1465413032</td>\n",
       "      <td>content_watched</td>\n",
       "      <td>-3499919498720038879</td>\n",
       "      <td>-8845298781299428018</td>\n",
       "      <td>1264196770339959068</td>\n",
       "      <td>NaN</td>\n",
       "      <td>NaN</td>\n",
       "      <td>NaN</td>\n",
       "    </tr>\n",
       "    <tr>\n",
       "      <th>1</th>\n",
       "      <td>1465412560</td>\n",
       "      <td>content_watched</td>\n",
       "      <td>8890720798209849691</td>\n",
       "      <td>-1032019229384696495</td>\n",
       "      <td>3621737643587579081</td>\n",
       "      <td>Mozilla/5.0 (Macintosh; Intel Mac OS X 10_11_2...</td>\n",
       "      <td>NY</td>\n",
       "      <td>US</td>\n",
       "    </tr>\n",
       "    <tr>\n",
       "      <th>2</th>\n",
       "      <td>1465416190</td>\n",
       "      <td>content_watched</td>\n",
       "      <td>310515487419366995</td>\n",
       "      <td>-1130272294246983140</td>\n",
       "      <td>2631864456530402479</td>\n",
       "      <td>NaN</td>\n",
       "      <td>NaN</td>\n",
       "      <td>NaN</td>\n",
       "    </tr>\n",
       "    <tr>\n",
       "      <th>3</th>\n",
       "      <td>1465413895</td>\n",
       "      <td>content_followed</td>\n",
       "      <td>310515487419366995</td>\n",
       "      <td>344280948527967603</td>\n",
       "      <td>-3167637573980064150</td>\n",
       "      <td>NaN</td>\n",
       "      <td>NaN</td>\n",
       "      <td>NaN</td>\n",
       "    </tr>\n",
       "    <tr>\n",
       "      <th>4</th>\n",
       "      <td>1465412290</td>\n",
       "      <td>content_watched</td>\n",
       "      <td>-7820640624231356730</td>\n",
       "      <td>-445337111692715325</td>\n",
       "      <td>561148 1178424124714</td>\n",
       "      <td>NaN</td>\n",
       "      <td>NaN</td>\n",
       "      <td>NaN</td>\n",
       "    </tr>\n",
       "  </tbody>\n",
       "</table>\n",
       "</div>"
      ],
      "text/plain": [
       "   event_timestamp  interaction_type              item_id  \\\n",
       "0       1465413032   content_watched -3499919498720038879   \n",
       "1       1465412560   content_watched  8890720798209849691   \n",
       "2       1465416190   content_watched   310515487419366995   \n",
       "3       1465413895  content_followed   310515487419366995   \n",
       "4       1465412290   content_watched -7820640624231356730   \n",
       "\n",
       "           consumer_id   consumer_session_id  \\\n",
       "0 -8845298781299428018   1264196770339959068   \n",
       "1 -1032019229384696495   3621737643587579081   \n",
       "2 -1130272294246983140   2631864456530402479   \n",
       "3   344280948527967603  -3167637573980064150   \n",
       "4  -445337111692715325  561148 1178424124714   \n",
       "\n",
       "                                consumer_device_info consumer_location country  \n",
       "0                                                NaN               NaN     NaN  \n",
       "1  Mozilla/5.0 (Macintosh; Intel Mac OS X 10_11_2...                NY      US  \n",
       "2                                                NaN               NaN     NaN  \n",
       "3                                                NaN               NaN     NaN  \n",
       "4                                                NaN               NaN     NaN  "
      ]
     },
     "execution_count": 11,
     "metadata": {},
     "output_type": "execute_result"
    }
   ],
   "source": [
    "# Check Shape & few rows\n",
    "\n",
    "consumer_trans = pd.read_csv(\"./data/consumer_transanctions.csv\")\n",
    "print(\"Shape of Dataset : {}\".format(consumer_trans.shape))\n",
    "\n",
    "consumer_trans.head()"
   ]
  },
  {
   "cell_type": "code",
   "execution_count": 12,
   "metadata": {
    "ExecuteTime": {
     "end_time": "2021-04-12T12:23:19.113279Z",
     "start_time": "2021-04-12T12:23:19.094804Z"
    }
   },
   "outputs": [
    {
     "data": {
      "text/html": [
       "<div>\n",
       "<style scoped>\n",
       "    .dataframe tbody tr th:only-of-type {\n",
       "        vertical-align: middle;\n",
       "    }\n",
       "\n",
       "    .dataframe tbody tr th {\n",
       "        vertical-align: top;\n",
       "    }\n",
       "\n",
       "    .dataframe thead th {\n",
       "        text-align: right;\n",
       "    }\n",
       "</style>\n",
       "<table border=\"1\" class=\"dataframe\">\n",
       "  <thead>\n",
       "    <tr style=\"text-align: right;\">\n",
       "      <th></th>\n",
       "      <th>event_timestamp</th>\n",
       "      <th>interaction_type</th>\n",
       "      <th>item_id</th>\n",
       "      <th>consumer_id</th>\n",
       "      <th>consumer_session_id</th>\n",
       "      <th>consumer_device_info</th>\n",
       "      <th>consumer_location</th>\n",
       "      <th>country</th>\n",
       "    </tr>\n",
       "  </thead>\n",
       "  <tbody>\n",
       "    <tr>\n",
       "      <th>72307</th>\n",
       "      <td>1485190425</td>\n",
       "      <td>content_liked</td>\n",
       "      <td>-6590819806697898649</td>\n",
       "      <td>-9016528795238256703</td>\n",
       "      <td>8614469745607949425</td>\n",
       "      <td>Mozilla/5.0 (Macintosh; Intel Mac OS X 10_11_4...</td>\n",
       "      <td>MG</td>\n",
       "      <td>BR</td>\n",
       "    </tr>\n",
       "    <tr>\n",
       "      <th>72308</th>\n",
       "      <td>1485190425</td>\n",
       "      <td>content_watched</td>\n",
       "      <td>-5813211845057621660</td>\n",
       "      <td>102305705598210278</td>\n",
       "      <td>5527770709392883642</td>\n",
       "      <td>Mozilla/5.0 (X11; Linux x86_64) AppleWebKit/53...</td>\n",
       "      <td>SP</td>\n",
       "      <td>BR</td>\n",
       "    </tr>\n",
       "    <tr>\n",
       "      <th>72309</th>\n",
       "      <td>1485190072</td>\n",
       "      <td>content_watched</td>\n",
       "      <td>-1999468346928419252</td>\n",
       "      <td>-9196668942822132778</td>\n",
       "      <td>-8300596454915870873</td>\n",
       "      <td>Mozilla/5.0 (Windows NT 10.0; Win64; x64) Appl...</td>\n",
       "      <td>SP</td>\n",
       "      <td>BR</td>\n",
       "    </tr>\n",
       "    <tr>\n",
       "      <th>72310</th>\n",
       "      <td>1485190434</td>\n",
       "      <td>content_watched</td>\n",
       "      <td>-6590819806697898649</td>\n",
       "      <td>-9016528795238256703</td>\n",
       "      <td>8614469745607949425</td>\n",
       "      <td>Mozilla/5.0 (Macintosh; Intel Mac OS X 10_11_4...</td>\n",
       "      <td>MG</td>\n",
       "      <td>BR</td>\n",
       "    </tr>\n",
       "    <tr>\n",
       "      <th>72311</th>\n",
       "      <td>1485187988</td>\n",
       "      <td>content_watched</td>\n",
       "      <td>5669290109546991426</td>\n",
       "      <td>5713241217519616260</td>\n",
       "      <td>6704552481483665372</td>\n",
       "      <td>Mozilla/5.0 (Windows NT 10.0; WOW64) AppleWebK...</td>\n",
       "      <td>MG</td>\n",
       "      <td>BR</td>\n",
       "    </tr>\n",
       "  </tbody>\n",
       "</table>\n",
       "</div>"
      ],
      "text/plain": [
       "       event_timestamp interaction_type              item_id  \\\n",
       "72307       1485190425    content_liked -6590819806697898649   \n",
       "72308       1485190425  content_watched -5813211845057621660   \n",
       "72309       1485190072  content_watched -1999468346928419252   \n",
       "72310       1485190434  content_watched -6590819806697898649   \n",
       "72311       1485187988  content_watched  5669290109546991426   \n",
       "\n",
       "               consumer_id   consumer_session_id  \\\n",
       "72307 -9016528795238256703   8614469745607949425   \n",
       "72308   102305705598210278   5527770709392883642   \n",
       "72309 -9196668942822132778  -8300596454915870873   \n",
       "72310 -9016528795238256703   8614469745607949425   \n",
       "72311  5713241217519616260   6704552481483665372   \n",
       "\n",
       "                                    consumer_device_info consumer_location  \\\n",
       "72307  Mozilla/5.0 (Macintosh; Intel Mac OS X 10_11_4...                MG   \n",
       "72308  Mozilla/5.0 (X11; Linux x86_64) AppleWebKit/53...                SP   \n",
       "72309  Mozilla/5.0 (Windows NT 10.0; Win64; x64) Appl...                SP   \n",
       "72310  Mozilla/5.0 (Macintosh; Intel Mac OS X 10_11_4...                MG   \n",
       "72311  Mozilla/5.0 (Windows NT 10.0; WOW64) AppleWebK...                MG   \n",
       "\n",
       "      country  \n",
       "72307      BR  \n",
       "72308      BR  \n",
       "72309      BR  \n",
       "72310      BR  \n",
       "72311      BR  "
      ]
     },
     "execution_count": 12,
     "metadata": {},
     "output_type": "execute_result"
    }
   ],
   "source": [
    "consumer_trans.tail()"
   ]
  },
  {
   "cell_type": "code",
   "execution_count": 13,
   "metadata": {
    "ExecuteTime": {
     "end_time": "2021-04-12T12:23:19.163062Z",
     "start_time": "2021-04-12T12:23:19.117093Z"
    }
   },
   "outputs": [
    {
     "name": "stdout",
     "output_type": "stream",
     "text": [
      "<class 'pandas.core.frame.DataFrame'>\n",
      "RangeIndex: 72312 entries, 0 to 72311\n",
      "Data columns (total 8 columns):\n",
      " #   Column                Non-Null Count  Dtype \n",
      "---  ------                --------------  ----- \n",
      " 0   event_timestamp       72312 non-null  int64 \n",
      " 1   interaction_type      72312 non-null  object\n",
      " 2   item_id               72312 non-null  int64 \n",
      " 3   consumer_id           72312 non-null  int64 \n",
      " 4   consumer_session_id   72312 non-null  object\n",
      " 5   consumer_device_info  56918 non-null  object\n",
      " 6   consumer_location     56907 non-null  object\n",
      " 7   country               56918 non-null  object\n",
      "dtypes: int64(3), object(5)\n",
      "memory usage: 4.4+ MB\n"
     ]
    }
   ],
   "source": [
    "# Check data-types & missing values\n",
    "\n",
    "consumer_trans.info()"
   ]
  },
  {
   "cell_type": "markdown",
   "metadata": {},
   "source": [
    "#### Note : \n",
    "- Cosumer Session ID is an object instead of Integer. There can be some data discripency."
   ]
  },
  {
   "cell_type": "code",
   "execution_count": 14,
   "metadata": {
    "ExecuteTime": {
     "end_time": "2021-04-12T12:23:19.245706Z",
     "start_time": "2021-04-12T12:23:19.166487Z"
    }
   },
   "outputs": [
    {
     "data": {
      "text/html": [
       "<div>\n",
       "<style scoped>\n",
       "    .dataframe tbody tr th:only-of-type {\n",
       "        vertical-align: middle;\n",
       "    }\n",
       "\n",
       "    .dataframe tbody tr th {\n",
       "        vertical-align: top;\n",
       "    }\n",
       "\n",
       "    .dataframe thead th {\n",
       "        text-align: right;\n",
       "    }\n",
       "</style>\n",
       "<table border=\"1\" class=\"dataframe\">\n",
       "  <thead>\n",
       "    <tr style=\"text-align: right;\">\n",
       "      <th></th>\n",
       "      <th>% of Missing Values</th>\n",
       "    </tr>\n",
       "  </thead>\n",
       "  <tbody>\n",
       "    <tr>\n",
       "      <th>consumer_location</th>\n",
       "      <td>21.30</td>\n",
       "    </tr>\n",
       "    <tr>\n",
       "      <th>consumer_device_info</th>\n",
       "      <td>21.29</td>\n",
       "    </tr>\n",
       "    <tr>\n",
       "      <th>country</th>\n",
       "      <td>21.29</td>\n",
       "    </tr>\n",
       "    <tr>\n",
       "      <th>event_timestamp</th>\n",
       "      <td>0.00</td>\n",
       "    </tr>\n",
       "    <tr>\n",
       "      <th>interaction_type</th>\n",
       "      <td>0.00</td>\n",
       "    </tr>\n",
       "    <tr>\n",
       "      <th>item_id</th>\n",
       "      <td>0.00</td>\n",
       "    </tr>\n",
       "    <tr>\n",
       "      <th>consumer_id</th>\n",
       "      <td>0.00</td>\n",
       "    </tr>\n",
       "    <tr>\n",
       "      <th>consumer_session_id</th>\n",
       "      <td>0.00</td>\n",
       "    </tr>\n",
       "  </tbody>\n",
       "</table>\n",
       "</div>"
      ],
      "text/plain": [
       "                      % of Missing Values\n",
       "consumer_location                   21.30\n",
       "consumer_device_info                21.29\n",
       "country                             21.29\n",
       "event_timestamp                      0.00\n",
       "interaction_type                     0.00\n",
       "item_id                              0.00\n",
       "consumer_id                          0.00\n",
       "consumer_session_id                  0.00"
      ]
     },
     "execution_count": 14,
     "metadata": {},
     "output_type": "execute_result"
    }
   ],
   "source": [
    "# Check Missing values in terms of Percentage\n",
    "\n",
    "pd.DataFrame(data={'% of Missing Values':round(consumer_trans.isnull().sum()/consumer_trans.isnull().count()*100,2)\n",
    "                  }).sort_values(by='% of Missing Values',ascending=False)"
   ]
  },
  {
   "cell_type": "code",
   "execution_count": 15,
   "metadata": {
    "ExecuteTime": {
     "end_time": "2021-04-12T12:23:19.305230Z",
     "start_time": "2021-04-12T12:23:19.250662Z"
    }
   },
   "outputs": [
    {
     "data": {
      "text/plain": [
       "event_timestamp         68772\n",
       "interaction_type            5\n",
       "item_id                  2987\n",
       "consumer_id              1895\n",
       "consumer_session_id     28909\n",
       "consumer_device_info     1090\n",
       "consumer_location          71\n",
       "country                    23\n",
       "dtype: int64"
      ]
     },
     "execution_count": 15,
     "metadata": {},
     "output_type": "execute_result"
    }
   ],
   "source": [
    "# Check Unique values in all the columns\n",
    "consumer_trans.nunique()"
   ]
  },
  {
   "cell_type": "code",
   "execution_count": 16,
   "metadata": {
    "ExecuteTime": {
     "end_time": "2021-04-12T12:23:19.354271Z",
     "start_time": "2021-04-12T12:23:19.308350Z"
    }
   },
   "outputs": [
    {
     "data": {
      "text/html": [
       "<div>\n",
       "<style scoped>\n",
       "    .dataframe tbody tr th:only-of-type {\n",
       "        vertical-align: middle;\n",
       "    }\n",
       "\n",
       "    .dataframe tbody tr th {\n",
       "        vertical-align: top;\n",
       "    }\n",
       "\n",
       "    .dataframe thead th {\n",
       "        text-align: right;\n",
       "    }\n",
       "</style>\n",
       "<table border=\"1\" class=\"dataframe\">\n",
       "  <thead>\n",
       "    <tr style=\"text-align: right;\">\n",
       "      <th></th>\n",
       "      <th>count</th>\n",
       "      <th>mean</th>\n",
       "      <th>std</th>\n",
       "      <th>min</th>\n",
       "      <th>25%</th>\n",
       "      <th>50%</th>\n",
       "      <th>75%</th>\n",
       "      <th>max</th>\n",
       "    </tr>\n",
       "  </thead>\n",
       "  <tbody>\n",
       "    <tr>\n",
       "      <th>event_timestamp</th>\n",
       "      <td>72312.0</td>\n",
       "      <td>1.470103e+09</td>\n",
       "      <td>7.258130e+06</td>\n",
       "      <td>1.457964e+09</td>\n",
       "      <td>1.464876e+09</td>\n",
       "      <td>1.468343e+09</td>\n",
       "      <td>1.474461e+09</td>\n",
       "      <td>1.488310e+09</td>\n",
       "    </tr>\n",
       "    <tr>\n",
       "      <th>item_id</th>\n",
       "      <td>72312.0</td>\n",
       "      <td>-3.033423e+16</td>\n",
       "      <td>5.344755e+18</td>\n",
       "      <td>-9.222795e+18</td>\n",
       "      <td>-4.726309e+18</td>\n",
       "      <td>1.893099e+16</td>\n",
       "      <td>4.441012e+18</td>\n",
       "      <td>9.222265e+18</td>\n",
       "    </tr>\n",
       "    <tr>\n",
       "      <th>consumer_id</th>\n",
       "      <td>72312.0</td>\n",
       "      <td>1.252026e+16</td>\n",
       "      <td>5.022333e+18</td>\n",
       "      <td>-9.223122e+18</td>\n",
       "      <td>-3.596627e+18</td>\n",
       "      <td>-1.088422e+17</td>\n",
       "      <td>3.766319e+18</td>\n",
       "      <td>9.210531e+18</td>\n",
       "    </tr>\n",
       "  </tbody>\n",
       "</table>\n",
       "</div>"
      ],
      "text/plain": [
       "                   count          mean           std           min  \\\n",
       "event_timestamp  72312.0  1.470103e+09  7.258130e+06  1.457964e+09   \n",
       "item_id          72312.0 -3.033423e+16  5.344755e+18 -9.222795e+18   \n",
       "consumer_id      72312.0  1.252026e+16  5.022333e+18 -9.223122e+18   \n",
       "\n",
       "                          25%           50%           75%           max  \n",
       "event_timestamp  1.464876e+09  1.468343e+09  1.474461e+09  1.488310e+09  \n",
       "item_id         -4.726309e+18  1.893099e+16  4.441012e+18  9.222265e+18  \n",
       "consumer_id     -3.596627e+18 -1.088422e+17  3.766319e+18  9.210531e+18  "
      ]
     },
     "execution_count": 16,
     "metadata": {},
     "output_type": "execute_result"
    }
   ],
   "source": [
    "# Describe stats for Numerical Columns\n",
    "consumer_trans.describe().T"
   ]
  },
  {
   "cell_type": "code",
   "execution_count": 17,
   "metadata": {
    "ExecuteTime": {
     "end_time": "2021-04-12T12:23:19.525543Z",
     "start_time": "2021-04-12T12:23:19.357685Z"
    }
   },
   "outputs": [
    {
     "data": {
      "text/html": [
       "<div>\n",
       "<style scoped>\n",
       "    .dataframe tbody tr th:only-of-type {\n",
       "        vertical-align: middle;\n",
       "    }\n",
       "\n",
       "    .dataframe tbody tr th {\n",
       "        vertical-align: top;\n",
       "    }\n",
       "\n",
       "    .dataframe thead th {\n",
       "        text-align: right;\n",
       "    }\n",
       "</style>\n",
       "<table border=\"1\" class=\"dataframe\">\n",
       "  <thead>\n",
       "    <tr style=\"text-align: right;\">\n",
       "      <th></th>\n",
       "      <th>count</th>\n",
       "      <th>unique</th>\n",
       "      <th>top</th>\n",
       "      <th>freq</th>\n",
       "    </tr>\n",
       "  </thead>\n",
       "  <tbody>\n",
       "    <tr>\n",
       "      <th>interaction_type</th>\n",
       "      <td>72312</td>\n",
       "      <td>5</td>\n",
       "      <td>content_watched</td>\n",
       "      <td>61086</td>\n",
       "    </tr>\n",
       "    <tr>\n",
       "      <th>consumer_session_id</th>\n",
       "      <td>72312</td>\n",
       "      <td>28909</td>\n",
       "      <td>-1424527253526269635</td>\n",
       "      <td>182</td>\n",
       "    </tr>\n",
       "    <tr>\n",
       "      <th>consumer_device_info</th>\n",
       "      <td>56918</td>\n",
       "      <td>1090</td>\n",
       "      <td>Android - Native Mobile App</td>\n",
       "      <td>6761</td>\n",
       "    </tr>\n",
       "    <tr>\n",
       "      <th>consumer_location</th>\n",
       "      <td>56907</td>\n",
       "      <td>71</td>\n",
       "      <td>SP</td>\n",
       "      <td>40164</td>\n",
       "    </tr>\n",
       "    <tr>\n",
       "      <th>country</th>\n",
       "      <td>56918</td>\n",
       "      <td>23</td>\n",
       "      <td>BR</td>\n",
       "      <td>51396</td>\n",
       "    </tr>\n",
       "  </tbody>\n",
       "</table>\n",
       "</div>"
      ],
      "text/plain": [
       "                      count unique                          top   freq\n",
       "interaction_type      72312      5              content_watched  61086\n",
       "consumer_session_id   72312  28909         -1424527253526269635    182\n",
       "consumer_device_info  56918   1090  Android - Native Mobile App   6761\n",
       "consumer_location     56907     71                           SP  40164\n",
       "country               56918     23                           BR  51396"
      ]
     },
     "execution_count": 17,
     "metadata": {},
     "output_type": "execute_result"
    }
   ],
   "source": [
    "# Describe states for Categorical/Object Columns\n",
    "consumer_trans.describe(include=['object']).T"
   ]
  },
  {
   "cell_type": "code",
   "execution_count": 18,
   "metadata": {
    "ExecuteTime": {
     "end_time": "2021-04-12T12:23:19.681440Z",
     "start_time": "2021-04-12T12:23:19.529310Z"
    }
   },
   "outputs": [
    {
     "name": "stdout",
     "output_type": "stream",
     "text": [
      "Number of Duplicated Rows : (11, 8)\n"
     ]
    },
    {
     "data": {
      "text/html": [
       "<div>\n",
       "<style scoped>\n",
       "    .dataframe tbody tr th:only-of-type {\n",
       "        vertical-align: middle;\n",
       "    }\n",
       "\n",
       "    .dataframe tbody tr th {\n",
       "        vertical-align: top;\n",
       "    }\n",
       "\n",
       "    .dataframe thead th {\n",
       "        text-align: right;\n",
       "    }\n",
       "</style>\n",
       "<table border=\"1\" class=\"dataframe\">\n",
       "  <thead>\n",
       "    <tr style=\"text-align: right;\">\n",
       "      <th></th>\n",
       "      <th>event_timestamp</th>\n",
       "      <th>interaction_type</th>\n",
       "      <th>item_id</th>\n",
       "      <th>consumer_id</th>\n",
       "      <th>consumer_session_id</th>\n",
       "      <th>consumer_device_info</th>\n",
       "      <th>consumer_location</th>\n",
       "      <th>country</th>\n",
       "    </tr>\n",
       "  </thead>\n",
       "  <tbody>\n",
       "    <tr>\n",
       "      <th>17376</th>\n",
       "      <td>1465600565</td>\n",
       "      <td>content_watched</td>\n",
       "      <td>-1101832997669013246</td>\n",
       "      <td>-6067316262393890508</td>\n",
       "      <td>-3337777501960829854</td>\n",
       "      <td>Android - Native Mobile App</td>\n",
       "      <td>SP</td>\n",
       "      <td>BR</td>\n",
       "    </tr>\n",
       "    <tr>\n",
       "      <th>34216</th>\n",
       "      <td>1468546087</td>\n",
       "      <td>content_watched</td>\n",
       "      <td>-7570652411388243006</td>\n",
       "      <td>8261378399174507610</td>\n",
       "      <td>-8130087990388931002</td>\n",
       "      <td>Android - Native Mobile App</td>\n",
       "      <td>SP</td>\n",
       "      <td>BR</td>\n",
       "    </tr>\n",
       "    <tr>\n",
       "      <th>38161</th>\n",
       "      <td>1468686847</td>\n",
       "      <td>content_watched</td>\n",
       "      <td>-1596335233529956315</td>\n",
       "      <td>4209517478660372522</td>\n",
       "      <td>-7907915538056273545</td>\n",
       "      <td>Android - Native Mobile App</td>\n",
       "      <td>SP</td>\n",
       "      <td>BR</td>\n",
       "    </tr>\n",
       "    <tr>\n",
       "      <th>39900</th>\n",
       "      <td>1470014443</td>\n",
       "      <td>content_watched</td>\n",
       "      <td>-8254222281357012124</td>\n",
       "      <td>8872819156169667456</td>\n",
       "      <td>-1543861209543571797</td>\n",
       "      <td>Android - Native Mobile App</td>\n",
       "      <td>SP</td>\n",
       "      <td>BR</td>\n",
       "    </tr>\n",
       "    <tr>\n",
       "      <th>40827</th>\n",
       "      <td>1470429814</td>\n",
       "      <td>content_watched</td>\n",
       "      <td>-6394075099886393346</td>\n",
       "      <td>5621833459783231486</td>\n",
       "      <td>-3639195041594850894</td>\n",
       "      <td>Android - Native Mobile App</td>\n",
       "      <td>MG</td>\n",
       "      <td>BR</td>\n",
       "    </tr>\n",
       "    <tr>\n",
       "      <th>42207</th>\n",
       "      <td>1469023286</td>\n",
       "      <td>content_watched</td>\n",
       "      <td>-8369610219380465981</td>\n",
       "      <td>3636910968448833585</td>\n",
       "      <td>-2391545252578053179</td>\n",
       "      <td>Android - Native Mobile App</td>\n",
       "      <td>TX</td>\n",
       "      <td>US</td>\n",
       "    </tr>\n",
       "    <tr>\n",
       "      <th>42661</th>\n",
       "      <td>1468862429</td>\n",
       "      <td>content_watched</td>\n",
       "      <td>7459643459148487877</td>\n",
       "      <td>-1443636648652872475</td>\n",
       "      <td>7279439813291705808</td>\n",
       "      <td>Android - Native Mobile App</td>\n",
       "      <td>SP</td>\n",
       "      <td>BR</td>\n",
       "    </tr>\n",
       "    <tr>\n",
       "      <th>43647</th>\n",
       "      <td>1470408237</td>\n",
       "      <td>content_watched</td>\n",
       "      <td>-8512461968928613053</td>\n",
       "      <td>-5380862725077089346</td>\n",
       "      <td>2703462416451811917</td>\n",
       "      <td>Android - Native Mobile App</td>\n",
       "      <td>SP</td>\n",
       "      <td>BR</td>\n",
       "    </tr>\n",
       "    <tr>\n",
       "      <th>46257</th>\n",
       "      <td>1471350218</td>\n",
       "      <td>content_watched</td>\n",
       "      <td>8482750322470893687</td>\n",
       "      <td>2542290381109225938</td>\n",
       "      <td>6842640776615996899</td>\n",
       "      <td>Android - Native Mobile App</td>\n",
       "      <td>SP</td>\n",
       "      <td>BR</td>\n",
       "    </tr>\n",
       "    <tr>\n",
       "      <th>63559</th>\n",
       "      <td>1480903939</td>\n",
       "      <td>content_watched</td>\n",
       "      <td>-6765871608738223618</td>\n",
       "      <td>8745559424774781326</td>\n",
       "      <td>-4700354216257792536</td>\n",
       "      <td>Mozilla/5.0 (Macintosh; Intel Mac OS X 10_11_6...</td>\n",
       "      <td>13</td>\n",
       "      <td>JP</td>\n",
       "    </tr>\n",
       "    <tr>\n",
       "      <th>71764</th>\n",
       "      <td>1483709706</td>\n",
       "      <td>content_watched</td>\n",
       "      <td>6642437212220341339</td>\n",
       "      <td>2279740393166882579</td>\n",
       "      <td>-7851201202289493991</td>\n",
       "      <td>Android - Native Mobile App</td>\n",
       "      <td>SP</td>\n",
       "      <td>BR</td>\n",
       "    </tr>\n",
       "  </tbody>\n",
       "</table>\n",
       "</div>"
      ],
      "text/plain": [
       "       event_timestamp interaction_type              item_id  \\\n",
       "17376       1465600565  content_watched -1101832997669013246   \n",
       "34216       1468546087  content_watched -7570652411388243006   \n",
       "38161       1468686847  content_watched -1596335233529956315   \n",
       "39900       1470014443  content_watched -8254222281357012124   \n",
       "40827       1470429814  content_watched -6394075099886393346   \n",
       "42207       1469023286  content_watched -8369610219380465981   \n",
       "42661       1468862429  content_watched  7459643459148487877   \n",
       "43647       1470408237  content_watched -8512461968928613053   \n",
       "46257       1471350218  content_watched  8482750322470893687   \n",
       "63559       1480903939  content_watched -6765871608738223618   \n",
       "71764       1483709706  content_watched  6642437212220341339   \n",
       "\n",
       "               consumer_id   consumer_session_id  \\\n",
       "17376 -6067316262393890508  -3337777501960829854   \n",
       "34216  8261378399174507610  -8130087990388931002   \n",
       "38161  4209517478660372522  -7907915538056273545   \n",
       "39900  8872819156169667456  -1543861209543571797   \n",
       "40827  5621833459783231486  -3639195041594850894   \n",
       "42207  3636910968448833585  -2391545252578053179   \n",
       "42661 -1443636648652872475   7279439813291705808   \n",
       "43647 -5380862725077089346   2703462416451811917   \n",
       "46257  2542290381109225938   6842640776615996899   \n",
       "63559  8745559424774781326  -4700354216257792536   \n",
       "71764  2279740393166882579  -7851201202289493991   \n",
       "\n",
       "                                    consumer_device_info consumer_location  \\\n",
       "17376                        Android - Native Mobile App                SP   \n",
       "34216                        Android - Native Mobile App                SP   \n",
       "38161                        Android - Native Mobile App                SP   \n",
       "39900                        Android - Native Mobile App                SP   \n",
       "40827                        Android - Native Mobile App                MG   \n",
       "42207                        Android - Native Mobile App                TX   \n",
       "42661                        Android - Native Mobile App                SP   \n",
       "43647                        Android - Native Mobile App                SP   \n",
       "46257                        Android - Native Mobile App                SP   \n",
       "63559  Mozilla/5.0 (Macintosh; Intel Mac OS X 10_11_6...                13   \n",
       "71764                        Android - Native Mobile App                SP   \n",
       "\n",
       "      country  \n",
       "17376      BR  \n",
       "34216      BR  \n",
       "38161      BR  \n",
       "39900      BR  \n",
       "40827      BR  \n",
       "42207      US  \n",
       "42661      BR  \n",
       "43647      BR  \n",
       "46257      BR  \n",
       "63559      JP  \n",
       "71764      BR  "
      ]
     },
     "execution_count": 18,
     "metadata": {},
     "output_type": "execute_result"
    }
   ],
   "source": [
    "# Check for Duplicates \n",
    "\n",
    "print(\"Number of Duplicated Rows : {}\".format(consumer_trans[consumer_trans.duplicated()].shape))\n",
    "consumer_trans[consumer_trans.duplicated()]"
   ]
  },
  {
   "cell_type": "markdown",
   "metadata": {},
   "source": [
    "#### Note : \n",
    "\n",
    "1. The describe function showed minimum values for few columns to be negative. \n",
    "2. Also, duplicates where seen in the dataset.\n",
    "3. Based on this, I decide to convert negative values to positive values by take absolute & recheck for duplicates.\n",
    "4. This would help us create a consistent dataset"
   ]
  },
  {
   "cell_type": "code",
   "execution_count": 19,
   "metadata": {
    "ExecuteTime": {
     "end_time": "2021-04-12T12:23:19.692977Z",
     "start_time": "2021-04-12T12:23:19.686418Z"
    }
   },
   "outputs": [],
   "source": [
    "# Convert Columns to Absolute Values\n",
    "\n",
    "consumer_trans['item_id'] = consumer_trans['item_id'].abs()\n",
    "consumer_trans['consumer_id'] = consumer_trans['consumer_id'].abs()"
   ]
  },
  {
   "cell_type": "code",
   "execution_count": 20,
   "metadata": {
    "ExecuteTime": {
     "end_time": "2021-04-12T12:23:19.742776Z",
     "start_time": "2021-04-12T12:23:19.696941Z"
    }
   },
   "outputs": [
    {
     "name": "stdout",
     "output_type": "stream",
     "text": [
      "<class 'pandas.core.frame.DataFrame'>\n",
      "RangeIndex: 72312 entries, 0 to 72311\n",
      "Data columns (total 8 columns):\n",
      " #   Column                Non-Null Count  Dtype \n",
      "---  ------                --------------  ----- \n",
      " 0   event_timestamp       72312 non-null  int64 \n",
      " 1   interaction_type      72312 non-null  object\n",
      " 2   item_id               72312 non-null  int64 \n",
      " 3   consumer_id           72312 non-null  int64 \n",
      " 4   consumer_session_id   72312 non-null  object\n",
      " 5   consumer_device_info  56918 non-null  object\n",
      " 6   consumer_location     56907 non-null  object\n",
      " 7   country               56918 non-null  object\n",
      "dtypes: int64(3), object(5)\n",
      "memory usage: 4.4+ MB\n"
     ]
    }
   ],
   "source": [
    "consumer_trans.info()"
   ]
  },
  {
   "cell_type": "code",
   "execution_count": 21,
   "metadata": {
    "ExecuteTime": {
     "end_time": "2021-04-12T12:23:19.908520Z",
     "start_time": "2021-04-12T12:23:19.756703Z"
    }
   },
   "outputs": [
    {
     "name": "stdout",
     "output_type": "stream",
     "text": [
      "Number of Duplicated Rows : (11, 8)\n"
     ]
    },
    {
     "data": {
      "text/html": [
       "<div>\n",
       "<style scoped>\n",
       "    .dataframe tbody tr th:only-of-type {\n",
       "        vertical-align: middle;\n",
       "    }\n",
       "\n",
       "    .dataframe tbody tr th {\n",
       "        vertical-align: top;\n",
       "    }\n",
       "\n",
       "    .dataframe thead th {\n",
       "        text-align: right;\n",
       "    }\n",
       "</style>\n",
       "<table border=\"1\" class=\"dataframe\">\n",
       "  <thead>\n",
       "    <tr style=\"text-align: right;\">\n",
       "      <th></th>\n",
       "      <th>event_timestamp</th>\n",
       "      <th>interaction_type</th>\n",
       "      <th>item_id</th>\n",
       "      <th>consumer_id</th>\n",
       "      <th>consumer_session_id</th>\n",
       "      <th>consumer_device_info</th>\n",
       "      <th>consumer_location</th>\n",
       "      <th>country</th>\n",
       "    </tr>\n",
       "  </thead>\n",
       "  <tbody>\n",
       "    <tr>\n",
       "      <th>17376</th>\n",
       "      <td>1465600565</td>\n",
       "      <td>content_watched</td>\n",
       "      <td>1101832997669013246</td>\n",
       "      <td>6067316262393890508</td>\n",
       "      <td>-3337777501960829854</td>\n",
       "      <td>Android - Native Mobile App</td>\n",
       "      <td>SP</td>\n",
       "      <td>BR</td>\n",
       "    </tr>\n",
       "    <tr>\n",
       "      <th>34216</th>\n",
       "      <td>1468546087</td>\n",
       "      <td>content_watched</td>\n",
       "      <td>7570652411388243006</td>\n",
       "      <td>8261378399174507610</td>\n",
       "      <td>-8130087990388931002</td>\n",
       "      <td>Android - Native Mobile App</td>\n",
       "      <td>SP</td>\n",
       "      <td>BR</td>\n",
       "    </tr>\n",
       "    <tr>\n",
       "      <th>38161</th>\n",
       "      <td>1468686847</td>\n",
       "      <td>content_watched</td>\n",
       "      <td>1596335233529956315</td>\n",
       "      <td>4209517478660372522</td>\n",
       "      <td>-7907915538056273545</td>\n",
       "      <td>Android - Native Mobile App</td>\n",
       "      <td>SP</td>\n",
       "      <td>BR</td>\n",
       "    </tr>\n",
       "    <tr>\n",
       "      <th>39900</th>\n",
       "      <td>1470014443</td>\n",
       "      <td>content_watched</td>\n",
       "      <td>8254222281357012124</td>\n",
       "      <td>8872819156169667456</td>\n",
       "      <td>-1543861209543571797</td>\n",
       "      <td>Android - Native Mobile App</td>\n",
       "      <td>SP</td>\n",
       "      <td>BR</td>\n",
       "    </tr>\n",
       "    <tr>\n",
       "      <th>40827</th>\n",
       "      <td>1470429814</td>\n",
       "      <td>content_watched</td>\n",
       "      <td>6394075099886393346</td>\n",
       "      <td>5621833459783231486</td>\n",
       "      <td>-3639195041594850894</td>\n",
       "      <td>Android - Native Mobile App</td>\n",
       "      <td>MG</td>\n",
       "      <td>BR</td>\n",
       "    </tr>\n",
       "    <tr>\n",
       "      <th>42207</th>\n",
       "      <td>1469023286</td>\n",
       "      <td>content_watched</td>\n",
       "      <td>8369610219380465981</td>\n",
       "      <td>3636910968448833585</td>\n",
       "      <td>-2391545252578053179</td>\n",
       "      <td>Android - Native Mobile App</td>\n",
       "      <td>TX</td>\n",
       "      <td>US</td>\n",
       "    </tr>\n",
       "    <tr>\n",
       "      <th>42661</th>\n",
       "      <td>1468862429</td>\n",
       "      <td>content_watched</td>\n",
       "      <td>7459643459148487877</td>\n",
       "      <td>1443636648652872475</td>\n",
       "      <td>7279439813291705808</td>\n",
       "      <td>Android - Native Mobile App</td>\n",
       "      <td>SP</td>\n",
       "      <td>BR</td>\n",
       "    </tr>\n",
       "    <tr>\n",
       "      <th>43647</th>\n",
       "      <td>1470408237</td>\n",
       "      <td>content_watched</td>\n",
       "      <td>8512461968928613053</td>\n",
       "      <td>5380862725077089346</td>\n",
       "      <td>2703462416451811917</td>\n",
       "      <td>Android - Native Mobile App</td>\n",
       "      <td>SP</td>\n",
       "      <td>BR</td>\n",
       "    </tr>\n",
       "    <tr>\n",
       "      <th>46257</th>\n",
       "      <td>1471350218</td>\n",
       "      <td>content_watched</td>\n",
       "      <td>8482750322470893687</td>\n",
       "      <td>2542290381109225938</td>\n",
       "      <td>6842640776615996899</td>\n",
       "      <td>Android - Native Mobile App</td>\n",
       "      <td>SP</td>\n",
       "      <td>BR</td>\n",
       "    </tr>\n",
       "    <tr>\n",
       "      <th>63559</th>\n",
       "      <td>1480903939</td>\n",
       "      <td>content_watched</td>\n",
       "      <td>6765871608738223618</td>\n",
       "      <td>8745559424774781326</td>\n",
       "      <td>-4700354216257792536</td>\n",
       "      <td>Mozilla/5.0 (Macintosh; Intel Mac OS X 10_11_6...</td>\n",
       "      <td>13</td>\n",
       "      <td>JP</td>\n",
       "    </tr>\n",
       "    <tr>\n",
       "      <th>71764</th>\n",
       "      <td>1483709706</td>\n",
       "      <td>content_watched</td>\n",
       "      <td>6642437212220341339</td>\n",
       "      <td>2279740393166882579</td>\n",
       "      <td>-7851201202289493991</td>\n",
       "      <td>Android - Native Mobile App</td>\n",
       "      <td>SP</td>\n",
       "      <td>BR</td>\n",
       "    </tr>\n",
       "  </tbody>\n",
       "</table>\n",
       "</div>"
      ],
      "text/plain": [
       "       event_timestamp interaction_type              item_id  \\\n",
       "17376       1465600565  content_watched  1101832997669013246   \n",
       "34216       1468546087  content_watched  7570652411388243006   \n",
       "38161       1468686847  content_watched  1596335233529956315   \n",
       "39900       1470014443  content_watched  8254222281357012124   \n",
       "40827       1470429814  content_watched  6394075099886393346   \n",
       "42207       1469023286  content_watched  8369610219380465981   \n",
       "42661       1468862429  content_watched  7459643459148487877   \n",
       "43647       1470408237  content_watched  8512461968928613053   \n",
       "46257       1471350218  content_watched  8482750322470893687   \n",
       "63559       1480903939  content_watched  6765871608738223618   \n",
       "71764       1483709706  content_watched  6642437212220341339   \n",
       "\n",
       "               consumer_id   consumer_session_id  \\\n",
       "17376  6067316262393890508  -3337777501960829854   \n",
       "34216  8261378399174507610  -8130087990388931002   \n",
       "38161  4209517478660372522  -7907915538056273545   \n",
       "39900  8872819156169667456  -1543861209543571797   \n",
       "40827  5621833459783231486  -3639195041594850894   \n",
       "42207  3636910968448833585  -2391545252578053179   \n",
       "42661  1443636648652872475   7279439813291705808   \n",
       "43647  5380862725077089346   2703462416451811917   \n",
       "46257  2542290381109225938   6842640776615996899   \n",
       "63559  8745559424774781326  -4700354216257792536   \n",
       "71764  2279740393166882579  -7851201202289493991   \n",
       "\n",
       "                                    consumer_device_info consumer_location  \\\n",
       "17376                        Android - Native Mobile App                SP   \n",
       "34216                        Android - Native Mobile App                SP   \n",
       "38161                        Android - Native Mobile App                SP   \n",
       "39900                        Android - Native Mobile App                SP   \n",
       "40827                        Android - Native Mobile App                MG   \n",
       "42207                        Android - Native Mobile App                TX   \n",
       "42661                        Android - Native Mobile App                SP   \n",
       "43647                        Android - Native Mobile App                SP   \n",
       "46257                        Android - Native Mobile App                SP   \n",
       "63559  Mozilla/5.0 (Macintosh; Intel Mac OS X 10_11_6...                13   \n",
       "71764                        Android - Native Mobile App                SP   \n",
       "\n",
       "      country  \n",
       "17376      BR  \n",
       "34216      BR  \n",
       "38161      BR  \n",
       "39900      BR  \n",
       "40827      BR  \n",
       "42207      US  \n",
       "42661      BR  \n",
       "43647      BR  \n",
       "46257      BR  \n",
       "63559      JP  \n",
       "71764      BR  "
      ]
     },
     "execution_count": 21,
     "metadata": {},
     "output_type": "execute_result"
    }
   ],
   "source": [
    "# Check for Duplicates Again\n",
    "\n",
    "print(\"Number of Duplicated Rows : {}\".format(consumer_trans[consumer_trans.duplicated()].shape))\n",
    "consumer_trans[consumer_trans.duplicated()]"
   ]
  },
  {
   "cell_type": "code",
   "execution_count": 22,
   "metadata": {
    "ExecuteTime": {
     "end_time": "2021-04-12T12:23:20.069406Z",
     "start_time": "2021-04-12T12:23:19.917201Z"
    }
   },
   "outputs": [
    {
     "name": "stdout",
     "output_type": "stream",
     "text": [
      "Previous Dataset Size : (72312, 8)\n",
      "After Removing Duplicates Size : (72301, 8)\n"
     ]
    },
    {
     "data": {
      "text/html": [
       "<div>\n",
       "<style scoped>\n",
       "    .dataframe tbody tr th:only-of-type {\n",
       "        vertical-align: middle;\n",
       "    }\n",
       "\n",
       "    .dataframe tbody tr th {\n",
       "        vertical-align: top;\n",
       "    }\n",
       "\n",
       "    .dataframe thead th {\n",
       "        text-align: right;\n",
       "    }\n",
       "</style>\n",
       "<table border=\"1\" class=\"dataframe\">\n",
       "  <thead>\n",
       "    <tr style=\"text-align: right;\">\n",
       "      <th></th>\n",
       "      <th>event_timestamp</th>\n",
       "      <th>interaction_type</th>\n",
       "      <th>item_id</th>\n",
       "      <th>consumer_id</th>\n",
       "      <th>consumer_session_id</th>\n",
       "      <th>consumer_device_info</th>\n",
       "      <th>consumer_location</th>\n",
       "      <th>country</th>\n",
       "    </tr>\n",
       "  </thead>\n",
       "  <tbody>\n",
       "  </tbody>\n",
       "</table>\n",
       "</div>"
      ],
      "text/plain": [
       "Empty DataFrame\n",
       "Columns: [event_timestamp, interaction_type, item_id, consumer_id, consumer_session_id, consumer_device_info, consumer_location, country]\n",
       "Index: []"
      ]
     },
     "execution_count": 22,
     "metadata": {},
     "output_type": "execute_result"
    }
   ],
   "source": [
    "# Remove Duplicated Values \n",
    "print(\"Previous Dataset Size : {}\".format(consumer_trans.shape))\n",
    "\n",
    "consumer_trans = consumer_trans[~consumer_trans.duplicated()]\n",
    "\n",
    "print(\"After Removing Duplicates Size : {}\".format(consumer_trans.shape))\n",
    "\n",
    "# Check Duplicates Again\n",
    "consumer_trans[consumer_trans.duplicated()]"
   ]
  },
  {
   "cell_type": "markdown",
   "metadata": {},
   "source": [
    "#### Note :\n",
    "\n",
    "1. As we see that there are still same duplicates, we can make conclude safely that the above transformation for Absolute is valid\n",
    "2. I also go forward and remove the duplicate values"
   ]
  },
  {
   "cell_type": "markdown",
   "metadata": {},
   "source": [
    "#### Observations from the Consumer Transaction Content\n",
    "\n",
    "1. The dataset is bigger than the platform dataset , which is logical\n",
    "2. Few colums have ~20% missing values in categoring columns, we might need to think if these can be imputed.\n",
    "3. We also checked for unique values and removed duplicate values.\n",
    "4. We also converted some columns to absolute values safely."
   ]
  },
  {
   "cell_type": "markdown",
   "metadata": {},
   "source": [
    "## Exploratory Data Analysis for Platform Content"
   ]
  },
  {
   "cell_type": "code",
   "execution_count": 23,
   "metadata": {
    "ExecuteTime": {
     "end_time": "2021-04-12T12:23:20.088380Z",
     "start_time": "2021-04-12T12:23:20.072799Z"
    }
   },
   "outputs": [],
   "source": [
    "# While doing uni-variate analysis of numerical variables we want to study their central tendency\n",
    "# and dispersion.\n",
    "# Let us write a function that will help us create boxplot and histogram for any input numerical\n",
    "# variable.\n",
    "# This function takes the numerical column as the input and returns the boxplots\n",
    "# and histograms for the variable.\n",
    "# Let us see if this help us write faster and cleaner code.\n",
    "def histogram_boxplot(feature, figsize=(15, 10), bins=None):\n",
    "    \"\"\"Boxplot and histogram combined\n",
    "    feature: 1-d feature array\n",
    "    figsize: size of fig (default (9,8))\n",
    "    bins: number of bins (default None / auto)\n",
    "    \"\"\"\n",
    "    f2, (ax_box2, ax_hist2) = plt.subplots(\n",
    "        nrows=2,  # Number of rows of the subplot grid= 2\n",
    "        sharex=True,  # x-axis will be shared among all subplots\n",
    "        gridspec_kw={\"height_ratios\": (0.25, 0.75)},\n",
    "        figsize=figsize,\n",
    "    )  # creating the 2 subplots\n",
    "    sns.boxplot(\n",
    "        feature, ax=ax_box2, showmeans=True, color=\"violet\"\n",
    "    )  # boxplot will be created and a star will indicate the mean value of the column\n",
    "    sns.distplot(\n",
    "        feature, kde=F, ax=ax_hist2, bins=bins, palette=\"winter\"\n",
    "    ) if bins else sns.distplot(\n",
    "        feature, kde=False, ax=ax_hist2\n",
    "    )  # For histogram\n",
    "    ax_hist2.axvline(\n",
    "        np.mean(feature), color=\"green\", linestyle=\"--\"\n",
    "    )  # Add mean to the histogram\n",
    "    ax_hist2.axvline(\n",
    "        np.median(feature), color=\"black\", linestyle=\"-\"\n",
    "    )  # Add median to the histogram\n",
    "    \n",
    "    \n",
    "\n",
    "\n",
    "def perc_on_bar(feature,data):\n",
    "    \"\"\"\n",
    "    plot\n",
    "    feature: categorical feature\n",
    "    the function won't work if a column is passed in hue parameter\n",
    "    \"\"\"\n",
    "    # Creating a countplot for the feature\n",
    "    sns.set(rc={\"figure.figsize\": (15, 10)})\n",
    "    ax = sns.countplot(x=feature, data=data)\n",
    "\n",
    "    total = len(feature)  # length of the column\n",
    "    for p in ax.patches:\n",
    "        percentage = \"{:.1f}%\".format(\n",
    "            100 * p.get_height() / total\n",
    "        )  # percentage of each class of the category\n",
    "        x = p.get_x() + p.get_width() / 2 - 0.1  # width of the plot\n",
    "        y = p.get_y() + p.get_height()  # hieght of the plot\n",
    "        ax.annotate(percentage, (x, y), size=14)  # annotate the percantage\n",
    "\n",
    "    plt.show()  # show the plot\n",
    "    \n",
    "    \n"
   ]
  },
  {
   "cell_type": "code",
   "execution_count": 24,
   "metadata": {
    "ExecuteTime": {
     "end_time": "2021-04-12T12:23:20.477498Z",
     "start_time": "2021-04-12T12:23:20.091844Z"
    }
   },
   "outputs": [],
   "source": [
    "# Adding New Columns for Word Count & Length\n",
    "platform_content[\"title_words\"] = platform_content['title'].apply(lambda x : len(x.split()))\n",
    "platform_content[\"title_len\"] = platform_content['title'].apply(lambda x : len(x))\n",
    "\n",
    "platform_content[\"text_words\"] = platform_content['text_description'].apply(lambda x : len(x.split()))\n",
    "platform_content[\"text_len\"] = platform_content['text_description'].apply(lambda x : len(x))"
   ]
  },
  {
   "cell_type": "code",
   "execution_count": 25,
   "metadata": {
    "ExecuteTime": {
     "end_time": "2021-04-12T12:23:21.197082Z",
     "start_time": "2021-04-12T12:23:20.481136Z"
    }
   },
   "outputs": [
    {
     "data": {
      "image/png": "[encoded data removed]",
      "text/plain": [
       "<Figure size 1080x720 with 2 Axes>"
      ]
     },
     "metadata": {
      "needs_background": "light"
     },
     "output_type": "display_data"
    }
   ],
   "source": [
    "# Checking Distribution of Number of Words in Title\n",
    "histogram_boxplot(platform_content[\"title_words\"])"
   ]
  },
  {
   "cell_type": "markdown",
   "metadata": {},
   "source": [
    "#### Observation :\n",
    "- The distribution is almost normal with some outliers on the right side, making it slightly skewed."
   ]
  },
  {
   "cell_type": "code",
   "execution_count": 26,
   "metadata": {
    "ExecuteTime": {
     "end_time": "2021-04-12T12:23:21.801642Z",
     "start_time": "2021-04-12T12:23:21.200739Z"
    },
    "scrolled": false
   },
   "outputs": [
    {
     "data": {
      "image/png": "[encoded data removed]",
      "text/plain": [
       "<Figure size 1080x720 with 2 Axes>"
      ]
     },
     "metadata": {
      "needs_background": "light"
     },
     "output_type": "display_data"
    }
   ],
   "source": [
    "# Checking Distribution of Number of Characters in Title\n",
    "\n",
    "histogram_boxplot(platform_content[\"title_len\"])"
   ]
  },
  {
   "cell_type": "markdown",
   "metadata": {},
   "source": [
    "#### Observation :\n",
    "- The distribution is almost normal with some outliers on the right side, making it slightly skewed.\n",
    "- The mean & median almost overlap, with peak b/w 5--75 character length"
   ]
  },
  {
   "cell_type": "code",
   "execution_count": 27,
   "metadata": {
    "ExecuteTime": {
     "end_time": "2021-04-12T12:23:22.479911Z",
     "start_time": "2021-04-12T12:23:21.804944Z"
    }
   },
   "outputs": [
    {
     "data": {
      "image/png": "[encoded data removed]",
      "text/plain": [
       "<Figure size 1080x720 with 2 Axes>"
      ]
     },
     "metadata": {
      "needs_background": "light"
     },
     "output_type": "display_data"
    }
   ],
   "source": [
    "# Checking Distribution of Number of Words in Text Description\n",
    "\n",
    "histogram_boxplot(platform_content[\"text_words\"])"
   ]
  },
  {
   "cell_type": "markdown",
   "metadata": {},
   "source": [
    "#### Observation :\n",
    "- The number of words in Text Description is Right Skewed\n",
    "- There are outliers as well for some articles"
   ]
  },
  {
   "cell_type": "code",
   "execution_count": 28,
   "metadata": {
    "ExecuteTime": {
     "end_time": "2021-04-12T12:23:23.131342Z",
     "start_time": "2021-04-12T12:23:22.483620Z"
    }
   },
   "outputs": [
    {
     "data": {
      "image/png": "[encoded data removed]",
      "text/plain": [
       "<Figure size 1080x720 with 2 Axes>"
      ]
     },
     "metadata": {
      "needs_background": "light"
     },
     "output_type": "display_data"
    }
   ],
   "source": [
    "# Checking Distribution of Number of Characters in Title\n",
    "histogram_boxplot(platform_content[\"text_len\"])"
   ]
  },
  {
   "cell_type": "markdown",
   "metadata": {
    "ExecuteTime": {
     "end_time": "2021-04-07T06:03:36.272846Z",
     "start_time": "2021-04-07T06:03:36.270007Z"
    }
   },
   "source": [
    "#### Observation :\n",
    "- The number of character in Text Description is Right Skewed\n",
    "- There are outliers as well for some articles"
   ]
  },
  {
   "cell_type": "code",
   "execution_count": 29,
   "metadata": {
    "ExecuteTime": {
     "end_time": "2021-04-12T12:23:23.451130Z",
     "start_time": "2021-04-12T12:23:23.134817Z"
    },
    "scrolled": false
   },
   "outputs": [
    {
     "data": {
      "image/png": "[encoded data removed]",
      "text/plain": [
       "<Figure size 1080x720 with 1 Axes>"
      ]
     },
     "metadata": {},
     "output_type": "display_data"
    }
   ],
   "source": [
    "# Checking Distribution of the category Interaction TYpe\n",
    "perc_on_bar(platform_content[\"interaction_type\"],platform_content)"
   ]
  },
  {
   "cell_type": "markdown",
   "metadata": {},
   "source": [
    "#### Observation :\n",
    "\n",
    "- Most common interaction with the platform is content_present."
   ]
  },
  {
   "cell_type": "code",
   "execution_count": 30,
   "metadata": {
    "ExecuteTime": {
     "end_time": "2021-04-12T12:23:24.114840Z",
     "start_time": "2021-04-12T12:23:23.454527Z"
    }
   },
   "outputs": [
    {
     "data": {
      "image/png": "[encoded data removed]",
      "text/plain": [
       "<Figure size 1080x720 with 1 Axes>"
      ]
     },
     "metadata": {},
     "output_type": "display_data"
    }
   ],
   "source": [
    "# Checking Distribution of the category Producer Location\n",
    "perc_on_bar(platform_content[\"producer_location\"],platform_content)"
   ]
  },
  {
   "cell_type": "markdown",
   "metadata": {},
   "source": [
    "#### Observation :\n",
    "\n",
    "- '?' is one of the Producer Location which shows data error\n",
    "- From the previous section we know, that ~78% of data has this as a missing value\n",
    "- Amoung the locations, SP constitutes a Major chunk compared to it's peers"
   ]
  },
  {
   "cell_type": "code",
   "execution_count": 31,
   "metadata": {
    "ExecuteTime": {
     "end_time": "2021-04-12T12:23:24.465935Z",
     "start_time": "2021-04-12T12:23:24.118401Z"
    }
   },
   "outputs": [
    {
     "data": {
      "image/png": "[encoded data removed]",
      "text/plain": [
       "<Figure size 1080x720 with 1 Axes>"
      ]
     },
     "metadata": {},
     "output_type": "display_data"
    }
   ],
   "source": [
    "# Checking Distribution of the category Producer Country\n",
    "\n",
    "perc_on_bar(platform_content[\"producer_country\"],platform_content)"
   ]
  },
  {
   "cell_type": "markdown",
   "metadata": {},
   "source": [
    "#### Observation :\n",
    "\n",
    "- From the previous section we know, that ~78% of data has this as a missing value\n",
    "- Amoung the locations, BR constitutes a Major chunk compared to it's peers, followed by US"
   ]
  },
  {
   "cell_type": "code",
   "execution_count": 32,
   "metadata": {
    "ExecuteTime": {
     "end_time": "2021-04-12T12:23:24.782996Z",
     "start_time": "2021-04-12T12:23:24.469777Z"
    }
   },
   "outputs": [
    {
     "data": {
      "image/png": "[encoded data removed]",
      "text/plain": [
       "<Figure size 1080x720 with 1 Axes>"
      ]
     },
     "metadata": {},
     "output_type": "display_data"
    }
   ],
   "source": [
    "# Checking Distribution of the category Item Type\n",
    "perc_on_bar(platform_content[\"item_type\"],platform_content)"
   ]
  },
  {
   "cell_type": "markdown",
   "metadata": {},
   "source": [
    "#### Observation :\n",
    "\n",
    "- Mostly HTML content is produced by the producers"
   ]
  },
  {
   "cell_type": "code",
   "execution_count": 33,
   "metadata": {
    "ExecuteTime": {
     "end_time": "2021-04-12T12:23:25.136777Z",
     "start_time": "2021-04-12T12:23:24.793835Z"
    }
   },
   "outputs": [
    {
     "data": {
      "image/png": "[encoded data removed]",
      "text/plain": [
       "<Figure size 1080x720 with 1 Axes>"
      ]
     },
     "metadata": {},
     "output_type": "display_data"
    }
   ],
   "source": [
    "# Checking Distribution of the category Language\n",
    "perc_on_bar(platform_content[\"language\"],platform_content)"
   ]
  },
  {
   "cell_type": "markdown",
   "metadata": {},
   "source": [
    "#### Observation :\n",
    "\n",
    "- English followed by PT are most common choice of producing and item"
   ]
  },
  {
   "cell_type": "markdown",
   "metadata": {},
   "source": [
    "#### Note :  Since we have lot of unique values for  producer_id & producer_device_info, we would just plot the numbers & not a graph for it"
   ]
  },
  {
   "cell_type": "code",
   "execution_count": 34,
   "metadata": {
    "ExecuteTime": {
     "end_time": "2021-04-12T12:23:25.166822Z",
     "start_time": "2021-04-12T12:23:25.141194Z"
    }
   },
   "outputs": [
    {
     "data": {
      "text/html": [
       "<div>\n",
       "<style scoped>\n",
       "    .dataframe tbody tr th:only-of-type {\n",
       "        vertical-align: middle;\n",
       "    }\n",
       "\n",
       "    .dataframe tbody tr th {\n",
       "        vertical-align: top;\n",
       "    }\n",
       "\n",
       "    .dataframe thead th {\n",
       "        text-align: right;\n",
       "    }\n",
       "</style>\n",
       "<table border=\"1\" class=\"dataframe\">\n",
       "  <thead>\n",
       "    <tr style=\"text-align: right;\">\n",
       "      <th></th>\n",
       "      <th>producer_id</th>\n",
       "      <th>percentage_content</th>\n",
       "    </tr>\n",
       "  </thead>\n",
       "  <tbody>\n",
       "    <tr>\n",
       "      <th>0</th>\n",
       "      <td>1443636648652872475</td>\n",
       "      <td>9.833440</td>\n",
       "    </tr>\n",
       "    <tr>\n",
       "      <th>1</th>\n",
       "      <td>3609194402293569455</td>\n",
       "      <td>9.769379</td>\n",
       "    </tr>\n",
       "    <tr>\n",
       "      <th>2</th>\n",
       "      <td>1032019229384696495</td>\n",
       "      <td>8.680333</td>\n",
       "    </tr>\n",
       "    <tr>\n",
       "      <th>3</th>\n",
       "      <td>3891637997717104548</td>\n",
       "      <td>4.260090</td>\n",
       "    </tr>\n",
       "    <tr>\n",
       "      <th>4</th>\n",
       "      <td>2979881261169775358</td>\n",
       "      <td>2.882767</td>\n",
       "    </tr>\n",
       "    <tr>\n",
       "      <th>...</th>\n",
       "      <td>...</td>\n",
       "      <td>...</td>\n",
       "    </tr>\n",
       "    <tr>\n",
       "      <th>204</th>\n",
       "      <td>1811781596621121379</td>\n",
       "      <td>0.032031</td>\n",
       "    </tr>\n",
       "    <tr>\n",
       "      <th>203</th>\n",
       "      <td>2405211284771043881</td>\n",
       "      <td>0.032031</td>\n",
       "    </tr>\n",
       "    <tr>\n",
       "      <th>202</th>\n",
       "      <td>7299489921519728176</td>\n",
       "      <td>0.032031</td>\n",
       "    </tr>\n",
       "    <tr>\n",
       "      <th>201</th>\n",
       "      <td>9038446466275805109</td>\n",
       "      <td>0.032031</td>\n",
       "    </tr>\n",
       "    <tr>\n",
       "      <th>251</th>\n",
       "      <td>8123627990288459252</td>\n",
       "      <td>0.032031</td>\n",
       "    </tr>\n",
       "  </tbody>\n",
       "</table>\n",
       "<p>252 rows × 2 columns</p>\n",
       "</div>"
      ],
      "text/plain": [
       "             producer_id  percentage_content\n",
       "0    1443636648652872475            9.833440\n",
       "1    3609194402293569455            9.769379\n",
       "2    1032019229384696495            8.680333\n",
       "3    3891637997717104548            4.260090\n",
       "4    2979881261169775358            2.882767\n",
       "..                   ...                 ...\n",
       "204  1811781596621121379            0.032031\n",
       "203  2405211284771043881            0.032031\n",
       "202  7299489921519728176            0.032031\n",
       "201  9038446466275805109            0.032031\n",
       "251  8123627990288459252            0.032031\n",
       "\n",
       "[252 rows x 2 columns]"
      ]
     },
     "execution_count": 34,
     "metadata": {},
     "output_type": "execute_result"
    }
   ],
   "source": [
    "# Checking the Top Producer IDs\n",
    "\n",
    "pf_content = (platform_content[\"producer_id\"].value_counts(normalize=True)*100).reset_index()\n",
    "pf_content = pf_content.rename(columns={\"index\":\"producer_id\",\n",
    "                                        \"producer_id\":\"percentage_content\"}).sort_values(by='percentage_content',\n",
    "                                                                                         ascending=False)\n",
    "pf_content"
   ]
  },
  {
   "cell_type": "markdown",
   "metadata": {},
   "source": [
    "#### Observation :\n",
    "\n",
    "1. We can the max content produced by a single producer is ~9.8%\n",
    "2. One the other end we have producers who have hardly posted content.\n"
   ]
  },
  {
   "cell_type": "code",
   "execution_count": 35,
   "metadata": {
    "ExecuteTime": {
     "end_time": "2021-04-12T12:23:25.198655Z",
     "start_time": "2021-04-12T12:23:25.170817Z"
    }
   },
   "outputs": [
    {
     "data": {
      "text/html": [
       "<div>\n",
       "<style scoped>\n",
       "    .dataframe tbody tr th:only-of-type {\n",
       "        vertical-align: middle;\n",
       "    }\n",
       "\n",
       "    .dataframe tbody tr th {\n",
       "        vertical-align: top;\n",
       "    }\n",
       "\n",
       "    .dataframe thead th {\n",
       "        text-align: right;\n",
       "    }\n",
       "</style>\n",
       "<table border=\"1\" class=\"dataframe\">\n",
       "  <thead>\n",
       "    <tr style=\"text-align: right;\">\n",
       "      <th></th>\n",
       "      <th>producer_device_info</th>\n",
       "      <th>percentage_content</th>\n",
       "    </tr>\n",
       "  </thead>\n",
       "  <tbody>\n",
       "    <tr>\n",
       "      <th>0</th>\n",
       "      <td>Mozilla/5.0 (X11; Linux x86_64) AppleWebKit/53...</td>\n",
       "      <td>10.441176</td>\n",
       "    </tr>\n",
       "    <tr>\n",
       "      <th>1</th>\n",
       "      <td>Mozilla/5.0 (Windows NT 10.0; WOW64) AppleWebK...</td>\n",
       "      <td>9.558824</td>\n",
       "    </tr>\n",
       "    <tr>\n",
       "      <th>2</th>\n",
       "      <td>Android - Native Mobile App</td>\n",
       "      <td>5.147059</td>\n",
       "    </tr>\n",
       "    <tr>\n",
       "      <th>3</th>\n",
       "      <td>Mozilla/5.0 (X11; Linux x86_64) AppleWebKit/53...</td>\n",
       "      <td>4.264706</td>\n",
       "    </tr>\n",
       "    <tr>\n",
       "      <th>4</th>\n",
       "      <td>Mozilla/5.0 (X11; Linux x86_64) AppleWebKit/53...</td>\n",
       "      <td>4.117647</td>\n",
       "    </tr>\n",
       "    <tr>\n",
       "      <th>...</th>\n",
       "      <td>...</td>\n",
       "      <td>...</td>\n",
       "    </tr>\n",
       "    <tr>\n",
       "      <th>84</th>\n",
       "      <td>Mozilla/5.0 (X11; Linux x86_64) AppleWebKit/53...</td>\n",
       "      <td>0.147059</td>\n",
       "    </tr>\n",
       "    <tr>\n",
       "      <th>85</th>\n",
       "      <td>Mozilla/5.0 (Macintosh; Intel Mac OS X 10_12_0...</td>\n",
       "      <td>0.147059</td>\n",
       "    </tr>\n",
       "    <tr>\n",
       "      <th>86</th>\n",
       "      <td>Mozilla/5.0 (Macintosh; Intel Mac OS X 10_12_1...</td>\n",
       "      <td>0.147059</td>\n",
       "    </tr>\n",
       "    <tr>\n",
       "      <th>88</th>\n",
       "      <td>Mozilla/5.0 (Macintosh; Intel Mac OS X 10_11_1...</td>\n",
       "      <td>0.147059</td>\n",
       "    </tr>\n",
       "    <tr>\n",
       "      <th>113</th>\n",
       "      <td>Mozilla/5.0 (Windows NT 6.1; WOW64) AppleWebKi...</td>\n",
       "      <td>0.147059</td>\n",
       "    </tr>\n",
       "  </tbody>\n",
       "</table>\n",
       "<p>114 rows × 2 columns</p>\n",
       "</div>"
      ],
      "text/plain": [
       "                                  producer_device_info  percentage_content\n",
       "0    Mozilla/5.0 (X11; Linux x86_64) AppleWebKit/53...           10.441176\n",
       "1    Mozilla/5.0 (Windows NT 10.0; WOW64) AppleWebK...            9.558824\n",
       "2                          Android - Native Mobile App            5.147059\n",
       "3    Mozilla/5.0 (X11; Linux x86_64) AppleWebKit/53...            4.264706\n",
       "4    Mozilla/5.0 (X11; Linux x86_64) AppleWebKit/53...            4.117647\n",
       "..                                                 ...                 ...\n",
       "84   Mozilla/5.0 (X11; Linux x86_64) AppleWebKit/53...            0.147059\n",
       "85   Mozilla/5.0 (Macintosh; Intel Mac OS X 10_12_0...            0.147059\n",
       "86   Mozilla/5.0 (Macintosh; Intel Mac OS X 10_12_1...            0.147059\n",
       "88   Mozilla/5.0 (Macintosh; Intel Mac OS X 10_11_1...            0.147059\n",
       "113  Mozilla/5.0 (Windows NT 6.1; WOW64) AppleWebKi...            0.147059\n",
       "\n",
       "[114 rows x 2 columns]"
      ]
     },
     "execution_count": 35,
     "metadata": {},
     "output_type": "execute_result"
    }
   ],
   "source": [
    "# Checking the Top Producer Device\n",
    "pf_device = (platform_content[\"producer_device_info\"].value_counts(normalize=True)*100).reset_index()\n",
    "pf_device = pf_device.rename(columns={\"index\":\"producer_device_info\",\n",
    "                                        \"producer_device_info\":\"percentage_content\"}).sort_values(by='percentage_content',\n",
    "                                                                                                  ascending=False)\n",
    "\n",
    "pf_device"
   ]
  },
  {
   "cell_type": "markdown",
   "metadata": {},
   "source": [
    "#### Observation\n",
    "1. The variance in the Type of Device used by Producers varies a lot.\n",
    "2. The most common device is used by 10% of the producers"
   ]
  },
  {
   "cell_type": "markdown",
   "metadata": {},
   "source": [
    "## Exploratory Data Analysis for Consumer Transaction"
   ]
  },
  {
   "cell_type": "code",
   "execution_count": 36,
   "metadata": {
    "ExecuteTime": {
     "end_time": "2021-04-12T12:23:25.222811Z",
     "start_time": "2021-04-12T12:23:25.202771Z"
    }
   },
   "outputs": [
    {
     "data": {
      "text/html": [
       "<div>\n",
       "<style scoped>\n",
       "    .dataframe tbody tr th:only-of-type {\n",
       "        vertical-align: middle;\n",
       "    }\n",
       "\n",
       "    .dataframe tbody tr th {\n",
       "        vertical-align: top;\n",
       "    }\n",
       "\n",
       "    .dataframe thead th {\n",
       "        text-align: right;\n",
       "    }\n",
       "</style>\n",
       "<table border=\"1\" class=\"dataframe\">\n",
       "  <thead>\n",
       "    <tr style=\"text-align: right;\">\n",
       "      <th></th>\n",
       "      <th>event_timestamp</th>\n",
       "      <th>interaction_type</th>\n",
       "      <th>item_id</th>\n",
       "      <th>consumer_id</th>\n",
       "      <th>consumer_session_id</th>\n",
       "      <th>consumer_device_info</th>\n",
       "      <th>consumer_location</th>\n",
       "      <th>country</th>\n",
       "    </tr>\n",
       "  </thead>\n",
       "  <tbody>\n",
       "    <tr>\n",
       "      <th>0</th>\n",
       "      <td>1465413032</td>\n",
       "      <td>content_watched</td>\n",
       "      <td>3499919498720038879</td>\n",
       "      <td>8845298781299428018</td>\n",
       "      <td>1264196770339959068</td>\n",
       "      <td>NaN</td>\n",
       "      <td>NaN</td>\n",
       "      <td>NaN</td>\n",
       "    </tr>\n",
       "    <tr>\n",
       "      <th>1</th>\n",
       "      <td>1465412560</td>\n",
       "      <td>content_watched</td>\n",
       "      <td>8890720798209849691</td>\n",
       "      <td>1032019229384696495</td>\n",
       "      <td>3621737643587579081</td>\n",
       "      <td>Mozilla/5.0 (Macintosh; Intel Mac OS X 10_11_2...</td>\n",
       "      <td>NY</td>\n",
       "      <td>US</td>\n",
       "    </tr>\n",
       "    <tr>\n",
       "      <th>2</th>\n",
       "      <td>1465416190</td>\n",
       "      <td>content_watched</td>\n",
       "      <td>310515487419366995</td>\n",
       "      <td>1130272294246983140</td>\n",
       "      <td>2631864456530402479</td>\n",
       "      <td>NaN</td>\n",
       "      <td>NaN</td>\n",
       "      <td>NaN</td>\n",
       "    </tr>\n",
       "    <tr>\n",
       "      <th>3</th>\n",
       "      <td>1465413895</td>\n",
       "      <td>content_followed</td>\n",
       "      <td>310515487419366995</td>\n",
       "      <td>344280948527967603</td>\n",
       "      <td>-3167637573980064150</td>\n",
       "      <td>NaN</td>\n",
       "      <td>NaN</td>\n",
       "      <td>NaN</td>\n",
       "    </tr>\n",
       "    <tr>\n",
       "      <th>4</th>\n",
       "      <td>1465412290</td>\n",
       "      <td>content_watched</td>\n",
       "      <td>7820640624231356730</td>\n",
       "      <td>445337111692715325</td>\n",
       "      <td>561148 1178424124714</td>\n",
       "      <td>NaN</td>\n",
       "      <td>NaN</td>\n",
       "      <td>NaN</td>\n",
       "    </tr>\n",
       "  </tbody>\n",
       "</table>\n",
       "</div>"
      ],
      "text/plain": [
       "   event_timestamp  interaction_type              item_id  \\\n",
       "0       1465413032   content_watched  3499919498720038879   \n",
       "1       1465412560   content_watched  8890720798209849691   \n",
       "2       1465416190   content_watched   310515487419366995   \n",
       "3       1465413895  content_followed   310515487419366995   \n",
       "4       1465412290   content_watched  7820640624231356730   \n",
       "\n",
       "           consumer_id   consumer_session_id  \\\n",
       "0  8845298781299428018   1264196770339959068   \n",
       "1  1032019229384696495   3621737643587579081   \n",
       "2  1130272294246983140   2631864456530402479   \n",
       "3   344280948527967603  -3167637573980064150   \n",
       "4   445337111692715325  561148 1178424124714   \n",
       "\n",
       "                                consumer_device_info consumer_location country  \n",
       "0                                                NaN               NaN     NaN  \n",
       "1  Mozilla/5.0 (Macintosh; Intel Mac OS X 10_11_2...                NY      US  \n",
       "2                                                NaN               NaN     NaN  \n",
       "3                                                NaN               NaN     NaN  \n",
       "4                                                NaN               NaN     NaN  "
      ]
     },
     "execution_count": 36,
     "metadata": {},
     "output_type": "execute_result"
    }
   ],
   "source": [
    "consumer_trans.head()"
   ]
  },
  {
   "cell_type": "code",
   "execution_count": 37,
   "metadata": {
    "ExecuteTime": {
     "end_time": "2021-04-12T12:23:25.386240Z",
     "start_time": "2021-04-12T12:23:25.226756Z"
    }
   },
   "outputs": [
    {
     "data": {
      "text/html": [
       "<div>\n",
       "<style scoped>\n",
       "    .dataframe tbody tr th:only-of-type {\n",
       "        vertical-align: middle;\n",
       "    }\n",
       "\n",
       "    .dataframe tbody tr th {\n",
       "        vertical-align: top;\n",
       "    }\n",
       "\n",
       "    .dataframe thead th {\n",
       "        text-align: right;\n",
       "    }\n",
       "</style>\n",
       "<table border=\"1\" class=\"dataframe\">\n",
       "  <thead>\n",
       "    <tr style=\"text-align: right;\">\n",
       "      <th></th>\n",
       "      <th>consumer_location</th>\n",
       "      <th>percentage_content</th>\n",
       "    </tr>\n",
       "  </thead>\n",
       "  <tbody>\n",
       "    <tr>\n",
       "      <th>0</th>\n",
       "      <td>SP</td>\n",
       "      <td>0.705779</td>\n",
       "    </tr>\n",
       "    <tr>\n",
       "      <th>1</th>\n",
       "      <td>MG</td>\n",
       "      <td>0.179767</td>\n",
       "    </tr>\n",
       "    <tr>\n",
       "      <th>2</th>\n",
       "      <td>NY</td>\n",
       "      <td>0.022093</td>\n",
       "    </tr>\n",
       "    <tr>\n",
       "      <th>3</th>\n",
       "      <td>TX</td>\n",
       "      <td>0.016205</td>\n",
       "    </tr>\n",
       "    <tr>\n",
       "      <th>4</th>\n",
       "      <td>GA</td>\n",
       "      <td>0.015994</td>\n",
       "    </tr>\n",
       "    <tr>\n",
       "      <th>...</th>\n",
       "      <td>...</td>\n",
       "      <td>...</td>\n",
       "    </tr>\n",
       "    <tr>\n",
       "      <th>65</th>\n",
       "      <td>CE</td>\n",
       "      <td>0.000018</td>\n",
       "    </tr>\n",
       "    <tr>\n",
       "      <th>64</th>\n",
       "      <td>OR</td>\n",
       "      <td>0.000018</td>\n",
       "    </tr>\n",
       "    <tr>\n",
       "      <th>63</th>\n",
       "      <td>ZH</td>\n",
       "      <td>0.000018</td>\n",
       "    </tr>\n",
       "    <tr>\n",
       "      <th>62</th>\n",
       "      <td>CL</td>\n",
       "      <td>0.000018</td>\n",
       "    </tr>\n",
       "    <tr>\n",
       "      <th>70</th>\n",
       "      <td>BOL</td>\n",
       "      <td>0.000018</td>\n",
       "    </tr>\n",
       "  </tbody>\n",
       "</table>\n",
       "<p>71 rows × 2 columns</p>\n",
       "</div>"
      ],
      "text/plain": [
       "   consumer_location  percentage_content\n",
       "0                 SP            0.705779\n",
       "1                 MG            0.179767\n",
       "2                 NY            0.022093\n",
       "3                 TX            0.016205\n",
       "4                 GA            0.015994\n",
       "..               ...                 ...\n",
       "65                CE            0.000018\n",
       "64                OR            0.000018\n",
       "63                ZH            0.000018\n",
       "62                CL            0.000018\n",
       "70               BOL            0.000018\n",
       "\n",
       "[71 rows x 2 columns]"
      ]
     },
     "execution_count": 37,
     "metadata": {},
     "output_type": "execute_result"
    }
   ],
   "source": [
    "# Checking the Top Consumer Location\n",
    "ct_loc = consumer_trans[\"consumer_location\"].value_counts(normalize=True).reset_index()\n",
    "ct_loc = ct_loc.rename(columns={\"index\":\"consumer_location\",\n",
    "                                        \"consumer_location\":\"percentage_content\"}).sort_values(by='percentage_content',\n",
    "                                                                                                  ascending=False)\n",
    "\n",
    "ct_loc"
   ]
  },
  {
   "cell_type": "code",
   "execution_count": 38,
   "metadata": {
    "ExecuteTime": {
     "end_time": "2021-04-12T12:23:26.381290Z",
     "start_time": "2021-04-12T12:23:25.390427Z"
    }
   },
   "outputs": [
    {
     "data": {
      "image/png": "[encoded data removed]",
      "text/plain": [
       "<Figure size 1080x720 with 1 Axes>"
      ]
     },
     "metadata": {},
     "output_type": "display_data"
    }
   ],
   "source": [
    "# Checking distribution of Consumer Country\n",
    "perc_on_bar(consumer_trans[\"country\"],consumer_trans)"
   ]
  },
  {
   "cell_type": "markdown",
   "metadata": {},
   "source": [
    "#### Observation\n",
    "\n",
    "- The consumers are mostly from BR & US, which is also reflected in the platform data in terms of Producers"
   ]
  },
  {
   "cell_type": "code",
   "execution_count": 39,
   "metadata": {
    "ExecuteTime": {
     "end_time": "2021-04-12T12:23:26.862357Z",
     "start_time": "2021-04-12T12:23:26.385475Z"
    }
   },
   "outputs": [
    {
     "data": {
      "image/png": "[encoded data removed]",
      "text/plain": [
       "<Figure size 1080x720 with 1 Axes>"
      ]
     },
     "metadata": {},
     "output_type": "display_data"
    }
   ],
   "source": [
    "# Checking distribution of Consumer's interaction with the content\n",
    "perc_on_bar(consumer_trans[\"interaction_type\"],consumer_trans)"
   ]
  },
  {
   "cell_type": "markdown",
   "metadata": {},
   "source": [
    "#### Observation\n",
    "\n",
    "- Consumers mostly watch the content and seems to have less engagment wrt to like or commenting on the content\n",
    "- In terms of interaction liking the content is more common than commenting on it or following it.\n",
    "- Saving content  shows interest that the user might be willing to revisit the story."
   ]
  },
  {
   "cell_type": "code",
   "execution_count": 40,
   "metadata": {
    "ExecuteTime": {
     "end_time": "2021-04-12T12:23:26.906301Z",
     "start_time": "2021-04-12T12:23:26.865979Z"
    }
   },
   "outputs": [
    {
     "data": {
      "text/html": [
       "<div>\n",
       "<style scoped>\n",
       "    .dataframe tbody tr th:only-of-type {\n",
       "        vertical-align: middle;\n",
       "    }\n",
       "\n",
       "    .dataframe tbody tr th {\n",
       "        vertical-align: top;\n",
       "    }\n",
       "\n",
       "    .dataframe thead th {\n",
       "        text-align: right;\n",
       "    }\n",
       "</style>\n",
       "<table border=\"1\" class=\"dataframe\">\n",
       "  <thead>\n",
       "    <tr style=\"text-align: right;\">\n",
       "      <th></th>\n",
       "      <th>consumer_device_info</th>\n",
       "      <th>percentage_content</th>\n",
       "    </tr>\n",
       "  </thead>\n",
       "  <tbody>\n",
       "    <tr>\n",
       "      <th>0</th>\n",
       "      <td>Android - Native Mobile App</td>\n",
       "      <td>0.118632</td>\n",
       "    </tr>\n",
       "    <tr>\n",
       "      <th>1</th>\n",
       "      <td>Mozilla/5.0 (Windows NT 10.0; WOW64) AppleWebK...</td>\n",
       "      <td>0.032035</td>\n",
       "    </tr>\n",
       "    <tr>\n",
       "      <th>2</th>\n",
       "      <td>Mozilla/5.0 (Windows NT 10.0; WOW64) AppleWebK...</td>\n",
       "      <td>0.020138</td>\n",
       "    </tr>\n",
       "    <tr>\n",
       "      <th>3</th>\n",
       "      <td>Mozilla/5.0 (X11; Linux x86_64) AppleWebKit/53...</td>\n",
       "      <td>0.018908</td>\n",
       "    </tr>\n",
       "    <tr>\n",
       "      <th>4</th>\n",
       "      <td>Mozilla/5.0 (Windows NT 6.1; WOW64) AppleWebKi...</td>\n",
       "      <td>0.018609</td>\n",
       "    </tr>\n",
       "    <tr>\n",
       "      <th>...</th>\n",
       "      <td>...</td>\n",
       "      <td>...</td>\n",
       "    </tr>\n",
       "    <tr>\n",
       "      <th>925</th>\n",
       "      <td>Mozilla/5.0 (Macintosh; Intel Mac OS X 10_11_5...</td>\n",
       "      <td>0.000018</td>\n",
       "    </tr>\n",
       "    <tr>\n",
       "      <th>926</th>\n",
       "      <td>Mozilla/5.0 (Linux; Android 6.0.1; D5833 Build...</td>\n",
       "      <td>0.000018</td>\n",
       "    </tr>\n",
       "    <tr>\n",
       "      <th>927</th>\n",
       "      <td>Mozilla/5.0 (X11; Linux x86_64) AppleWebKit/53...</td>\n",
       "      <td>0.000018</td>\n",
       "    </tr>\n",
       "    <tr>\n",
       "      <th>928</th>\n",
       "      <td>Mozilla/5.0 (Macintosh; Intel Mac OS X 10_11_4...</td>\n",
       "      <td>0.000018</td>\n",
       "    </tr>\n",
       "    <tr>\n",
       "      <th>1089</th>\n",
       "      <td>Mozilla/5.0 (Linux; Android 6.0.1; ASUS_Z00AD ...</td>\n",
       "      <td>0.000018</td>\n",
       "    </tr>\n",
       "  </tbody>\n",
       "</table>\n",
       "<p>1090 rows × 2 columns</p>\n",
       "</div>"
      ],
      "text/plain": [
       "                                   consumer_device_info  percentage_content\n",
       "0                           Android - Native Mobile App            0.118632\n",
       "1     Mozilla/5.0 (Windows NT 10.0; WOW64) AppleWebK...            0.032035\n",
       "2     Mozilla/5.0 (Windows NT 10.0; WOW64) AppleWebK...            0.020138\n",
       "3     Mozilla/5.0 (X11; Linux x86_64) AppleWebKit/53...            0.018908\n",
       "4     Mozilla/5.0 (Windows NT 6.1; WOW64) AppleWebKi...            0.018609\n",
       "...                                                 ...                 ...\n",
       "925   Mozilla/5.0 (Macintosh; Intel Mac OS X 10_11_5...            0.000018\n",
       "926   Mozilla/5.0 (Linux; Android 6.0.1; D5833 Build...            0.000018\n",
       "927   Mozilla/5.0 (X11; Linux x86_64) AppleWebKit/53...            0.000018\n",
       "928   Mozilla/5.0 (Macintosh; Intel Mac OS X 10_11_4...            0.000018\n",
       "1089  Mozilla/5.0 (Linux; Android 6.0.1; ASUS_Z00AD ...            0.000018\n",
       "\n",
       "[1090 rows x 2 columns]"
      ]
     },
     "execution_count": 40,
     "metadata": {},
     "output_type": "execute_result"
    }
   ],
   "source": [
    "# Checking the Top Consumer Device\n",
    "ct_dev = consumer_trans[\"consumer_device_info\"].value_counts(normalize=True).reset_index()\n",
    "ct_dev = ct_dev.rename(columns={\"index\":\"consumer_device_info\",\n",
    "                                        \"consumer_device_info\":\"percentage_content\"}).sort_values(by='percentage_content',\n",
    "                                                                                                  ascending=False)\n",
    "\n",
    "ct_dev"
   ]
  },
  {
   "cell_type": "markdown",
   "metadata": {},
   "source": [
    "#### Observation\n",
    "\n",
    "- Consumers mostly seem to use Android mobile devices.\n",
    "- We should recall that we have missing data for this column as well"
   ]
  },
  {
   "cell_type": "markdown",
   "metadata": {},
   "source": [
    "## Data Pre-processing"
   ]
  },
  {
   "cell_type": "markdown",
   "metadata": {},
   "source": [
    "### Creating Ratings\n",
    "\n",
    "As mentioned and we saw in the datasets, we don't have an explicit rating's column present in the dataset.\n",
    "We can create this  ratings manually by either of the following ways :\n",
    "\n",
    "- Giving weightage based on the business priority , like : content_followed (5), followed by content_commented_on (4), content saved(3), content liked(2) and content_watched(1).\n",
    "\n",
    "- Another approach can be using weightage based on the distribution we observed in the dataset above. We will use this create the weightage for the interaction type to the ratings.\n",
    "\n",
    "**Note** : We already checked that the **interaction_type** column has no missing values that we need to impute. So we can directly start with the transformations."
   ]
  },
  {
   "cell_type": "code",
   "execution_count": 41,
   "metadata": {
    "ExecuteTime": {
     "end_time": "2021-04-12T12:23:26.933656Z",
     "start_time": "2021-04-12T12:23:26.909995Z"
    }
   },
   "outputs": [
    {
     "data": {
      "text/plain": [
       "content_watched         84.473244\n",
       "content_liked            7.945948\n",
       "content_saved            3.406592\n",
       "content_commented_on     2.228185\n",
       "content_followed         1.946031\n",
       "Name: interaction_type, dtype: float64"
      ]
     },
     "execution_count": 41,
     "metadata": {},
     "output_type": "execute_result"
    }
   ],
   "source": [
    "consumer_trans['interaction_type'].value_counts(normalize=True)*100"
   ]
  },
  {
   "cell_type": "markdown",
   "metadata": {},
   "source": [
    "**Note** : It can be seen that the order of Magnitude (% of values) in the dataset in inversely related to the weightage priority we have in the business. So, we will inverse the values and scale in a range if 1-5 using Min-Max scaler."
   ]
  },
  {
   "cell_type": "code",
   "execution_count": 42,
   "metadata": {
    "ExecuteTime": {
     "end_time": "2021-04-12T12:23:26.972806Z",
     "start_time": "2021-04-12T12:23:26.938129Z"
    }
   },
   "outputs": [
    {
     "data": {
      "text/html": [
       "<div>\n",
       "<style scoped>\n",
       "    .dataframe tbody tr th:only-of-type {\n",
       "        vertical-align: middle;\n",
       "    }\n",
       "\n",
       "    .dataframe tbody tr th {\n",
       "        vertical-align: top;\n",
       "    }\n",
       "\n",
       "    .dataframe thead th {\n",
       "        text-align: right;\n",
       "    }\n",
       "</style>\n",
       "<table border=\"1\" class=\"dataframe\">\n",
       "  <thead>\n",
       "    <tr style=\"text-align: right;\">\n",
       "      <th></th>\n",
       "      <th>interaction_type</th>\n",
       "      <th>presence</th>\n",
       "      <th>weightage</th>\n",
       "    </tr>\n",
       "  </thead>\n",
       "  <tbody>\n",
       "    <tr>\n",
       "      <th>0</th>\n",
       "      <td>content_watched</td>\n",
       "      <td>84.473244</td>\n",
       "      <td>1.183807</td>\n",
       "    </tr>\n",
       "    <tr>\n",
       "      <th>1</th>\n",
       "      <td>content_liked</td>\n",
       "      <td>7.945948</td>\n",
       "      <td>12.585030</td>\n",
       "    </tr>\n",
       "    <tr>\n",
       "      <th>2</th>\n",
       "      <td>content_saved</td>\n",
       "      <td>3.406592</td>\n",
       "      <td>29.354852</td>\n",
       "    </tr>\n",
       "    <tr>\n",
       "      <th>3</th>\n",
       "      <td>content_commented_on</td>\n",
       "      <td>2.228185</td>\n",
       "      <td>44.879578</td>\n",
       "    </tr>\n",
       "    <tr>\n",
       "      <th>4</th>\n",
       "      <td>content_followed</td>\n",
       "      <td>1.946031</td>\n",
       "      <td>51.386638</td>\n",
       "    </tr>\n",
       "  </tbody>\n",
       "</table>\n",
       "</div>"
      ],
      "text/plain": [
       "       interaction_type   presence  weightage\n",
       "0       content_watched  84.473244   1.183807\n",
       "1         content_liked   7.945948  12.585030\n",
       "2         content_saved   3.406592  29.354852\n",
       "3  content_commented_on   2.228185  44.879578\n",
       "4      content_followed   1.946031  51.386638"
      ]
     },
     "execution_count": 42,
     "metadata": {},
     "output_type": "execute_result"
    }
   ],
   "source": [
    "ct_ratings = (consumer_trans['interaction_type'].value_counts(normalize=True)*100).reset_index()\n",
    "ct_ratings = ct_ratings.rename(columns={\"index\":\"interaction_type\",\"interaction_type\":\"presence\"})\n",
    "ct_ratings[\"weightage\"] = 100/ct_ratings[\"presence\"]\n",
    "\n",
    "\n",
    "ct_ratings"
   ]
  },
  {
   "cell_type": "code",
   "execution_count": 43,
   "metadata": {
    "ExecuteTime": {
     "end_time": "2021-04-12T12:23:27.004461Z",
     "start_time": "2021-04-12T12:23:26.976901Z"
    }
   },
   "outputs": [
    {
     "name": "stdout",
     "output_type": "stream",
     "text": [
      "Ratings Dictionary : {'content_watched': 1.0, 'content_liked': 1.9084127997373104, 'content_saved': 3.244578180344557, 'content_commented_on': 4.481538379529985, 'content_followed': 5.0}\n"
     ]
    },
    {
     "data": {
      "text/html": [
       "<div>\n",
       "<style scoped>\n",
       "    .dataframe tbody tr th:only-of-type {\n",
       "        vertical-align: middle;\n",
       "    }\n",
       "\n",
       "    .dataframe tbody tr th {\n",
       "        vertical-align: top;\n",
       "    }\n",
       "\n",
       "    .dataframe thead th {\n",
       "        text-align: right;\n",
       "    }\n",
       "</style>\n",
       "<table border=\"1\" class=\"dataframe\">\n",
       "  <thead>\n",
       "    <tr style=\"text-align: right;\">\n",
       "      <th></th>\n",
       "      <th>interaction_type</th>\n",
       "      <th>presence</th>\n",
       "      <th>weightage</th>\n",
       "      <th>ratings</th>\n",
       "    </tr>\n",
       "  </thead>\n",
       "  <tbody>\n",
       "    <tr>\n",
       "      <th>0</th>\n",
       "      <td>content_watched</td>\n",
       "      <td>84.473244</td>\n",
       "      <td>1.183807</td>\n",
       "      <td>1.000000</td>\n",
       "    </tr>\n",
       "    <tr>\n",
       "      <th>1</th>\n",
       "      <td>content_liked</td>\n",
       "      <td>7.945948</td>\n",
       "      <td>12.585030</td>\n",
       "      <td>1.908413</td>\n",
       "    </tr>\n",
       "    <tr>\n",
       "      <th>2</th>\n",
       "      <td>content_saved</td>\n",
       "      <td>3.406592</td>\n",
       "      <td>29.354852</td>\n",
       "      <td>3.244578</td>\n",
       "    </tr>\n",
       "    <tr>\n",
       "      <th>3</th>\n",
       "      <td>content_commented_on</td>\n",
       "      <td>2.228185</td>\n",
       "      <td>44.879578</td>\n",
       "      <td>4.481538</td>\n",
       "    </tr>\n",
       "    <tr>\n",
       "      <th>4</th>\n",
       "      <td>content_followed</td>\n",
       "      <td>1.946031</td>\n",
       "      <td>51.386638</td>\n",
       "      <td>5.000000</td>\n",
       "    </tr>\n",
       "  </tbody>\n",
       "</table>\n",
       "</div>"
      ],
      "text/plain": [
       "       interaction_type   presence  weightage   ratings\n",
       "0       content_watched  84.473244   1.183807  1.000000\n",
       "1         content_liked   7.945948  12.585030  1.908413\n",
       "2         content_saved   3.406592  29.354852  3.244578\n",
       "3  content_commented_on   2.228185  44.879578  4.481538\n",
       "4      content_followed   1.946031  51.386638  5.000000"
      ]
     },
     "execution_count": 43,
     "metadata": {},
     "output_type": "execute_result"
    }
   ],
   "source": [
    "# Since the weightage for the categories will be static,\n",
    "# we can fit a Min-Max Scalar to get the weights/ratings on a scale of 1-5.\n",
    "\n",
    "# These will hence be used consistently for the data\n",
    "\n",
    "scaler = MinMaxScaler(feature_range=(1, 5))\n",
    "ct_ratings['ratings'] = scaler.fit_transform(ct_ratings[['weightage']])\n",
    "\n",
    "# Creating Dictionary\n",
    "ct_ratings_dict = dict(zip(ct_ratings.interaction_type, ct_ratings.ratings))\n",
    "print(\"Ratings Dictionary : {}\".format(ct_ratings_dict))\n",
    "\n",
    "\n",
    "ct_ratings\n",
    "\n"
   ]
  },
  {
   "cell_type": "markdown",
   "metadata": {},
   "source": [
    "### Filtering Dataset\n",
    "\n",
    "\n",
    "In this section, we will be trying to reduce the and filter the dataset based on our requirements only.\n",
    "\n",
    "- As per the Business problem we are only concerned with Articles in English Language , irrespective the country of origin. So we will remove all other language articles (~27% articles)\n",
    "\n",
    "- Due to various reasons the content can be pulled out from the platform so we remove the pulled out content and their respective user interactions. (~2.4% of Data)\n",
    "\n",
    "- Here we are not differentiating b/w producers on the platform. So we remove all details related to producers from the dataset\n",
    "\n",
    "- Here we are not differentiating b/w consumers based on their demographic or device information. So we are removing those columns\n",
    "\n",
    "- We could have made models having information about the current session of the User and his behaviour for the current session. But we are not modeling wrt to time or session in this project. So it is safe to remove those features as well.\n",
    "\n",
    "- Though we will use session to recommend the first 10 entries and later similar entries, so we can keep it in the customer_transaction dataset"
   ]
  },
  {
   "cell_type": "code",
   "execution_count": 44,
   "metadata": {
    "ExecuteTime": {
     "end_time": "2021-04-12T12:23:27.040635Z",
     "start_time": "2021-04-12T12:23:27.008874Z"
    }
   },
   "outputs": [
    {
     "name": "stdout",
     "output_type": "stream",
     "text": [
      "Platform Dataset Before filtering : (3122, 17)\n",
      "Platform Dataset After filtering : (2211, 8)\n"
     ]
    },
    {
     "data": {
      "text/html": [
       "<div>\n",
       "<style scoped>\n",
       "    .dataframe tbody tr th:only-of-type {\n",
       "        vertical-align: middle;\n",
       "    }\n",
       "\n",
       "    .dataframe tbody tr th {\n",
       "        vertical-align: top;\n",
       "    }\n",
       "\n",
       "    .dataframe thead th {\n",
       "        text-align: right;\n",
       "    }\n",
       "</style>\n",
       "<table border=\"1\" class=\"dataframe\">\n",
       "  <thead>\n",
       "    <tr style=\"text-align: right;\">\n",
       "      <th></th>\n",
       "      <th>item_id</th>\n",
       "      <th>item_url</th>\n",
       "      <th>title</th>\n",
       "      <th>text_description</th>\n",
       "      <th>title_words</th>\n",
       "      <th>title_len</th>\n",
       "      <th>text_words</th>\n",
       "      <th>text_len</th>\n",
       "    </tr>\n",
       "  </thead>\n",
       "  <tbody>\n",
       "    <tr>\n",
       "      <th>1</th>\n",
       "      <td>4110354420726924665</td>\n",
       "      <td>http://www.nytimes.com/2016/03/28/business/dea...</td>\n",
       "      <td>Ethereum, a Virtual Currency, Enables Transact...</td>\n",
       "      <td>All of this work is still very early. The firs...</td>\n",
       "      <td>9</td>\n",
       "      <td>71</td>\n",
       "      <td>1072</td>\n",
       "      <td>6543</td>\n",
       "    </tr>\n",
       "    <tr>\n",
       "      <th>2</th>\n",
       "      <td>7292285110016212249</td>\n",
       "      <td>http://cointelegraph.com/news/bitcoin-future-w...</td>\n",
       "      <td>Bitcoin Future: When GBPcoin of Branson Wins O...</td>\n",
       "      <td>The alarm clock wakes me at 8:00 with stream o...</td>\n",
       "      <td>11</td>\n",
       "      <td>66</td>\n",
       "      <td>311</td>\n",
       "      <td>1993</td>\n",
       "    </tr>\n",
       "    <tr>\n",
       "      <th>3</th>\n",
       "      <td>6151852268067518688</td>\n",
       "      <td>https://cloudplatform.googleblog.com/2016/03/G...</td>\n",
       "      <td>Google Data Center 360° Tour</td>\n",
       "      <td>We're excited to share the Google Data Center ...</td>\n",
       "      <td>5</td>\n",
       "      <td>28</td>\n",
       "      <td>272</td>\n",
       "      <td>1520</td>\n",
       "    </tr>\n",
       "    <tr>\n",
       "      <th>4</th>\n",
       "      <td>2448026894306402386</td>\n",
       "      <td>https://bitcoinmagazine.com/articles/ibm-wants...</td>\n",
       "      <td>IBM Wants to \"Evolve the Internet\" With Blockc...</td>\n",
       "      <td>The Aite Group projects the blockchain market ...</td>\n",
       "      <td>9</td>\n",
       "      <td>61</td>\n",
       "      <td>1354</td>\n",
       "      <td>8093</td>\n",
       "    </tr>\n",
       "    <tr>\n",
       "      <th>5</th>\n",
       "      <td>2826566343807132236</td>\n",
       "      <td>http://www.coindesk.com/ieee-blockchain-oxford...</td>\n",
       "      <td>IEEE to Talk Blockchain at Cloud Computing Oxf...</td>\n",
       "      <td>One of the largest and oldest organizations fo...</td>\n",
       "      <td>10</td>\n",
       "      <td>64</td>\n",
       "      <td>276</td>\n",
       "      <td>1824</td>\n",
       "    </tr>\n",
       "  </tbody>\n",
       "</table>\n",
       "</div>"
      ],
      "text/plain": [
       "               item_id                                           item_url  \\\n",
       "1  4110354420726924665  http://www.nytimes.com/2016/03/28/business/dea...   \n",
       "2  7292285110016212249  http://cointelegraph.com/news/bitcoin-future-w...   \n",
       "3  6151852268067518688  https://cloudplatform.googleblog.com/2016/03/G...   \n",
       "4  2448026894306402386  https://bitcoinmagazine.com/articles/ibm-wants...   \n",
       "5  2826566343807132236  http://www.coindesk.com/ieee-blockchain-oxford...   \n",
       "\n",
       "                                               title  \\\n",
       "1  Ethereum, a Virtual Currency, Enables Transact...   \n",
       "2  Bitcoin Future: When GBPcoin of Branson Wins O...   \n",
       "3                       Google Data Center 360° Tour   \n",
       "4  IBM Wants to \"Evolve the Internet\" With Blockc...   \n",
       "5  IEEE to Talk Blockchain at Cloud Computing Oxf...   \n",
       "\n",
       "                                    text_description  title_words  title_len  \\\n",
       "1  All of this work is still very early. The firs...            9         71   \n",
       "2  The alarm clock wakes me at 8:00 with stream o...           11         66   \n",
       "3  We're excited to share the Google Data Center ...            5         28   \n",
       "4  The Aite Group projects the blockchain market ...            9         61   \n",
       "5  One of the largest and oldest organizations fo...           10         64   \n",
       "\n",
       "   text_words  text_len  \n",
       "1        1072      6543  \n",
       "2         311      1993  \n",
       "3         272      1520  \n",
       "4        1354      8093  \n",
       "5         276      1824  "
      ]
     },
     "execution_count": 44,
     "metadata": {},
     "output_type": "execute_result"
    }
   ],
   "source": [
    "# Filter Platform Dataset\n",
    "\n",
    "print(\"Platform Dataset Before filtering : {}\".format(platform_content.shape))\n",
    "pc_df= platform_content[(platform_content.language==\"en\") & (platform_content.interaction_type==\"content_present\")]\n",
    "\n",
    "pc_df = pc_df[['item_id','item_url','title','text_description','title_words','title_len','text_words','text_len']]\n",
    "print(\"Platform Dataset After filtering : {}\".format(pc_df.shape))\n",
    "\n",
    "\n",
    "pc_df.head()"
   ]
  },
  {
   "cell_type": "code",
   "execution_count": 45,
   "metadata": {
    "ExecuteTime": {
     "end_time": "2021-04-12T12:23:38.491067Z",
     "start_time": "2021-04-12T12:23:27.044359Z"
    }
   },
   "outputs": [
    {
     "name": "stdout",
     "output_type": "stream",
     "text": [
      "Platform Dataset Before filtering : (72301, 8)\n",
      "Platform Dataset After filtering : (40710, 3)\n"
     ]
    },
    {
     "data": {
      "text/html": [
       "<div>\n",
       "<style scoped>\n",
       "    .dataframe tbody tr th:only-of-type {\n",
       "        vertical-align: middle;\n",
       "    }\n",
       "\n",
       "    .dataframe tbody tr th {\n",
       "        vertical-align: top;\n",
       "    }\n",
       "\n",
       "    .dataframe thead th {\n",
       "        text-align: right;\n",
       "    }\n",
       "</style>\n",
       "<table border=\"1\" class=\"dataframe\">\n",
       "  <thead>\n",
       "    <tr style=\"text-align: right;\">\n",
       "      <th></th>\n",
       "      <th>item_id</th>\n",
       "      <th>consumer_id</th>\n",
       "      <th>ratings</th>\n",
       "    </tr>\n",
       "  </thead>\n",
       "  <tbody>\n",
       "    <tr>\n",
       "      <th>0</th>\n",
       "      <td>2171751753892441512</td>\n",
       "      <td>8516196196975927</td>\n",
       "      <td>1.0</td>\n",
       "    </tr>\n",
       "    <tr>\n",
       "      <th>1</th>\n",
       "      <td>2607211459879791691</td>\n",
       "      <td>9503309754973814</td>\n",
       "      <td>1.0</td>\n",
       "    </tr>\n",
       "    <tr>\n",
       "      <th>2</th>\n",
       "      <td>4029704725707465084</td>\n",
       "      <td>9503309754973814</td>\n",
       "      <td>1.0</td>\n",
       "    </tr>\n",
       "    <tr>\n",
       "      <th>3</th>\n",
       "      <td>2267321579404324900</td>\n",
       "      <td>13723062087756322</td>\n",
       "      <td>1.0</td>\n",
       "    </tr>\n",
       "    <tr>\n",
       "      <th>4</th>\n",
       "      <td>4233809085822159066</td>\n",
       "      <td>13723062087756322</td>\n",
       "      <td>1.0</td>\n",
       "    </tr>\n",
       "  </tbody>\n",
       "</table>\n",
       "</div>"
      ],
      "text/plain": [
       "               item_id        consumer_id  ratings\n",
       "0  2171751753892441512   8516196196975927      1.0\n",
       "1  2607211459879791691   9503309754973814      1.0\n",
       "2  4029704725707465084   9503309754973814      1.0\n",
       "3  2267321579404324900  13723062087756322      1.0\n",
       "4  4233809085822159066  13723062087756322      1.0"
      ]
     },
     "execution_count": 45,
     "metadata": {},
     "output_type": "execute_result"
    }
   ],
   "source": [
    "# Filter Platform Dataset\n",
    "\n",
    "print(\"Platform Dataset Before filtering : {}\".format(consumer_trans.shape))\n",
    "\n",
    "ct_df = consumer_trans[['interaction_type','item_id','consumer_id']]\n",
    "# populate the ratings column\n",
    "ct_df['ratings'] = consumer_trans['interaction_type'].map(ct_ratings_dict)\n",
    "ct_df = ct_df[['item_id','consumer_id','ratings']]\n",
    "\n",
    "# Remove Duplicates if Any for Consumer & Article rating; take the Max rating\n",
    "ct_df = ct_df.loc[ct_df.groupby([\"consumer_id\",\"item_id\"])['ratings'].idxmax()]\n",
    "\n",
    "# ct_df = ct_df[~ct_df.consumer_id.isin([8516196196975927])]\n",
    "ct_df.reset_index(inplace=True)\n",
    "ct_df.pop('index')\n",
    "# Filter only English Articles & those present in the platform\n",
    "# ct_df = pd.merge(ct_df,pc_df[[\"item_id\"]],left_on=\"item_id\",right_on=\"item_id\",how=\"inner\")\n",
    "\n",
    "print(\"Platform Dataset After filtering : {}\".format(ct_df.shape))\n",
    "\n",
    "\n",
    "ct_df.head()"
   ]
  },
  {
   "cell_type": "markdown",
   "metadata": {},
   "source": [
    "#### Creating Lookup for item_ids & consumer_id\n",
    "\n",
    "Since item_id & consumer_ids are large intergers, for sake of simplicity, creating a lookup dictionary for easy mapping."
   ]
  },
  {
   "cell_type": "code",
   "execution_count": 46,
   "metadata": {
    "ExecuteTime": {
     "end_time": "2021-04-12T12:23:38.585650Z",
     "start_time": "2021-04-12T12:23:38.499260Z"
    }
   },
   "outputs": [
    {
     "name": "stdout",
     "output_type": "stream",
     "text": [
      "Item Dictionary Length : 2987\n",
      "Consumer Dictionary Length : 1895\n",
      "Number of Unique Users : 1895\n",
      "Number of Unique Items : 2987\n"
     ]
    }
   ],
   "source": [
    "# Creating Item/News Lookup Dict\n",
    "ct_items = ct_df['item_id'].tolist()\n",
    "pc_items = pc_df['item_id'].tolist()\n",
    "\n",
    "# Creating Lookup  & Reverse Lookup for Item IDs\n",
    "items = list(set(ct_items))\n",
    "items_dict = {k: idx for idx, k in enumerate(items)}           # Format : {item_id:idx}\n",
    "inverse_items_dict = {idx: k for idx, k in enumerate(items)}   # Format : {idx:item_id}\n",
    "\n",
    "\n",
    "# Creating Lookup & Reverse Lookup for Consumer IDs\n",
    "ct_users = ct_df['consumer_id'].tolist()\n",
    "ct_users.extend(ct_users) #Master List of Items\n",
    "\n",
    "users = list(set(ct_users))\n",
    "users_dict = {k: idx for idx, k in enumerate(users)}           # Format : {consumer_id:idx}\n",
    "inverse_users_dict = {idx: k for idx, k in enumerate(users)}   # Format : {idx:consumer_id}\n",
    "\n",
    "\n",
    "print(\"Item Dictionary Length : {}\".format(len(items_dict)))\n",
    "print(\"Consumer Dictionary Length : {}\".format(len(users_dict)))\n",
    "\n",
    "\n",
    "n_users = ct_df.consumer_id.nunique()\n",
    "n_items = ct_df.item_id.nunique()\n",
    "\n",
    "print(\"Number of Unique Users : {}\".format(n_users))\n",
    "print(\"Number of Unique Items : {}\".format(n_items))\n",
    "\n",
    "\n",
    "# Map the Dataframe accordingly \n",
    "\n",
    "ct_df['consumer_id'] = ct_df['consumer_id'].map(users_dict)\n",
    "ct_df['item_id'] = ct_df['item_id'].map(items_dict)"
   ]
  },
  {
   "cell_type": "code",
   "execution_count": 47,
   "metadata": {
    "ExecuteTime": {
     "end_time": "2021-04-12T12:23:38.631260Z",
     "start_time": "2021-04-12T12:23:38.592808Z"
    }
   },
   "outputs": [
    {
     "data": {
      "text/html": [
       "<div>\n",
       "<style scoped>\n",
       "    .dataframe tbody tr th:only-of-type {\n",
       "        vertical-align: middle;\n",
       "    }\n",
       "\n",
       "    .dataframe tbody tr th {\n",
       "        vertical-align: top;\n",
       "    }\n",
       "\n",
       "    .dataframe thead th {\n",
       "        text-align: right;\n",
       "    }\n",
       "</style>\n",
       "<table border=\"1\" class=\"dataframe\">\n",
       "  <thead>\n",
       "    <tr style=\"text-align: right;\">\n",
       "      <th></th>\n",
       "      <th>item_id</th>\n",
       "      <th>consumer_id</th>\n",
       "      <th>ratings</th>\n",
       "    </tr>\n",
       "  </thead>\n",
       "  <tbody>\n",
       "    <tr>\n",
       "      <th>0</th>\n",
       "      <td>1251</td>\n",
       "      <td>309</td>\n",
       "      <td>1.000000</td>\n",
       "    </tr>\n",
       "    <tr>\n",
       "      <th>1</th>\n",
       "      <td>1119</td>\n",
       "      <td>1805</td>\n",
       "      <td>1.000000</td>\n",
       "    </tr>\n",
       "    <tr>\n",
       "      <th>2</th>\n",
       "      <td>144</td>\n",
       "      <td>1805</td>\n",
       "      <td>1.000000</td>\n",
       "    </tr>\n",
       "    <tr>\n",
       "      <th>3</th>\n",
       "      <td>1507</td>\n",
       "      <td>582</td>\n",
       "      <td>1.000000</td>\n",
       "    </tr>\n",
       "    <tr>\n",
       "      <th>4</th>\n",
       "      <td>812</td>\n",
       "      <td>582</td>\n",
       "      <td>1.000000</td>\n",
       "    </tr>\n",
       "    <tr>\n",
       "      <th>...</th>\n",
       "      <td>...</td>\n",
       "      <td>...</td>\n",
       "      <td>...</td>\n",
       "    </tr>\n",
       "    <tr>\n",
       "      <th>40705</th>\n",
       "      <td>2145</td>\n",
       "      <td>396</td>\n",
       "      <td>1.908413</td>\n",
       "    </tr>\n",
       "    <tr>\n",
       "      <th>40706</th>\n",
       "      <td>2209</td>\n",
       "      <td>396</td>\n",
       "      <td>1.000000</td>\n",
       "    </tr>\n",
       "    <tr>\n",
       "      <th>40707</th>\n",
       "      <td>989</td>\n",
       "      <td>396</td>\n",
       "      <td>1.000000</td>\n",
       "    </tr>\n",
       "    <tr>\n",
       "      <th>40708</th>\n",
       "      <td>2763</td>\n",
       "      <td>396</td>\n",
       "      <td>1.000000</td>\n",
       "    </tr>\n",
       "    <tr>\n",
       "      <th>40709</th>\n",
       "      <td>1216</td>\n",
       "      <td>396</td>\n",
       "      <td>1.000000</td>\n",
       "    </tr>\n",
       "  </tbody>\n",
       "</table>\n",
       "<p>40710 rows × 3 columns</p>\n",
       "</div>"
      ],
      "text/plain": [
       "       item_id  consumer_id   ratings\n",
       "0         1251          309  1.000000\n",
       "1         1119         1805  1.000000\n",
       "2          144         1805  1.000000\n",
       "3         1507          582  1.000000\n",
       "4          812          582  1.000000\n",
       "...        ...          ...       ...\n",
       "40705     2145          396  1.908413\n",
       "40706     2209          396  1.000000\n",
       "40707      989          396  1.000000\n",
       "40708     2763          396  1.000000\n",
       "40709     1216          396  1.000000\n",
       "\n",
       "[40710 rows x 3 columns]"
      ]
     },
     "execution_count": 47,
     "metadata": {},
     "output_type": "execute_result"
    }
   ],
   "source": [
    "ct_df"
   ]
  },
  {
   "cell_type": "markdown",
   "metadata": {},
   "source": [
    "## Building Recommendation System\n",
    "\n",
    "\n",
    "Now,that we have prepared the raw dataset with the ratings, we will try to build different type of Recommendation Systems & Evaluate them accordingly.\n",
    "\n",
    "The Major focus will be to build the following :\n",
    "\n",
    "1. User-based Collaborative Filtering (User-User) System\n",
    "2. Item-based Collaborative Filtering (User-Item) System\n",
    "3. Content-based Recommendation : for recommending similar items to what user has already watched.\n",
    "4. ALS Recommendation System\n",
    "5. Hybrid Recommendation System from the above."
   ]
  },
  {
   "cell_type": "code",
   "execution_count": 48,
   "metadata": {
    "ExecuteTime": {
     "end_time": "2021-04-12T12:23:38.660980Z",
     "start_time": "2021-04-12T12:23:38.638193Z"
    }
   },
   "outputs": [
    {
     "name": "stdout",
     "output_type": "stream",
     "text": [
      "Training Dataset Shape. : (32568, 3) \n",
      "Test Dataset Shape. : (8142, 3) \n"
     ]
    }
   ],
   "source": [
    "# Create Splits\n",
    "\n",
    "# Test and Train split of the dataset.\n",
    "train, test = train_test_split(ct_df, test_size=0.20, random_state=42)\n",
    "\n",
    "print(\"Training Dataset Shape. : {} \".format(train.shape))\n",
    "print(\"Test Dataset Shape. : {} \".format(test.shape))"
   ]
  },
  {
   "cell_type": "markdown",
   "metadata": {},
   "source": [
    "#### Creating dummy train & dummy test dataset\n",
    "\n",
    "These dataset will be used for prediction \n",
    "- Dummy train will be used later for prediction of the News Articles which has not been viewed/rated by the consumer. To ignore the News seen/rated by the consumer, we will mark it as 0 during prediction. The News Articles not seen/rated by consumer is marked as 1 for prediction in dummy train dataset. \n",
    "\n",
    "- Dummy test will be used for evaluation. To evaluate, we will only make prediction on the News seen/rated by the user. So, this is marked as 1. This is just opposite of dummy_train."
   ]
  },
  {
   "cell_type": "markdown",
   "metadata": {},
   "source": [
    "## 1. User Based Collaborative Recommendation System"
   ]
  },
  {
   "cell_type": "code",
   "execution_count": 49,
   "metadata": {
    "ExecuteTime": {
     "end_time": "2021-04-12T12:23:39.297331Z",
     "start_time": "2021-04-12T12:23:38.666629Z"
    }
   },
   "outputs": [
    {
     "name": "stdout",
     "output_type": "stream",
     "text": [
      "Train Subtracted : (1895, 2987)\n"
     ]
    },
    {
     "data": {
      "text/html": [
       "<div>\n",
       "<style scoped>\n",
       "    .dataframe tbody tr th:only-of-type {\n",
       "        vertical-align: middle;\n",
       "    }\n",
       "\n",
       "    .dataframe tbody tr th {\n",
       "        vertical-align: top;\n",
       "    }\n",
       "\n",
       "    .dataframe thead th {\n",
       "        text-align: right;\n",
       "    }\n",
       "</style>\n",
       "<table border=\"1\" class=\"dataframe\">\n",
       "  <thead>\n",
       "    <tr style=\"text-align: right;\">\n",
       "      <th></th>\n",
       "      <th>0</th>\n",
       "      <th>1</th>\n",
       "      <th>2</th>\n",
       "      <th>3</th>\n",
       "      <th>4</th>\n",
       "      <th>5</th>\n",
       "      <th>6</th>\n",
       "      <th>7</th>\n",
       "      <th>8</th>\n",
       "      <th>9</th>\n",
       "      <th>...</th>\n",
       "      <th>2977</th>\n",
       "      <th>2978</th>\n",
       "      <th>2979</th>\n",
       "      <th>2980</th>\n",
       "      <th>2981</th>\n",
       "      <th>2982</th>\n",
       "      <th>2983</th>\n",
       "      <th>2984</th>\n",
       "      <th>2985</th>\n",
       "      <th>2986</th>\n",
       "    </tr>\n",
       "  </thead>\n",
       "  <tbody>\n",
       "    <tr>\n",
       "      <th>0</th>\n",
       "      <td>-0.000639</td>\n",
       "      <td>-0.000639</td>\n",
       "      <td>-0.000639</td>\n",
       "      <td>-0.000639</td>\n",
       "      <td>-0.000639</td>\n",
       "      <td>-0.000639</td>\n",
       "      <td>-0.000639</td>\n",
       "      <td>-0.000639</td>\n",
       "      <td>-0.000639</td>\n",
       "      <td>-0.000639</td>\n",
       "      <td>...</td>\n",
       "      <td>-0.000639</td>\n",
       "      <td>-0.000639</td>\n",
       "      <td>-0.000639</td>\n",
       "      <td>-0.000639</td>\n",
       "      <td>-0.000639</td>\n",
       "      <td>-0.000639</td>\n",
       "      <td>-0.000639</td>\n",
       "      <td>-0.000639</td>\n",
       "      <td>-0.000639</td>\n",
       "      <td>-0.000639</td>\n",
       "    </tr>\n",
       "    <tr>\n",
       "      <th>1</th>\n",
       "      <td>-0.001674</td>\n",
       "      <td>-0.001674</td>\n",
       "      <td>-0.001674</td>\n",
       "      <td>-0.001674</td>\n",
       "      <td>-0.001674</td>\n",
       "      <td>-0.001674</td>\n",
       "      <td>-0.001674</td>\n",
       "      <td>-0.001674</td>\n",
       "      <td>-0.001674</td>\n",
       "      <td>-0.001674</td>\n",
       "      <td>...</td>\n",
       "      <td>-0.001674</td>\n",
       "      <td>-0.001674</td>\n",
       "      <td>-0.001674</td>\n",
       "      <td>-0.001674</td>\n",
       "      <td>-0.001674</td>\n",
       "      <td>-0.001674</td>\n",
       "      <td>-0.001674</td>\n",
       "      <td>-0.001674</td>\n",
       "      <td>-0.001674</td>\n",
       "      <td>-0.001674</td>\n",
       "    </tr>\n",
       "    <tr>\n",
       "      <th>2</th>\n",
       "      <td>-0.005104</td>\n",
       "      <td>-0.005104</td>\n",
       "      <td>-0.005104</td>\n",
       "      <td>-0.005104</td>\n",
       "      <td>-0.005104</td>\n",
       "      <td>-0.005104</td>\n",
       "      <td>-0.005104</td>\n",
       "      <td>-0.005104</td>\n",
       "      <td>-0.005104</td>\n",
       "      <td>-0.005104</td>\n",
       "      <td>...</td>\n",
       "      <td>-0.005104</td>\n",
       "      <td>-0.005104</td>\n",
       "      <td>-0.005104</td>\n",
       "      <td>-0.005104</td>\n",
       "      <td>-0.005104</td>\n",
       "      <td>-0.005104</td>\n",
       "      <td>-0.005104</td>\n",
       "      <td>-0.005104</td>\n",
       "      <td>-0.005104</td>\n",
       "      <td>-0.005104</td>\n",
       "    </tr>\n",
       "  </tbody>\n",
       "</table>\n",
       "<p>3 rows × 2987 columns</p>\n",
       "</div>"
      ],
      "text/plain": [
       "       0         1         2         3         4         5         6     \\\n",
       "0 -0.000639 -0.000639 -0.000639 -0.000639 -0.000639 -0.000639 -0.000639   \n",
       "1 -0.001674 -0.001674 -0.001674 -0.001674 -0.001674 -0.001674 -0.001674   \n",
       "2 -0.005104 -0.005104 -0.005104 -0.005104 -0.005104 -0.005104 -0.005104   \n",
       "\n",
       "       7         8         9     ...      2977      2978      2979      2980  \\\n",
       "0 -0.000639 -0.000639 -0.000639  ... -0.000639 -0.000639 -0.000639 -0.000639   \n",
       "1 -0.001674 -0.001674 -0.001674  ... -0.001674 -0.001674 -0.001674 -0.001674   \n",
       "2 -0.005104 -0.005104 -0.005104  ... -0.005104 -0.005104 -0.005104 -0.005104   \n",
       "\n",
       "       2981      2982      2983      2984      2985      2986  \n",
       "0 -0.000639 -0.000639 -0.000639 -0.000639 -0.000639 -0.000639  \n",
       "1 -0.001674 -0.001674 -0.001674 -0.001674 -0.001674 -0.001674  \n",
       "2 -0.005104 -0.005104 -0.005104 -0.005104 -0.005104 -0.005104  \n",
       "\n",
       "[3 rows x 2987 columns]"
      ]
     },
     "execution_count": 49,
     "metadata": {},
     "output_type": "execute_result"
    }
   ],
   "source": [
    "# Pivot the train ratings' dataset into matrix format in which columns are News ID and the rows are Consumer IDs.\n",
    "# Here, we are not removing the NaN values and calculating the mean only for the News rated by the user\n",
    "\n",
    "# Populate User-News Rating for Train Set\n",
    "train_pivot = np.zeros((n_users, n_items))\n",
    "for line in train.itertuples():\n",
    "    train_pivot[line[2]-1,line[1]-1 ] = line[3]\n",
    "\n",
    "# Populate User-News Ratings for Test Set   \n",
    "test_pivot = np.zeros((n_users, n_items))\n",
    "for line in test.itertuples():\n",
    "    test_pivot[line[2]-1, line[1]-1] = line[3]\n",
    "    \n",
    "\n",
    "# Populate User-News Ratings for Whole DataSet   \n",
    "data_pivot = np.zeros((n_users, n_items))\n",
    "for line in ct_df.itertuples():\n",
    "    data_pivot[line[2]-1,line[1]-1 ] = line[3]\n",
    "    \n",
    "    \n",
    "    \n",
    "# Normalising the rating of the movie for each user around 0 mean\n",
    "mean = np.nanmean(train_pivot, axis=1)\n",
    "train_subtracted = pd.DataFrame((train_pivot.T-mean).T) #pd.DataFrame(train_pivot)\n",
    "\n",
    "print(\"Train Subtracted : {}\".format(train_subtracted.shape))\n",
    "train_subtracted.head(3)"
   ]
  },
  {
   "cell_type": "markdown",
   "metadata": {},
   "source": [
    "#### Finding cosine similarity(adjusted cosine here)\n",
    "\n",
    "- User Similarity Matrix\n",
    "\n",
    "**Cosine Similarity**\n",
    "\n",
    "Cosine Similarity is a measurement that quantifies the similarity between two vectors [Which is Rating Vector in this case] \n",
    "\n",
    "**Adjusted Cosine**\n",
    "\n",
    "Adjusted cosine similarity is a modified version of vector-based similarity where we incorporate the fact that different users have different ratings schemes. In other words, some users might rate items highly in general, and others might give items lower ratings as a preference. To handle this nature from rating given by user , we subtract average ratings for each user from each user's rating for different movies"
   ]
  },
  {
   "cell_type": "code",
   "execution_count": 50,
   "metadata": {
    "ExecuteTime": {
     "end_time": "2021-04-12T12:23:40.016768Z",
     "start_time": "2021-04-12T12:23:39.306843Z"
    }
   },
   "outputs": [
    {
     "name": "stdout",
     "output_type": "stream",
     "text": [
      "User-User/ Consumer-Consumer Matrix Shape: (1895, 1895)\n",
      "[[ 1.00000000e+00 -7.49352708e-04 -7.83459746e-04 ... -9.80238987e-04\n",
      "  -1.68118168e-03 -1.19156168e-03]\n",
      " [-7.49352708e-04  1.00000000e+00 -1.75304382e-03 ... -2.19335059e-03\n",
      "  -3.76175697e-03 -2.66619930e-03]\n",
      " [-7.83459746e-04 -1.75304382e-03  1.00000000e+00 ... -2.29318167e-03\n",
      "  -3.93297459e-03 -2.78755225e-03]\n",
      " ...\n",
      " [-9.80238987e-04 -2.19335059e-03 -2.29318167e-03 ...  1.00000000e+00\n",
      "   8.02015738e-03 -3.48769341e-03]\n",
      " [-1.68118168e-03 -3.76175697e-03 -3.93297459e-03 ...  8.02015738e-03\n",
      "   1.00000000e+00  1.49722011e-02]\n",
      " [-1.19156168e-03 -2.66619930e-03 -2.78755225e-03 ... -3.48769341e-03\n",
      "   1.49722011e-02  1.00000000e+00]]\n"
     ]
    }
   ],
   "source": [
    "# Creating the User Similarity Matrix using pairwise_distance function.\n",
    "\n",
    "user_correlation = 1 - pairwise_distances(train_subtracted, metric='cosine')\n",
    "print(\"User-User/ Consumer-Consumer Matrix Shape: {}\".format(user_correlation.shape))\n",
    "print(user_correlation)"
   ]
  },
  {
   "cell_type": "markdown",
   "metadata": {},
   "source": [
    "#### Prediction - User Based (User-Item Matrix)\n",
    "\n",
    "Doing the prediction for the consumers which are positively related with other consumers, and not the consumers which are negatively related as we are interested in the consumers which are more similar to the current consumers. So, ignoring the correlation for values less than 0. "
   ]
  },
  {
   "cell_type": "code",
   "execution_count": 51,
   "metadata": {
    "ExecuteTime": {
     "end_time": "2021-04-12T12:23:41.361384Z",
     "start_time": "2021-04-12T12:23:40.026116Z"
    }
   },
   "outputs": [
    {
     "name": "stdout",
     "output_type": "stream",
     "text": [
      "Positively Corelated Consumers Size : (1895, 1895)\n",
      "Predictions of Train Set Size : (1895, 2987)\n",
      "Predictions of Test Set Size : (1895, 2987)\n",
      "Predictions of Whole Set Size : (1895, 2987)\n"
     ]
    }
   ],
   "source": [
    "user_correlation[user_correlation<0]=0\n",
    "print(\"Positively Corelated Consumers Size : {}\".format(user_correlation.shape))\n",
    "\n",
    "# predictions on the Train Set\n",
    "user_predicted_ratings_train = np.dot(user_correlation, train_pivot)\n",
    "print(\"Predictions of Train Set Size : {}\".format(user_predicted_ratings_train.shape))\n",
    "\n",
    "\n",
    "# predictions on the Test Set\n",
    "user_predicted_ratings_test = np.dot(user_correlation, test_pivot)\n",
    "print(\"Predictions of Test Set Size : {}\".format(user_predicted_ratings_test.shape))\n",
    "\n",
    "# predictions on the Test Set\n",
    "user_predicted_ratings_data = np.dot(user_correlation, data_pivot)\n",
    "print(\"Predictions of Whole Set Size : {}\".format(user_predicted_ratings_data.shape))\n",
    "\n"
   ]
  },
  {
   "cell_type": "code",
   "execution_count": 52,
   "metadata": {
    "ExecuteTime": {
     "end_time": "2021-04-12T12:23:41.378134Z",
     "start_time": "2021-04-12T12:23:41.368670Z"
    }
   },
   "outputs": [],
   "source": [
    "# Creating Dummy Dataframes to filtering existing Ratings aka news already seen by User\n",
    "\n",
    "# Custom Fuction to mask already rated content as 0 for prediction\n",
    "def create_pred_mask(elem) :\n",
    "    \n",
    "    # elem is the rating for the User-Item pair from consumer transactions \n",
    "    if elem>=1 :\n",
    "        return 0\n",
    "    else :\n",
    "        return 1"
   ]
  },
  {
   "cell_type": "code",
   "execution_count": 53,
   "metadata": {
    "ExecuteTime": {
     "end_time": "2021-04-12T12:24:31.422378Z",
     "start_time": "2021-04-12T12:23:41.387446Z"
    }
   },
   "outputs": [
    {
     "data": {
      "text/html": [
       "<div>\n",
       "<style scoped>\n",
       "    .dataframe tbody tr th:only-of-type {\n",
       "        vertical-align: middle;\n",
       "    }\n",
       "\n",
       "    .dataframe tbody tr th {\n",
       "        vertical-align: top;\n",
       "    }\n",
       "\n",
       "    .dataframe thead th {\n",
       "        text-align: right;\n",
       "    }\n",
       "</style>\n",
       "<table border=\"1\" class=\"dataframe\">\n",
       "  <thead>\n",
       "    <tr style=\"text-align: right;\">\n",
       "      <th></th>\n",
       "      <th>0</th>\n",
       "      <th>1</th>\n",
       "      <th>2</th>\n",
       "      <th>3</th>\n",
       "      <th>4</th>\n",
       "      <th>5</th>\n",
       "      <th>6</th>\n",
       "      <th>7</th>\n",
       "      <th>8</th>\n",
       "      <th>9</th>\n",
       "      <th>...</th>\n",
       "      <th>2977</th>\n",
       "      <th>2978</th>\n",
       "      <th>2979</th>\n",
       "      <th>2980</th>\n",
       "      <th>2981</th>\n",
       "      <th>2982</th>\n",
       "      <th>2983</th>\n",
       "      <th>2984</th>\n",
       "      <th>2985</th>\n",
       "      <th>2986</th>\n",
       "    </tr>\n",
       "  </thead>\n",
       "  <tbody>\n",
       "    <tr>\n",
       "      <th>0</th>\n",
       "      <td>1</td>\n",
       "      <td>1</td>\n",
       "      <td>1</td>\n",
       "      <td>1</td>\n",
       "      <td>1</td>\n",
       "      <td>1</td>\n",
       "      <td>1</td>\n",
       "      <td>1</td>\n",
       "      <td>1</td>\n",
       "      <td>1</td>\n",
       "      <td>...</td>\n",
       "      <td>1</td>\n",
       "      <td>1</td>\n",
       "      <td>1</td>\n",
       "      <td>1</td>\n",
       "      <td>1</td>\n",
       "      <td>1</td>\n",
       "      <td>1</td>\n",
       "      <td>1</td>\n",
       "      <td>1</td>\n",
       "      <td>1</td>\n",
       "    </tr>\n",
       "    <tr>\n",
       "      <th>1</th>\n",
       "      <td>1</td>\n",
       "      <td>1</td>\n",
       "      <td>1</td>\n",
       "      <td>1</td>\n",
       "      <td>1</td>\n",
       "      <td>1</td>\n",
       "      <td>1</td>\n",
       "      <td>1</td>\n",
       "      <td>1</td>\n",
       "      <td>1</td>\n",
       "      <td>...</td>\n",
       "      <td>1</td>\n",
       "      <td>1</td>\n",
       "      <td>1</td>\n",
       "      <td>1</td>\n",
       "      <td>1</td>\n",
       "      <td>1</td>\n",
       "      <td>1</td>\n",
       "      <td>1</td>\n",
       "      <td>1</td>\n",
       "      <td>1</td>\n",
       "    </tr>\n",
       "    <tr>\n",
       "      <th>2</th>\n",
       "      <td>1</td>\n",
       "      <td>1</td>\n",
       "      <td>1</td>\n",
       "      <td>1</td>\n",
       "      <td>1</td>\n",
       "      <td>1</td>\n",
       "      <td>1</td>\n",
       "      <td>1</td>\n",
       "      <td>1</td>\n",
       "      <td>1</td>\n",
       "      <td>...</td>\n",
       "      <td>1</td>\n",
       "      <td>1</td>\n",
       "      <td>1</td>\n",
       "      <td>1</td>\n",
       "      <td>1</td>\n",
       "      <td>1</td>\n",
       "      <td>1</td>\n",
       "      <td>1</td>\n",
       "      <td>1</td>\n",
       "      <td>1</td>\n",
       "    </tr>\n",
       "    <tr>\n",
       "      <th>3</th>\n",
       "      <td>1</td>\n",
       "      <td>1</td>\n",
       "      <td>1</td>\n",
       "      <td>1</td>\n",
       "      <td>1</td>\n",
       "      <td>1</td>\n",
       "      <td>1</td>\n",
       "      <td>1</td>\n",
       "      <td>1</td>\n",
       "      <td>1</td>\n",
       "      <td>...</td>\n",
       "      <td>1</td>\n",
       "      <td>1</td>\n",
       "      <td>1</td>\n",
       "      <td>1</td>\n",
       "      <td>1</td>\n",
       "      <td>1</td>\n",
       "      <td>1</td>\n",
       "      <td>1</td>\n",
       "      <td>1</td>\n",
       "      <td>1</td>\n",
       "    </tr>\n",
       "    <tr>\n",
       "      <th>4</th>\n",
       "      <td>1</td>\n",
       "      <td>1</td>\n",
       "      <td>1</td>\n",
       "      <td>1</td>\n",
       "      <td>1</td>\n",
       "      <td>1</td>\n",
       "      <td>1</td>\n",
       "      <td>1</td>\n",
       "      <td>1</td>\n",
       "      <td>1</td>\n",
       "      <td>...</td>\n",
       "      <td>1</td>\n",
       "      <td>1</td>\n",
       "      <td>1</td>\n",
       "      <td>1</td>\n",
       "      <td>1</td>\n",
       "      <td>1</td>\n",
       "      <td>1</td>\n",
       "      <td>1</td>\n",
       "      <td>1</td>\n",
       "      <td>1</td>\n",
       "    </tr>\n",
       "  </tbody>\n",
       "</table>\n",
       "<p>5 rows × 2987 columns</p>\n",
       "</div>"
      ],
      "text/plain": [
       "   0     1     2     3     4     5     6     7     8     9     ...  2977  \\\n",
       "0     1     1     1     1     1     1     1     1     1     1  ...     1   \n",
       "1     1     1     1     1     1     1     1     1     1     1  ...     1   \n",
       "2     1     1     1     1     1     1     1     1     1     1  ...     1   \n",
       "3     1     1     1     1     1     1     1     1     1     1  ...     1   \n",
       "4     1     1     1     1     1     1     1     1     1     1  ...     1   \n",
       "\n",
       "   2978  2979  2980  2981  2982  2983  2984  2985  2986  \n",
       "0     1     1     1     1     1     1     1     1     1  \n",
       "1     1     1     1     1     1     1     1     1     1  \n",
       "2     1     1     1     1     1     1     1     1     1  \n",
       "3     1     1     1     1     1     1     1     1     1  \n",
       "4     1     1     1     1     1     1     1     1     1  \n",
       "\n",
       "[5 rows x 2987 columns]"
      ]
     },
     "execution_count": 53,
     "metadata": {},
     "output_type": "execute_result"
    }
   ],
   "source": [
    "# Create Pred Dummy \n",
    "\n",
    "train_pred_dummy = pd.DataFrame(train_pivot)\n",
    "train_pred_dummy = train_pred_dummy.applymap(create_pred_mask)\n",
    "\n",
    "test_pred_dummy = pd.DataFrame(test_pivot)\n",
    "test_pred_dummy = test_pred_dummy.applymap(create_pred_mask)\n",
    "\n",
    "data_pred_dummy = pd.DataFrame(data_pivot)\n",
    "data_pred_dummy = data_pred_dummy.applymap(create_pred_mask)\n",
    "\n",
    "train_pred_dummy.head()"
   ]
  },
  {
   "cell_type": "markdown",
   "metadata": {
    "ExecuteTime": {
     "end_time": "2021-04-03T14:30:24.238661Z",
     "start_time": "2021-04-03T14:30:24.222290Z"
    }
   },
   "source": [
    "#### User Based Predictions\n",
    "\n",
    "Finally, we multiply the user_predicted_ratings_* arrays to the mask to filter out already rated content. Via this when we recommend Top N recommendations it will always exlcude already rated content.\n",
    "\n",
    "It should be noted that for evaluation we will be treating Train & test separately. Final recommendation will be done over the complete dataset to give the best recommendation."
   ]
  },
  {
   "cell_type": "code",
   "execution_count": 54,
   "metadata": {
    "ExecuteTime": {
     "end_time": "2021-04-12T12:24:33.563165Z",
     "start_time": "2021-04-12T12:24:31.442121Z"
    }
   },
   "outputs": [],
   "source": [
    "# Final Train Set Predictions\n",
    "user_rating_train = np.multiply(user_predicted_ratings_train,train_pred_dummy)\n",
    "\n",
    "# Final Test Set Predictions\n",
    "user_rating_test = np.multiply(user_predicted_ratings_test,test_pred_dummy)\n",
    "\n",
    "# Final Whole Set Predictions\n",
    "user_rating_data = np.multiply(user_predicted_ratings_data,data_pred_dummy)"
   ]
  },
  {
   "cell_type": "markdown",
   "metadata": {},
   "source": [
    "## 2. Item Based Collaborative Recommendation System\n",
    "\n",
    "In Item Based system, the process remains same as the User Based system, apart from the difference that we compute item_correleations. This is achieved by transposing the metrics operations we performed earlier in the User Based Recommendation System"
   ]
  },
  {
   "cell_type": "code",
   "execution_count": 55,
   "metadata": {
    "ExecuteTime": {
     "end_time": "2021-04-12T12:24:34.428191Z",
     "start_time": "2021-04-12T12:24:33.594115Z"
    }
   },
   "outputs": [
    {
     "name": "stdout",
     "output_type": "stream",
     "text": [
      "Training Item based Size : (2987, 1895)\n",
      "Test Item based Size : (2987, 1895)\n",
      "Dataset Item based Size : (2987, 1895)\n",
      "Train Subtracted : (2987, 1895)\n"
     ]
    },
    {
     "data": {
      "text/html": [
       "<div>\n",
       "<style scoped>\n",
       "    .dataframe tbody tr th:only-of-type {\n",
       "        vertical-align: middle;\n",
       "    }\n",
       "\n",
       "    .dataframe tbody tr th {\n",
       "        vertical-align: top;\n",
       "    }\n",
       "\n",
       "    .dataframe thead th {\n",
       "        text-align: right;\n",
       "    }\n",
       "</style>\n",
       "<table border=\"1\" class=\"dataframe\">\n",
       "  <thead>\n",
       "    <tr style=\"text-align: right;\">\n",
       "      <th></th>\n",
       "      <th>0</th>\n",
       "      <th>1</th>\n",
       "      <th>2</th>\n",
       "      <th>3</th>\n",
       "      <th>4</th>\n",
       "      <th>5</th>\n",
       "      <th>6</th>\n",
       "      <th>7</th>\n",
       "      <th>8</th>\n",
       "      <th>9</th>\n",
       "      <th>...</th>\n",
       "      <th>1885</th>\n",
       "      <th>1886</th>\n",
       "      <th>1887</th>\n",
       "      <th>1888</th>\n",
       "      <th>1889</th>\n",
       "      <th>1890</th>\n",
       "      <th>1891</th>\n",
       "      <th>1892</th>\n",
       "      <th>1893</th>\n",
       "      <th>1894</th>\n",
       "    </tr>\n",
       "  </thead>\n",
       "  <tbody>\n",
       "    <tr>\n",
       "      <th>0</th>\n",
       "      <td>-0.015324</td>\n",
       "      <td>-0.015324</td>\n",
       "      <td>-0.015324</td>\n",
       "      <td>-0.015324</td>\n",
       "      <td>-0.015324</td>\n",
       "      <td>-0.015324</td>\n",
       "      <td>-0.015324</td>\n",
       "      <td>-0.015324</td>\n",
       "      <td>-0.015324</td>\n",
       "      <td>-0.015324</td>\n",
       "      <td>...</td>\n",
       "      <td>-0.015324</td>\n",
       "      <td>-0.015324</td>\n",
       "      <td>-0.015324</td>\n",
       "      <td>-0.015324</td>\n",
       "      <td>-0.015324</td>\n",
       "      <td>-0.015324</td>\n",
       "      <td>-0.015324</td>\n",
       "      <td>-0.015324</td>\n",
       "      <td>-0.015324</td>\n",
       "      <td>-0.015324</td>\n",
       "    </tr>\n",
       "    <tr>\n",
       "      <th>1</th>\n",
       "      <td>-0.004701</td>\n",
       "      <td>-0.004701</td>\n",
       "      <td>-0.004701</td>\n",
       "      <td>-0.004701</td>\n",
       "      <td>-0.004701</td>\n",
       "      <td>-0.004701</td>\n",
       "      <td>-0.004701</td>\n",
       "      <td>-0.004701</td>\n",
       "      <td>-0.004701</td>\n",
       "      <td>-0.004701</td>\n",
       "      <td>...</td>\n",
       "      <td>-0.004701</td>\n",
       "      <td>-0.004701</td>\n",
       "      <td>-0.004701</td>\n",
       "      <td>-0.004701</td>\n",
       "      <td>-0.004701</td>\n",
       "      <td>-0.004701</td>\n",
       "      <td>-0.004701</td>\n",
       "      <td>-0.004701</td>\n",
       "      <td>-0.004701</td>\n",
       "      <td>-0.004701</td>\n",
       "    </tr>\n",
       "    <tr>\n",
       "      <th>2</th>\n",
       "      <td>-0.000528</td>\n",
       "      <td>-0.000528</td>\n",
       "      <td>-0.000528</td>\n",
       "      <td>-0.000528</td>\n",
       "      <td>-0.000528</td>\n",
       "      <td>-0.000528</td>\n",
       "      <td>-0.000528</td>\n",
       "      <td>-0.000528</td>\n",
       "      <td>-0.000528</td>\n",
       "      <td>-0.000528</td>\n",
       "      <td>...</td>\n",
       "      <td>-0.000528</td>\n",
       "      <td>-0.000528</td>\n",
       "      <td>-0.000528</td>\n",
       "      <td>-0.000528</td>\n",
       "      <td>-0.000528</td>\n",
       "      <td>-0.000528</td>\n",
       "      <td>-0.000528</td>\n",
       "      <td>-0.000528</td>\n",
       "      <td>-0.000528</td>\n",
       "      <td>-0.000528</td>\n",
       "    </tr>\n",
       "  </tbody>\n",
       "</table>\n",
       "<p>3 rows × 1895 columns</p>\n",
       "</div>"
      ],
      "text/plain": [
       "       0         1         2         3         4         5         6     \\\n",
       "0 -0.015324 -0.015324 -0.015324 -0.015324 -0.015324 -0.015324 -0.015324   \n",
       "1 -0.004701 -0.004701 -0.004701 -0.004701 -0.004701 -0.004701 -0.004701   \n",
       "2 -0.000528 -0.000528 -0.000528 -0.000528 -0.000528 -0.000528 -0.000528   \n",
       "\n",
       "       7         8         9     ...      1885      1886      1887      1888  \\\n",
       "0 -0.015324 -0.015324 -0.015324  ... -0.015324 -0.015324 -0.015324 -0.015324   \n",
       "1 -0.004701 -0.004701 -0.004701  ... -0.004701 -0.004701 -0.004701 -0.004701   \n",
       "2 -0.000528 -0.000528 -0.000528  ... -0.000528 -0.000528 -0.000528 -0.000528   \n",
       "\n",
       "       1889      1890      1891      1892      1893      1894  \n",
       "0 -0.015324 -0.015324 -0.015324 -0.015324 -0.015324 -0.015324  \n",
       "1 -0.004701 -0.004701 -0.004701 -0.004701 -0.004701 -0.004701  \n",
       "2 -0.000528 -0.000528 -0.000528 -0.000528 -0.000528 -0.000528  \n",
       "\n",
       "[3 rows x 1895 columns]"
      ]
     },
     "execution_count": 55,
     "metadata": {},
     "output_type": "execute_result"
    }
   ],
   "source": [
    "# Transposing the Datasets from the User based System\n",
    "train_item_pivot = train_pivot.T\n",
    "test_item_pivot = test_pivot.T\n",
    "data_item_pivot = data_pivot.T\n",
    "\n",
    "print(\"Training Item based Size : {}\".format(train_item_pivot.shape))\n",
    "print(\"Test Item based Size : {}\".format(test_item_pivot.shape))\n",
    "print(\"Dataset Item based Size : {}\".format(data_item_pivot.shape))\n",
    "\n",
    "\n",
    "# Normalising the rating of the movie for each user around 0 mean\n",
    "mean = np.nanmean(train_item_pivot, axis=1)\n",
    "train_item_subtracted = pd.DataFrame((train_item_pivot.T-mean).T)\n",
    "# train_item_subtracted = pd.DataFrame(train_item_pivot)\n",
    "\n",
    "print(\"Train Subtracted : {}\".format(train_item_subtracted.shape))\n",
    "train_item_subtracted.head(3)"
   ]
  },
  {
   "cell_type": "code",
   "execution_count": 56,
   "metadata": {
    "ExecuteTime": {
     "end_time": "2021-04-12T12:24:38.503851Z",
     "start_time": "2021-04-12T12:24:34.446838Z"
    }
   },
   "outputs": [
    {
     "name": "stdout",
     "output_type": "stream",
     "text": [
      "Item-Item/ News-News Matrix Shape: (2987, 2987)\n",
      "[[ 1.          0.03205018 -0.00185238 ...  0.08549504 -0.00435832\n",
      "  -0.00643746]\n",
      " [ 0.03205018  1.         -0.00144427 ... -0.01004819  0.10123505\n",
      "   0.06703969]\n",
      " [-0.00185238 -0.00144427  1.         ... -0.00367332 -0.00124225\n",
      "  -0.00183487]\n",
      " ...\n",
      " [ 0.08549504 -0.01004819 -0.00367332 ...  1.         -0.00864266\n",
      "   0.00537751]\n",
      " [-0.00435832  0.10123505 -0.00124225 ... -0.00864266  1.\n",
      "  -0.00431711]\n",
      " [-0.00643746  0.06703969 -0.00183487 ...  0.00537751 -0.00431711\n",
      "   1.        ]]\n"
     ]
    }
   ],
   "source": [
    "# Item Similarity Matrix\n",
    "item_correlation = 1 - pairwise_distances(train_item_subtracted, metric='cosine')\n",
    "# item_correlation[np.isnan(item_correlation)] = 0\n",
    "print(\"Item-Item/ News-News Matrix Shape: {}\".format(item_correlation.shape))\n",
    "print(item_correlation)"
   ]
  },
  {
   "cell_type": "markdown",
   "metadata": {},
   "source": [
    "#### Prediction - Item Based (Item-Item Matrix)\n",
    "\n",
    "Doing the prediction for the News which are positively related with other News, and not the News which are negatively related as we are interested in the consumers which are more similar to the current consumers. So, ignoring the correlation for values less than 0. "
   ]
  },
  {
   "cell_type": "code",
   "execution_count": 57,
   "metadata": {
    "ExecuteTime": {
     "end_time": "2021-04-12T12:24:45.929685Z",
     "start_time": "2021-04-12T12:24:38.536474Z"
    }
   },
   "outputs": [
    {
     "name": "stdout",
     "output_type": "stream",
     "text": [
      "Predictions of Train Set Size : (1895, 2987)\n",
      "Predictions of Test Set Size : (1895, 2987)\n",
      "Predictions of Whole Set Size : (1895, 2987)\n"
     ]
    }
   ],
   "source": [
    "item_correlation[item_correlation<0]=0\n",
    "item_correlation_df = pd.DataFrame(item_correlation) # to be used in Hybdrid Recommendation System\n",
    "\n",
    "\n",
    "# predictions on the Train Set\n",
    "item_predicted_ratings_train = np.dot(train_item_pivot.T, item_correlation )\n",
    "print(\"Predictions of Train Set Size : {}\".format(item_predicted_ratings_train.shape))\n",
    "\n",
    "\n",
    "# predictions on the Test Set\n",
    "item_predicted_ratings_test = np.dot(train_item_pivot.T, item_correlation)\n",
    "print(\"Predictions of Test Set Size : {}\".format(item_predicted_ratings_test.shape))\n",
    "\n",
    "# predictions on the Test Set\n",
    "item_predicted_ratings_data = np.dot(train_item_pivot.T, item_correlation)\n",
    "print(\"Predictions of Whole Set Size : {}\".format(item_predicted_ratings_data.shape))\n"
   ]
  },
  {
   "cell_type": "markdown",
   "metadata": {},
   "source": [
    "#### Item Based Predictions \n",
    "\n",
    "Finally, we multiply the user_predicted_ratings_* arrays to the mask to filter out already rated content. Via this when we recommend Top N recommendations it will always exlcude already rated content."
   ]
  },
  {
   "cell_type": "code",
   "execution_count": 58,
   "metadata": {
    "ExecuteTime": {
     "end_time": "2021-04-12T12:24:47.936908Z",
     "start_time": "2021-04-12T12:24:45.950697Z"
    }
   },
   "outputs": [],
   "source": [
    "# Final Train Set Predictions\n",
    "item_rating_train = np.multiply(item_predicted_ratings_train,train_pred_dummy)\n",
    "\n",
    "# Final Test Set Predictions\n",
    "item_rating_test = np.multiply(item_predicted_ratings_test,test_pred_dummy)\n",
    "\n",
    "# Final Whole Set Predictions\n",
    "item_rating_data = np.multiply(item_predicted_ratings_data,data_pred_dummy)"
   ]
  },
  {
   "cell_type": "markdown",
   "metadata": {},
   "source": [
    "## 3. Content Based Recommendation\n",
    "\n",
    "This solves our second problem statement where we want to recommend similar News Articles based on what the Consumer has read in the morning. For this we would be trying to find similarity between the  News Content on the Platform using the text in the Title & Text Description.\n",
    "\n",
    "\n",
    "Key Strategies :\n",
    "\n",
    "- While using content based filtering or NLP problem, it's a general practice to remove stop-words and do stemming & lemmatisation. \n",
    "- In the first version of the Recommendation, I don't do these for the following reasons :\n",
    "    - TF-IDF based on it's formulation already give poor scoring to most commonly occuring words (like stop-words)\n",
    "    - Explicit Cleaning is not required as News Articles are authored with great care to avoid spell errors or grammatical mistakes.\n",
    "    - Stemming or Lemmatizing could have helped to reduce words to their base form for similarity, but I plan to do this later in more advanced versions."
   ]
  },
  {
   "cell_type": "code",
   "execution_count": 59,
   "metadata": {
    "ExecuteTime": {
     "end_time": "2021-04-12T12:24:52.512235Z",
     "start_time": "2021-04-12T12:24:47.965768Z"
    }
   },
   "outputs": [
    {
     "data": {
      "text/html": [
       "<div>\n",
       "<style scoped>\n",
       "    .dataframe tbody tr th:only-of-type {\n",
       "        vertical-align: middle;\n",
       "    }\n",
       "\n",
       "    .dataframe tbody tr th {\n",
       "        vertical-align: top;\n",
       "    }\n",
       "\n",
       "    .dataframe thead th {\n",
       "        text-align: right;\n",
       "    }\n",
       "</style>\n",
       "<table border=\"1\" class=\"dataframe\">\n",
       "  <thead>\n",
       "    <tr style=\"text-align: right;\">\n",
       "      <th></th>\n",
       "      <th>item_id</th>\n",
       "      <th>item_url</th>\n",
       "      <th>title</th>\n",
       "      <th>text_description</th>\n",
       "      <th>title_words</th>\n",
       "      <th>title_len</th>\n",
       "      <th>text_words</th>\n",
       "      <th>text_len</th>\n",
       "      <th>title_wordlist</th>\n",
       "      <th>text_wordlist</th>\n",
       "      <th>document_wordlist</th>\n",
       "    </tr>\n",
       "  </thead>\n",
       "  <tbody>\n",
       "    <tr>\n",
       "      <th>1</th>\n",
       "      <td>4110354420726924665</td>\n",
       "      <td>http://www.nytimes.com/2016/03/28/business/dea...</td>\n",
       "      <td>Ethereum, a Virtual Currency, Enables Transact...</td>\n",
       "      <td>All of this work is still very early. The firs...</td>\n",
       "      <td>9</td>\n",
       "      <td>71</td>\n",
       "      <td>1072</td>\n",
       "      <td>6543</td>\n",
       "      <td>[ethereum,, a, virtual, currency,, enables, tr...</td>\n",
       "      <td>[all, of, this, work, is, still, very, early.,...</td>\n",
       "      <td>[ethereum,, a, virtual, currency,, enables, tr...</td>\n",
       "    </tr>\n",
       "    <tr>\n",
       "      <th>2</th>\n",
       "      <td>7292285110016212249</td>\n",
       "      <td>http://cointelegraph.com/news/bitcoin-future-w...</td>\n",
       "      <td>Bitcoin Future: When GBPcoin of Branson Wins O...</td>\n",
       "      <td>The alarm clock wakes me at 8:00 with stream o...</td>\n",
       "      <td>11</td>\n",
       "      <td>66</td>\n",
       "      <td>311</td>\n",
       "      <td>1993</td>\n",
       "      <td>[bitcoin, future:, when, gbpcoin, of, branson,...</td>\n",
       "      <td>[the, alarm, clock, wakes, me, at, 8:00, with,...</td>\n",
       "      <td>[bitcoin, future:, when, gbpcoin, of, branson,...</td>\n",
       "    </tr>\n",
       "  </tbody>\n",
       "</table>\n",
       "</div>"
      ],
      "text/plain": [
       "               item_id                                           item_url  \\\n",
       "1  4110354420726924665  http://www.nytimes.com/2016/03/28/business/dea...   \n",
       "2  7292285110016212249  http://cointelegraph.com/news/bitcoin-future-w...   \n",
       "\n",
       "                                               title  \\\n",
       "1  Ethereum, a Virtual Currency, Enables Transact...   \n",
       "2  Bitcoin Future: When GBPcoin of Branson Wins O...   \n",
       "\n",
       "                                    text_description  title_words  title_len  \\\n",
       "1  All of this work is still very early. The firs...            9         71   \n",
       "2  The alarm clock wakes me at 8:00 with stream o...           11         66   \n",
       "\n",
       "   text_words  text_len                                     title_wordlist  \\\n",
       "1        1072      6543  [ethereum,, a, virtual, currency,, enables, tr...   \n",
       "2         311      1993  [bitcoin, future:, when, gbpcoin, of, branson,...   \n",
       "\n",
       "                                       text_wordlist  \\\n",
       "1  [all, of, this, work, is, still, very, early.,...   \n",
       "2  [the, alarm, clock, wakes, me, at, 8:00, with,...   \n",
       "\n",
       "                                   document_wordlist  \n",
       "1  [ethereum,, a, virtual, currency,, enables, tr...  \n",
       "2  [bitcoin, future:, when, gbpcoin, of, branson,...  "
      ]
     },
     "execution_count": 59,
     "metadata": {},
     "output_type": "execute_result"
    }
   ],
   "source": [
    "# Split Text into words & create a Document/New Wordlist column\n",
    "\n",
    "pc_df['title_wordlist'] = pc_df['title'].apply(lambda x : str.lower(x).split()) \n",
    "pc_df['text_wordlist'] = pc_df['text_description'].apply(lambda x : str.lower(x).split()) \n",
    "pc_df['document_wordlist'] = pc_df.apply(lambda row : row['title_wordlist']+ row['text_wordlist'],axis=1)\n",
    "\n",
    "pc_df.head(2)"
   ]
  },
  {
   "cell_type": "code",
   "execution_count": 60,
   "metadata": {
    "ExecuteTime": {
     "end_time": "2021-04-12T12:27:01.166570Z",
     "start_time": "2021-04-12T12:24:52.541659Z"
    }
   },
   "outputs": [
    {
     "name": "stdout",
     "output_type": "stream",
     "text": [
      "Length of WordList : 2211\n",
      "Length of Dictionary : 113750\n",
      "Length of Corpus : 2211\n",
      "MatrixSimilarity<2211 docs, 113750 features>\n"
     ]
    }
   ],
   "source": [
    "# Creating the Document Wordlist\n",
    "wordlist = pc_df['document_wordlist'].tolist()\n",
    "print(\"Length of WordList : {}\".format(len(wordlist)))\n",
    "\n",
    "# Creating the dictionary for the News Article\n",
    "dictionary = Dictionary(wordlist) \n",
    "print(\"Length of Dictionary : {}\".format(len(dictionary)))\n",
    "\n",
    "### Generate Corpus by creating BOW of each document\n",
    "corpus = [dictionary.doc2bow(doc) for doc in wordlist] \n",
    "print(\"Length of Corpus : {}\".format(len(corpus)))\n",
    "\n",
    "# Create TF-IDF model\n",
    "tfidf = TfidfModel(corpus)\n",
    "\n",
    "## Generate Similarity Matrix\n",
    "sims = MatrixSimilarity(tfidf[corpus], num_features=len(dictionary))\n",
    "print(sims)"
   ]
  },
  {
   "cell_type": "code",
   "execution_count": 61,
   "metadata": {
    "ExecuteTime": {
     "end_time": "2021-04-12T12:27:01.272580Z",
     "start_time": "2021-04-12T12:27:01.188440Z"
    }
   },
   "outputs": [],
   "source": [
    "def content_recommendation(item_id,number_of_hits=10):\n",
    "    # get the movie row\n",
    "    news = pc_df.loc[pc_df.item_id==item_id] \n",
    "    \n",
    "    #set the list of words to query_doc\n",
    "    query_doc = news['document_wordlist'].iloc[0] \n",
    "    \n",
    "    # get a bag of words from the query_doc\n",
    "    query_doc_bow = dictionary.doc2bow(query_doc) \n",
    "\n",
    "    #convert the regular bag of words model to a tf-idf model\n",
    "    query_doc_tfidf = tfidf[query_doc_bow] \n",
    "\n",
    "    # get similarity values between input movie and all other movies\n",
    "    similarity_array = sims[query_doc_tfidf] \n",
    "\n",
    "    #Convert to a Series\n",
    "    similarity_series = pd.Series(similarity_array.tolist(), index=pc_df.item_id.values) \n",
    "    similarity_df = pd.DataFrame(similarity_series).reset_index().rename(columns={'index':'item_id',0:'score'})\n",
    "    similarity_df = pd.merge(similarity_df,pc_df[['item_id','title']],left_on=\"item_id\",right_on=\"item_id\",how=\"inner\")\n",
    "    \n",
    "\n",
    "    #get the most similar movies except the first which will be the same movie\n",
    "    similarity_output = similarity_df.sort_values(by=\"score\",ascending=False)[1:number_of_hits+1] \n",
    "    return similarity_output"
   ]
  },
  {
   "cell_type": "code",
   "execution_count": 62,
   "metadata": {
    "ExecuteTime": {
     "end_time": "2021-04-12T12:27:01.940109Z",
     "start_time": "2021-04-12T12:27:01.303865Z"
    }
   },
   "outputs": [
    {
     "data": {
      "text/html": [
       "<div>\n",
       "<style scoped>\n",
       "    .dataframe tbody tr th:only-of-type {\n",
       "        vertical-align: middle;\n",
       "    }\n",
       "\n",
       "    .dataframe tbody tr th {\n",
       "        vertical-align: top;\n",
       "    }\n",
       "\n",
       "    .dataframe thead th {\n",
       "        text-align: right;\n",
       "    }\n",
       "</style>\n",
       "<table border=\"1\" class=\"dataframe\">\n",
       "  <thead>\n",
       "    <tr style=\"text-align: right;\">\n",
       "      <th></th>\n",
       "      <th>item_id</th>\n",
       "      <th>score</th>\n",
       "      <th>title</th>\n",
       "    </tr>\n",
       "  </thead>\n",
       "  <tbody>\n",
       "    <tr>\n",
       "      <th>8</th>\n",
       "      <td>3353902017498793780</td>\n",
       "      <td>0.699051</td>\n",
       "      <td>The Rise And Growth of Ethereum Gets Mainstrea...</td>\n",
       "    </tr>\n",
       "    <tr>\n",
       "      <th>424</th>\n",
       "      <td>1485652648052127324</td>\n",
       "      <td>0.454741</td>\n",
       "      <td>For Blockchain VCs, the Time for Ethereum Inve...</td>\n",
       "    </tr>\n",
       "    <tr>\n",
       "      <th>157</th>\n",
       "      <td>5274322067107287523</td>\n",
       "      <td>0.432198</td>\n",
       "      <td>Ethereum and Bitcoin Are Market Leaders But No...</td>\n",
       "    </tr>\n",
       "    <tr>\n",
       "      <th>94</th>\n",
       "      <td>6713697716910928909</td>\n",
       "      <td>0.387480</td>\n",
       "      <td>Solidity Available in Visual Studio - Ethereum...</td>\n",
       "    </tr>\n",
       "    <tr>\n",
       "      <th>71</th>\n",
       "      <td>3067875254349597654</td>\n",
       "      <td>0.345733</td>\n",
       "      <td>Microsoft Adds Ethereum to Windows Platform Fo...</td>\n",
       "    </tr>\n",
       "    <tr>\n",
       "      <th>160</th>\n",
       "      <td>8084284001249507595</td>\n",
       "      <td>0.316481</td>\n",
       "      <td>Microsoft Continues to Embrace Ethereum &amp; Bitc...</td>\n",
       "    </tr>\n",
       "    <tr>\n",
       "      <th>101</th>\n",
       "      <td>9171475473795142532</td>\n",
       "      <td>0.292799</td>\n",
       "      <td>Decentralized Options Exchange Etheropt Uses A...</td>\n",
       "    </tr>\n",
       "    <tr>\n",
       "      <th>97</th>\n",
       "      <td>4849766494522371290</td>\n",
       "      <td>0.267386</td>\n",
       "      <td>Cashila Announces Convenient Buy and Sell Feat...</td>\n",
       "    </tr>\n",
       "    <tr>\n",
       "      <th>112</th>\n",
       "      <td>2711301039947937868</td>\n",
       "      <td>0.230289</td>\n",
       "      <td>Eyeing Volume, Asian Exchanges Add Support for...</td>\n",
       "    </tr>\n",
       "    <tr>\n",
       "      <th>158</th>\n",
       "      <td>4917007328809735647</td>\n",
       "      <td>0.216469</td>\n",
       "      <td>Google Failure, Ethereum Leaps, ECB Giveout in...</td>\n",
       "    </tr>\n",
       "  </tbody>\n",
       "</table>\n",
       "</div>"
      ],
      "text/plain": [
       "                 item_id     score  \\\n",
       "8    3353902017498793780  0.699051   \n",
       "424  1485652648052127324  0.454741   \n",
       "157  5274322067107287523  0.432198   \n",
       "94   6713697716910928909  0.387480   \n",
       "71   3067875254349597654  0.345733   \n",
       "160  8084284001249507595  0.316481   \n",
       "101  9171475473795142532  0.292799   \n",
       "97   4849766494522371290  0.267386   \n",
       "112  2711301039947937868  0.230289   \n",
       "158  4917007328809735647  0.216469   \n",
       "\n",
       "                                                 title  \n",
       "8    The Rise And Growth of Ethereum Gets Mainstrea...  \n",
       "424  For Blockchain VCs, the Time for Ethereum Inve...  \n",
       "157  Ethereum and Bitcoin Are Market Leaders But No...  \n",
       "94   Solidity Available in Visual Studio - Ethereum...  \n",
       "71   Microsoft Adds Ethereum to Windows Platform Fo...  \n",
       "160  Microsoft Continues to Embrace Ethereum & Bitc...  \n",
       "101  Decentralized Options Exchange Etheropt Uses A...  \n",
       "97   Cashila Announces Convenient Buy and Sell Feat...  \n",
       "112  Eyeing Volume, Asian Exchanges Add Support for...  \n",
       "158  Google Failure, Ethereum Leaps, ECB Giveout in...  "
      ]
     },
     "execution_count": 62,
     "metadata": {},
     "output_type": "execute_result"
    }
   ],
   "source": [
    "content_pred = content_recommendation(4110354420726924665)\n",
    "content_pred"
   ]
  },
  {
   "cell_type": "markdown",
   "metadata": {},
   "source": [
    "### 4. ALS Model for Recommendation"
   ]
  },
  {
   "cell_type": "markdown",
   "metadata": {},
   "source": [
    "While we train an ALS system, it's important to point out that we can use this system to get two kind of Recommendations as follows :\n",
    "\n",
    "1. Based on User ID , we can get best recommendations for them\n",
    "2. Based on Item ID, we can get similar News Article. We can use this in a complementing way with Content based recommendation to recommend similar items."
   ]
  },
  {
   "cell_type": "code",
   "execution_count": 63,
   "metadata": {
    "ExecuteTime": {
     "end_time": "2021-04-12T12:27:02.004631Z",
     "start_time": "2021-04-12T12:27:01.972334Z"
    }
   },
   "outputs": [],
   "source": [
    "# ! pip install implicit"
   ]
  },
  {
   "cell_type": "code",
   "execution_count": 64,
   "metadata": {
    "ExecuteTime": {
     "end_time": "2021-04-12T12:27:02.423301Z",
     "start_time": "2021-04-12T12:27:02.036655Z"
    }
   },
   "outputs": [
    {
     "name": "stdout",
     "output_type": "stream",
     "text": [
      "User-Item Sparse Matrix : (1895, 2987)\n",
      "Item-User Sparse Matrix : (2987, 1895)\n"
     ]
    }
   ],
   "source": [
    "### Create Consumer Sparse Matrix\n",
    "alpha = 40\n",
    "sparse_user_item = csr_matrix( ([alpha]*ct_df.shape[0], (ct_df['consumer_id'], ct_df['item_id']) ))\n",
    "# convert to array\n",
    "csr_user_array = sparse_user_item.toarray()\n",
    "\n",
    "print(\"User-Item Sparse Matrix : {}\".format(sparse_user_item.shape))\n",
    "\n",
    "\n",
    "### Create item-user sparse matrix\n",
    "sparse_item_user = sparse_user_item.T.tocsr()\n",
    "print(\"Item-User Sparse Matrix : {}\".format(sparse_item_user.shape))"
   ]
  },
  {
   "cell_type": "code",
   "execution_count": 65,
   "metadata": {
    "ExecuteTime": {
     "end_time": "2021-04-12T12:27:54.832111Z",
     "start_time": "2021-04-12T12:27:02.455230Z"
    }
   },
   "outputs": [
    {
     "name": "stderr",
     "output_type": "stream",
     "text": [
      "WARNING:root:Intel MKL BLAS detected. Its highly recommend to set the environment variable 'export MKL_NUM_THREADS=1' to disable its internal multithreading\n"
     ]
    },
    {
     "name": "stdout",
     "output_type": "stream",
     "text": [
      "Training Set Size :\n"
     ]
    },
    {
     "data": {
      "application/vnd.jupyter.widget-view+json": {
       "model_id": "639e3612be194505a742d5232c0a5263",
       "version_major": 2,
       "version_minor": 0
      },
      "text/plain": [
       "HBox(children=(HTML(value=''), FloatProgress(value=0.0, max=20.0), HTML(value='')))"
      ]
     },
     "metadata": {},
     "output_type": "display_data"
    },
    {
     "name": "stdout",
     "output_type": "stream",
     "text": [
      "\n"
     ]
    }
   ],
   "source": [
    "## Create train, test data\n",
    "train, test = evaluation.train_test_split(sparse_item_user, train_percentage=0.8)\n",
    "als_model = implicit.als.AlternatingLeastSquares(factors=100, regularization=0.1, \n",
    "                                             iterations=20, calculate_training_loss=False)\n",
    "\n",
    "\n",
    "print(\"Training Set Size :\")\n",
    "# train the model\n",
    "als_model.fit(train)"
   ]
  },
  {
   "cell_type": "code",
   "execution_count": 66,
   "metadata": {
    "ExecuteTime": {
     "end_time": "2021-04-12T12:27:55.032764Z",
     "start_time": "2021-04-12T12:27:55.014578Z"
    }
   },
   "outputs": [],
   "source": [
    "# Sample RUn for prediction\n",
    "user_id=10\n",
    "item_id=10"
   ]
  },
  {
   "cell_type": "code",
   "execution_count": 67,
   "metadata": {
    "ExecuteTime": {
     "end_time": "2021-04-12T12:27:55.201454Z",
     "start_time": "2021-04-12T12:27:55.116687Z"
    }
   },
   "outputs": [
    {
     "data": {
      "text/html": [
       "<div>\n",
       "<style scoped>\n",
       "    .dataframe tbody tr th:only-of-type {\n",
       "        vertical-align: middle;\n",
       "    }\n",
       "\n",
       "    .dataframe tbody tr th {\n",
       "        vertical-align: top;\n",
       "    }\n",
       "\n",
       "    .dataframe thead th {\n",
       "        text-align: right;\n",
       "    }\n",
       "</style>\n",
       "<table border=\"1\" class=\"dataframe\">\n",
       "  <thead>\n",
       "    <tr style=\"text-align: right;\">\n",
       "      <th></th>\n",
       "      <th>item_id</th>\n",
       "      <th>als_score</th>\n",
       "    </tr>\n",
       "  </thead>\n",
       "  <tbody>\n",
       "    <tr>\n",
       "      <th>0</th>\n",
       "      <td>2743</td>\n",
       "      <td>0.525171</td>\n",
       "    </tr>\n",
       "    <tr>\n",
       "      <th>1</th>\n",
       "      <td>282</td>\n",
       "      <td>0.468386</td>\n",
       "    </tr>\n",
       "    <tr>\n",
       "      <th>2</th>\n",
       "      <td>1328</td>\n",
       "      <td>0.465543</td>\n",
       "    </tr>\n",
       "    <tr>\n",
       "      <th>3</th>\n",
       "      <td>739</td>\n",
       "      <td>0.462319</td>\n",
       "    </tr>\n",
       "    <tr>\n",
       "      <th>4</th>\n",
       "      <td>823</td>\n",
       "      <td>0.428877</td>\n",
       "    </tr>\n",
       "  </tbody>\n",
       "</table>\n",
       "</div>"
      ],
      "text/plain": [
       "   item_id  als_score\n",
       "0     2743   0.525171\n",
       "1      282   0.468386\n",
       "2     1328   0.465543\n",
       "3      739   0.462319\n",
       "4      823   0.428877"
      ]
     },
     "execution_count": 67,
     "metadata": {},
     "output_type": "execute_result"
    }
   ],
   "source": [
    "# Sample Run to Recommend Based on User\n",
    "output = als_model.recommend(user_id, sparse_user_item)\n",
    "output_df = pd.DataFrame(output, columns=['item_id', 'als_score'])\n",
    "output_df.head()"
   ]
  },
  {
   "cell_type": "code",
   "execution_count": 68,
   "metadata": {
    "ExecuteTime": {
     "end_time": "2021-04-12T12:27:55.280806Z",
     "start_time": "2021-04-12T12:27:55.231822Z"
    }
   },
   "outputs": [],
   "source": [
    "# Sample Run to Recommend Similar Item\n",
    "n_similar = 10\n",
    "similar = als_model.similar_items(item_id, n_similar)\n",
    "similar_df = pd.DataFrame(similar, columns=['item_id', 'als_scoreout;'])"
   ]
  },
  {
   "cell_type": "code",
   "execution_count": 69,
   "metadata": {
    "ExecuteTime": {
     "end_time": "2021-04-12T12:27:55.368125Z",
     "start_time": "2021-04-12T12:27:55.299073Z"
    }
   },
   "outputs": [
    {
     "data": {
      "text/html": [
       "<div>\n",
       "<style scoped>\n",
       "    .dataframe tbody tr th:only-of-type {\n",
       "        vertical-align: middle;\n",
       "    }\n",
       "\n",
       "    .dataframe tbody tr th {\n",
       "        vertical-align: top;\n",
       "    }\n",
       "\n",
       "    .dataframe thead th {\n",
       "        text-align: right;\n",
       "    }\n",
       "</style>\n",
       "<table border=\"1\" class=\"dataframe\">\n",
       "  <thead>\n",
       "    <tr style=\"text-align: right;\">\n",
       "      <th></th>\n",
       "      <th>item_id</th>\n",
       "      <th>als_scoreout;</th>\n",
       "    </tr>\n",
       "  </thead>\n",
       "  <tbody>\n",
       "    <tr>\n",
       "      <th>0</th>\n",
       "      <td>10</td>\n",
       "      <td>1.000000</td>\n",
       "    </tr>\n",
       "    <tr>\n",
       "      <th>1</th>\n",
       "      <td>1618</td>\n",
       "      <td>0.814410</td>\n",
       "    </tr>\n",
       "    <tr>\n",
       "      <th>2</th>\n",
       "      <td>2157</td>\n",
       "      <td>0.577986</td>\n",
       "    </tr>\n",
       "    <tr>\n",
       "      <th>3</th>\n",
       "      <td>834</td>\n",
       "      <td>0.537547</td>\n",
       "    </tr>\n",
       "    <tr>\n",
       "      <th>4</th>\n",
       "      <td>2735</td>\n",
       "      <td>0.473565</td>\n",
       "    </tr>\n",
       "    <tr>\n",
       "      <th>5</th>\n",
       "      <td>2581</td>\n",
       "      <td>0.471452</td>\n",
       "    </tr>\n",
       "    <tr>\n",
       "      <th>6</th>\n",
       "      <td>2246</td>\n",
       "      <td>0.451982</td>\n",
       "    </tr>\n",
       "    <tr>\n",
       "      <th>7</th>\n",
       "      <td>228</td>\n",
       "      <td>0.448315</td>\n",
       "    </tr>\n",
       "    <tr>\n",
       "      <th>8</th>\n",
       "      <td>2123</td>\n",
       "      <td>0.448315</td>\n",
       "    </tr>\n",
       "    <tr>\n",
       "      <th>9</th>\n",
       "      <td>2802</td>\n",
       "      <td>0.448315</td>\n",
       "    </tr>\n",
       "  </tbody>\n",
       "</table>\n",
       "</div>"
      ],
      "text/plain": [
       "   item_id  als_scoreout;\n",
       "0       10       1.000000\n",
       "1     1618       0.814410\n",
       "2     2157       0.577986\n",
       "3      834       0.537547\n",
       "4     2735       0.473565\n",
       "5     2581       0.471452\n",
       "6     2246       0.451982\n",
       "7      228       0.448315\n",
       "8     2123       0.448315\n",
       "9     2802       0.448315"
      ]
     },
     "execution_count": 69,
     "metadata": {},
     "output_type": "execute_result"
    }
   ],
   "source": [
    "similar_df"
   ]
  },
  {
   "cell_type": "markdown",
   "metadata": {},
   "source": [
    "### 5. Hybrid Recommendation System\n",
    "\n",
    "Based on the above evaluation we will be creating the following Hybrid Recommendations :\n",
    "\n",
    "1. Item-Item Recommendation + Content Based Recommendation : Normalising the Scores of Each & Giving Equal Weightage\n",
    "2. ALS Similar Item Recommendation + Content Based Recommendation : Normalising the Scores of Each & Giving Equal Weightage\n",
    "3. ALS Similar Item Recommendation + Item Based Recommendation : Normalising the Scores of Each & Giving Equal Weightage\n",
    "4. ALS User-Item Recommendation + User-User Collaborative Recommendations : Equal Weightage to both\n",
    "\n"
   ]
  },
  {
   "cell_type": "code",
   "execution_count": 70,
   "metadata": {
    "ExecuteTime": {
     "end_time": "2021-04-12T12:27:55.483118Z",
     "start_time": "2021-04-12T12:27:55.398005Z"
    }
   },
   "outputs": [],
   "source": [
    "def hybrid_item_content(item_id,topn=10) :\n",
    "    \n",
    "    # prepare Content Based Recommendation\n",
    "    content_pred = content_recommendation(item_id,number_of_hits=2000) # It already removed the same ID\n",
    "    min_content,max_content = min(content_pred['score']),max(content_pred['score'])\n",
    "    denom_content = max_content - min_content\n",
    "    content_pred[\"normalized_content_score\"] = (content_pred['score']-min_content)/denom_content\n",
    "    \n",
    "    # prepare Item based Collaborative Recommendation\n",
    "    inverse_item_id = items_dict[item_id]\n",
    "    # Remove the Same ID by starting from 1\n",
    "    item_pred = item_correlation_df.iloc[inverse_item_id][1:].reset_index()\n",
    "    item_pred  = item_pred.rename(columns={\"index\":\"item_id\",\n",
    "                                           inverse_item_id:\"score\"}).sort_values(by=\"score\",ascending=False)\n",
    "    \n",
    "    min_item,max_item = min(item_pred['score']),max(item_pred['score'])\n",
    "    denom_item = max_item - min_item\n",
    "    item_pred['item_id'] = item_pred['item_id'].map(inverse_items_dict)\n",
    "    item_pred[\"normalized_colab_score\"] = (item_pred['score']-min_item)/denom_item\n",
    "    \n",
    "    # Merge the Results & Normalise\n",
    "    hybrid_pred=pd.merge(item_pred[[\"item_id\",\"normalized_colab_score\"]],\n",
    "                         content_pred[[\"item_id\",\"title\",\"normalized_content_score\"]],how=\"left\")\n",
    "    hybrid_pred[\"final_score\"] = (hybrid_pred[\"normalized_colab_score\"] + \n",
    "                                  hybrid_pred[\"normalized_content_score\"])/2\n",
    "    \n",
    "    hybrid_pred.sort_values(by=\"final_score\",ascending=False,inplace=True)\n",
    "    # Send Top N\n",
    "    hybrid_pred = hybrid_pred.reset_index(drop=True).iloc[:topn][['item_id','title','final_score']]\n",
    "    \n",
    "    \n",
    "    return hybrid_pred"
   ]
  },
  {
   "cell_type": "code",
   "execution_count": 71,
   "metadata": {
    "ExecuteTime": {
     "end_time": "2021-04-12T12:27:55.568273Z",
     "start_time": "2021-04-12T12:27:55.500663Z"
    }
   },
   "outputs": [],
   "source": [
    "def hybrid_als_content(item_id,topn=10) :\n",
    "    \n",
    "    # prepare Content Based Recommendation\n",
    "    content_pred = content_recommendation(item_id,number_of_hits=2000) # It already removed the same ID\n",
    "    min_content,max_content = min(content_pred['score']),max(content_pred['score'])\n",
    "    denom_content = max_content - min_content\n",
    "    content_pred[\"normalized_content_score\"] = (content_pred['score']-min_content)/denom_content\n",
    "    \n",
    "    # prepare Item based Collaborative Recommendation\n",
    "    inverse_item_id = items_dict[item_id]\n",
    "    # Remove the Same ID by starting from 1\n",
    "    als_similar = als_model.similar_items(inverse_item_id, 2000)\n",
    "    als_pred = pd.DataFrame(als_similar, columns=['item_id', 'score'])\n",
    "    \n",
    "    \n",
    "    min_als,max_als = min(als_pred['score']),max(als_pred['score'])\n",
    "    denom_als =  max_als - min_als\n",
    "    als_pred['item_id'] = als_pred['item_id'].map(inverse_items_dict)\n",
    "    als_pred[\"normalized_als_score\"] = (als_pred['score']-min_als)/denom_als\n",
    "    \n",
    "    # Merge the Results & Normalise\n",
    "    hybrid_pred=pd.merge(als_pred[[\"item_id\",\"normalized_als_score\"]],\n",
    "                         content_pred[[\"item_id\",\"title\",\"normalized_content_score\"]],how=\"left\")\n",
    "    hybrid_pred[\"final_score\"] = (hybrid_pred[\"normalized_als_score\"] + \n",
    "                                  hybrid_pred[\"normalized_content_score\"])/2\n",
    "    \n",
    "    hybrid_pred.sort_values(by=\"final_score\",ascending=False,inplace=True)\n",
    "    # Send Top N\n",
    "    hybrid_pred = hybrid_pred.reset_index(drop=True).iloc[:topn][['item_id','title','final_score']]\n",
    "    \n",
    "    \n",
    "    return hybrid_pred"
   ]
  },
  {
   "cell_type": "code",
   "execution_count": 72,
   "metadata": {
    "ExecuteTime": {
     "end_time": "2021-04-12T12:27:55.682857Z",
     "start_time": "2021-04-12T12:27:55.585719Z"
    }
   },
   "outputs": [],
   "source": [
    "def hybrid_als_item(item_id,topn=10) :\n",
    "    \n",
    "    \n",
    "    # prepare Item based Collaborative Recommendation\n",
    "    inverse_item_id = items_dict[item_id]\n",
    "    # Remove the Same ID by starting from 1\n",
    "    als_similar = als_model.similar_items(inverse_item_id, 2000)\n",
    "    als_pred = pd.DataFrame(als_similar, columns=['item_id', 'score'])\n",
    "    \n",
    "    min_als,max_als = min(als_pred['score']),max(als_pred['score'])\n",
    "    denom_als =  max_als - min_als\n",
    "    als_pred['item_id'] = als_pred['item_id'].map(inverse_items_dict)\n",
    "    als_pred[\"normalized_als_score\"] = (als_pred['score']-min_als)/denom_als\n",
    "    \n",
    "    \n",
    "    # prepare Item based Collaborative Recommendation\n",
    " \n",
    "    # Remove the Same ID by starting from 1\n",
    "    item_pred = item_correlation_df.iloc[inverse_item_id][1:].reset_index()\n",
    "    item_pred  = item_pred.rename(columns={\"index\":\"item_id\",\n",
    "                                           inverse_item_id:\"score\"}).sort_values(by=\"score\",ascending=False)\n",
    "    \n",
    "    min_item,max_item = min(item_pred['score']),max(item_pred['score'])\n",
    "    denom_item = max_item - min_item\n",
    "    item_pred['item_id'] = item_pred['item_id'].map(inverse_items_dict)\n",
    "    item_pred[\"normalized_item_score\"] = (item_pred['score']-min_item)/denom_item\n",
    "    \n",
    "    # Merge the Results & Normalise\n",
    "    hybrid_pred=pd.merge(als_pred[[\"item_id\",\"normalized_als_score\"]],\n",
    "                         item_pred[[\"item_id\",\"normalized_item_score\"]],how=\"left\")\n",
    "    hybrid_pred[\"final_score\"] = (hybrid_pred[\"normalized_als_score\"] + \n",
    "                                  hybrid_pred[\"normalized_item_score\"])/2\n",
    "    \n",
    "    \n",
    "    # Merging to get the Titles\n",
    "    hybrid_pred = pd.merge(hybrid_pred,pc_df[['item_id','title']],how=\"left\").sort_values(by=\"final_score\",\n",
    "                                                                                          ascending=False)\n",
    "    # Send Top N\n",
    "    hybrid_pred = hybrid_pred.reset_index(drop=True).iloc[:topn][['item_id','title','final_score']]\n",
    "    \n",
    "    \n",
    "    return hybrid_pred"
   ]
  },
  {
   "cell_type": "code",
   "execution_count": 73,
   "metadata": {
    "ExecuteTime": {
     "end_time": "2021-04-12T12:27:55.782386Z",
     "start_time": "2021-04-12T12:27:55.701333Z"
    }
   },
   "outputs": [],
   "source": [
    "def hybrid_als_user(inverse_user_id,topn=10) :\n",
    "    \n",
    "    #converting User ID to the lookup value\n",
    "    user_id = users_dict[inverse_user_id]\n",
    "    \n",
    "    als_pred = als_model.recommend(user_id, sparse_user_item)\n",
    "    als_pred = pd.DataFrame(als_pred, columns=['item_id', 'score'])\n",
    "    \n",
    "    min_als,max_als = min(als_pred['score']),max(als_pred['score'])\n",
    "    denom_als = max_als - min_als\n",
    "\n",
    "    als_pred[\"normalized_als_score\"] = (als_pred['score']-min_als)/denom_als\n",
    "    \n",
    "    \n",
    "    colab_user_df = pd.DataFrame(user_predicted_ratings_test).iloc[user_id]\n",
    "    colab_pred = colab_user_df.reset_index().rename(columns={\"index\":\"item_id\",\n",
    "                                                           user_id:\"score\"}).sort_values(by=\"score\",\n",
    "                                                                                         ascending=False)\n",
    "    \n",
    "    min_user,max_user = min(colab_pred['score']),max(colab_pred['score'])\n",
    "    denom_user = max_user - min_user\n",
    "    colab_pred[\"normalized_colab_score\"] = (colab_pred['score']-min_user)/denom_user\n",
    "    \n",
    "    \n",
    "    # Merge the Results & Normalise\n",
    "    hybrid_pred=pd.merge(als_pred[[\"item_id\",\"normalized_als_score\"]],\n",
    "                         colab_pred[[\"item_id\",\"normalized_colab_score\"]],how=\"left\")\n",
    "    hybrid_pred[\"final_score\"] = (hybrid_pred[\"normalized_als_score\"] + \n",
    "                                  hybrid_pred[\"normalized_colab_score\"])/2\n",
    "    \n",
    "    hybrid_pred.sort_values(by=\"final_score\",ascending=False,inplace=True)\n",
    "    # Converting the  Item ID back to Original Values\n",
    "    hybrid_pred['item_id'] = hybrid_pred['item_id'].map(inverse_items_dict)\n",
    "    # Merging to get the Titles\n",
    "    hybrid_pred = pd.merge(hybrid_pred,pc_df[['item_id','title']],how=\"left\").sort_values(by=\"final_score\",\n",
    "                                                                                          ascending=False)\n",
    "    \n",
    "    # Send Top N\n",
    "    hybrid_pred = hybrid_pred.reset_index(drop=True).iloc[:topn][['item_id','title','final_score']]\n",
    "    \n",
    "    \n",
    "    return hybrid_pred\n",
    "    "
   ]
  },
  {
   "cell_type": "markdown",
   "metadata": {
    "ExecuteTime": {
     "end_time": "2021-04-11T13:49:01.429026Z",
     "start_time": "2021-04-11T13:49:01.426434Z"
    }
   },
   "source": [
    "#### Testing Hybrid Recommendations \n",
    "\n",
    "Here I take a Sample News Article and see the results from Different Hybrid Systems as Defined Earlier."
   ]
  },
  {
   "cell_type": "code",
   "execution_count": 74,
   "metadata": {
    "ExecuteTime": {
     "end_time": "2021-04-12T12:27:55.932142Z",
     "start_time": "2021-04-12T12:27:55.799383Z"
    }
   },
   "outputs": [
    {
     "data": {
      "text/html": [
       "<div>\n",
       "<style scoped>\n",
       "    .dataframe tbody tr th:only-of-type {\n",
       "        vertical-align: middle;\n",
       "    }\n",
       "\n",
       "    .dataframe tbody tr th {\n",
       "        vertical-align: top;\n",
       "    }\n",
       "\n",
       "    .dataframe thead th {\n",
       "        text-align: right;\n",
       "    }\n",
       "</style>\n",
       "<table border=\"1\" class=\"dataframe\">\n",
       "  <thead>\n",
       "    <tr style=\"text-align: right;\">\n",
       "      <th></th>\n",
       "      <th>item_id</th>\n",
       "      <th>item_url</th>\n",
       "      <th>title</th>\n",
       "      <th>text_description</th>\n",
       "      <th>title_words</th>\n",
       "      <th>title_len</th>\n",
       "      <th>text_words</th>\n",
       "      <th>text_len</th>\n",
       "      <th>title_wordlist</th>\n",
       "      <th>text_wordlist</th>\n",
       "      <th>document_wordlist</th>\n",
       "    </tr>\n",
       "  </thead>\n",
       "  <tbody>\n",
       "    <tr>\n",
       "      <th>1</th>\n",
       "      <td>4110354420726924665</td>\n",
       "      <td>http://www.nytimes.com/2016/03/28/business/dea...</td>\n",
       "      <td>Ethereum, a Virtual Currency, Enables Transact...</td>\n",
       "      <td>All of this work is still very early. The firs...</td>\n",
       "      <td>9</td>\n",
       "      <td>71</td>\n",
       "      <td>1072</td>\n",
       "      <td>6543</td>\n",
       "      <td>[ethereum,, a, virtual, currency,, enables, tr...</td>\n",
       "      <td>[all, of, this, work, is, still, very, early.,...</td>\n",
       "      <td>[ethereum,, a, virtual, currency,, enables, tr...</td>\n",
       "    </tr>\n",
       "  </tbody>\n",
       "</table>\n",
       "</div>"
      ],
      "text/plain": [
       "               item_id                                           item_url  \\\n",
       "1  4110354420726924665  http://www.nytimes.com/2016/03/28/business/dea...   \n",
       "\n",
       "                                               title  \\\n",
       "1  Ethereum, a Virtual Currency, Enables Transact...   \n",
       "\n",
       "                                    text_description  title_words  title_len  \\\n",
       "1  All of this work is still very early. The firs...            9         71   \n",
       "\n",
       "   text_words  text_len                                     title_wordlist  \\\n",
       "1        1072      6543  [ethereum,, a, virtual, currency,, enables, tr...   \n",
       "\n",
       "                                       text_wordlist  \\\n",
       "1  [all, of, this, work, is, still, very, early.,...   \n",
       "\n",
       "                                   document_wordlist  \n",
       "1  [ethereum,, a, virtual, currency,, enables, tr...  "
      ]
     },
     "execution_count": 74,
     "metadata": {},
     "output_type": "execute_result"
    }
   ],
   "source": [
    "# Test News Articl;e\n",
    "pc_df[pc_df.item_id==4110354420726924665]"
   ]
  },
  {
   "cell_type": "code",
   "execution_count": 75,
   "metadata": {
    "ExecuteTime": {
     "end_time": "2021-04-12T12:27:56.468309Z",
     "start_time": "2021-04-12T12:27:55.949457Z"
    }
   },
   "outputs": [
    {
     "data": {
      "text/html": [
       "<div>\n",
       "<style scoped>\n",
       "    .dataframe tbody tr th:only-of-type {\n",
       "        vertical-align: middle;\n",
       "    }\n",
       "\n",
       "    .dataframe tbody tr th {\n",
       "        vertical-align: top;\n",
       "    }\n",
       "\n",
       "    .dataframe thead th {\n",
       "        text-align: right;\n",
       "    }\n",
       "</style>\n",
       "<table border=\"1\" class=\"dataframe\">\n",
       "  <thead>\n",
       "    <tr style=\"text-align: right;\">\n",
       "      <th></th>\n",
       "      <th>item_id</th>\n",
       "      <th>title</th>\n",
       "      <th>final_score</th>\n",
       "    </tr>\n",
       "  </thead>\n",
       "  <tbody>\n",
       "    <tr>\n",
       "      <th>0</th>\n",
       "      <td>3353902017498793780</td>\n",
       "      <td>The Rise And Growth of Ethereum Gets Mainstrea...</td>\n",
       "      <td>0.500000</td>\n",
       "    </tr>\n",
       "    <tr>\n",
       "      <th>1</th>\n",
       "      <td>1485652648052127324</td>\n",
       "      <td>For Blockchain VCs, the Time for Ethereum Inve...</td>\n",
       "      <td>0.323304</td>\n",
       "    </tr>\n",
       "    <tr>\n",
       "      <th>2</th>\n",
       "      <td>7900768082301348135</td>\n",
       "      <td>Band plays on, as global oil glut leaves super...</td>\n",
       "      <td>0.321340</td>\n",
       "    </tr>\n",
       "    <tr>\n",
       "      <th>3</th>\n",
       "      <td>5289386635926629588</td>\n",
       "      <td>Punch-Drunk Love (2002)</td>\n",
       "      <td>0.319660</td>\n",
       "    </tr>\n",
       "    <tr>\n",
       "      <th>4</th>\n",
       "      <td>5274322067107287523</td>\n",
       "      <td>Ethereum and Bitcoin Are Market Leaders But No...</td>\n",
       "      <td>0.318453</td>\n",
       "    </tr>\n",
       "    <tr>\n",
       "      <th>5</th>\n",
       "      <td>4138575697540914268</td>\n",
       "      <td>Spotify's Latest Algorithmic Playlist Is Full ...</td>\n",
       "      <td>0.314743</td>\n",
       "    </tr>\n",
       "    <tr>\n",
       "      <th>6</th>\n",
       "      <td>7277691357631151609</td>\n",
       "      <td>Giant-Man Goes Down in CAPTAIN AMERICA: CIVIL ...</td>\n",
       "      <td>0.314223</td>\n",
       "    </tr>\n",
       "    <tr>\n",
       "      <th>7</th>\n",
       "      <td>5784228041033890044</td>\n",
       "      <td>[E-learning] Design Thinking for Innovation - ...</td>\n",
       "      <td>0.310259</td>\n",
       "    </tr>\n",
       "    <tr>\n",
       "      <th>8</th>\n",
       "      <td>2871288807409592</td>\n",
       "      <td>Dilma Rousseff's Impeachment Isn't a Coup, It'...</td>\n",
       "      <td>0.308245</td>\n",
       "    </tr>\n",
       "    <tr>\n",
       "      <th>9</th>\n",
       "      <td>1920899299418335515</td>\n",
       "      <td>AI Revolution 101 - AI Revolution</td>\n",
       "      <td>0.299695</td>\n",
       "    </tr>\n",
       "  </tbody>\n",
       "</table>\n",
       "</div>"
      ],
      "text/plain": [
       "               item_id                                              title  \\\n",
       "0  3353902017498793780  The Rise And Growth of Ethereum Gets Mainstrea...   \n",
       "1  1485652648052127324  For Blockchain VCs, the Time for Ethereum Inve...   \n",
       "2  7900768082301348135  Band plays on, as global oil glut leaves super...   \n",
       "3  5289386635926629588                            Punch-Drunk Love (2002)   \n",
       "4  5274322067107287523  Ethereum and Bitcoin Are Market Leaders But No...   \n",
       "5  4138575697540914268  Spotify's Latest Algorithmic Playlist Is Full ...   \n",
       "6  7277691357631151609  Giant-Man Goes Down in CAPTAIN AMERICA: CIVIL ...   \n",
       "7  5784228041033890044  [E-learning] Design Thinking for Innovation - ...   \n",
       "8     2871288807409592  Dilma Rousseff's Impeachment Isn't a Coup, It'...   \n",
       "9  1920899299418335515                  AI Revolution 101 - AI Revolution   \n",
       "\n",
       "   final_score  \n",
       "0     0.500000  \n",
       "1     0.323304  \n",
       "2     0.321340  \n",
       "3     0.319660  \n",
       "4     0.318453  \n",
       "5     0.314743  \n",
       "6     0.314223  \n",
       "7     0.310259  \n",
       "8     0.308245  \n",
       "9     0.299695  "
      ]
     },
     "execution_count": 75,
     "metadata": {},
     "output_type": "execute_result"
    }
   ],
   "source": [
    "# Results from Collaborative Item Based Recommendation & Content Based Recommendations\n",
    "hybrid_item_content(4110354420726924665)"
   ]
  },
  {
   "cell_type": "code",
   "execution_count": 76,
   "metadata": {
    "ExecuteTime": {
     "end_time": "2021-04-12T12:27:57.070234Z",
     "start_time": "2021-04-12T12:27:56.485097Z"
    }
   },
   "outputs": [
    {
     "data": {
      "text/html": [
       "<div>\n",
       "<style scoped>\n",
       "    .dataframe tbody tr th:only-of-type {\n",
       "        vertical-align: middle;\n",
       "    }\n",
       "\n",
       "    .dataframe tbody tr th {\n",
       "        vertical-align: top;\n",
       "    }\n",
       "\n",
       "    .dataframe thead th {\n",
       "        text-align: right;\n",
       "    }\n",
       "</style>\n",
       "<table border=\"1\" class=\"dataframe\">\n",
       "  <thead>\n",
       "    <tr style=\"text-align: right;\">\n",
       "      <th></th>\n",
       "      <th>item_id</th>\n",
       "      <th>title</th>\n",
       "      <th>final_score</th>\n",
       "    </tr>\n",
       "  </thead>\n",
       "  <tbody>\n",
       "    <tr>\n",
       "      <th>0</th>\n",
       "      <td>8084284001249507595</td>\n",
       "      <td>Microsoft Continues to Embrace Ethereum &amp; Bitc...</td>\n",
       "      <td>0.536257</td>\n",
       "    </tr>\n",
       "    <tr>\n",
       "      <th>1</th>\n",
       "      <td>8445686000003509032</td>\n",
       "      <td>Proof of Individuality, the New-Age Security o...</td>\n",
       "      <td>0.531985</td>\n",
       "    </tr>\n",
       "    <tr>\n",
       "      <th>2</th>\n",
       "      <td>4917007328809735647</td>\n",
       "      <td>Google Failure, Ethereum Leaps, ECB Giveout in...</td>\n",
       "      <td>0.447544</td>\n",
       "    </tr>\n",
       "    <tr>\n",
       "      <th>3</th>\n",
       "      <td>1586004000405879970</td>\n",
       "      <td>Gold Backed Digix Raises Millions in Hours on ...</td>\n",
       "      <td>0.423479</td>\n",
       "    </tr>\n",
       "    <tr>\n",
       "      <th>4</th>\n",
       "      <td>1485652648052127324</td>\n",
       "      <td>For Blockchain VCs, the Time for Ethereum Inve...</td>\n",
       "      <td>0.357684</td>\n",
       "    </tr>\n",
       "    <tr>\n",
       "      <th>5</th>\n",
       "      <td>9171475473795142532</td>\n",
       "      <td>Decentralized Options Exchange Etheropt Uses A...</td>\n",
       "      <td>0.346556</td>\n",
       "    </tr>\n",
       "    <tr>\n",
       "      <th>6</th>\n",
       "      <td>5145921881592486583</td>\n",
       "      <td>Open Source Giant Red Hat Launches First Block...</td>\n",
       "      <td>0.335271</td>\n",
       "    </tr>\n",
       "    <tr>\n",
       "      <th>7</th>\n",
       "      <td>5274322067107287523</td>\n",
       "      <td>Ethereum and Bitcoin Are Market Leaders But No...</td>\n",
       "      <td>0.333674</td>\n",
       "    </tr>\n",
       "    <tr>\n",
       "      <th>8</th>\n",
       "      <td>4228415104574264137</td>\n",
       "      <td>Up your app's sharing game with DirectShare - ...</td>\n",
       "      <td>0.330490</td>\n",
       "    </tr>\n",
       "    <tr>\n",
       "      <th>9</th>\n",
       "      <td>3067875254349597654</td>\n",
       "      <td>Microsoft Adds Ethereum to Windows Platform Fo...</td>\n",
       "      <td>0.323064</td>\n",
       "    </tr>\n",
       "  </tbody>\n",
       "</table>\n",
       "</div>"
      ],
      "text/plain": [
       "               item_id                                              title  \\\n",
       "0  8084284001249507595  Microsoft Continues to Embrace Ethereum & Bitc...   \n",
       "1  8445686000003509032  Proof of Individuality, the New-Age Security o...   \n",
       "2  4917007328809735647  Google Failure, Ethereum Leaps, ECB Giveout in...   \n",
       "3  1586004000405879970  Gold Backed Digix Raises Millions in Hours on ...   \n",
       "4  1485652648052127324  For Blockchain VCs, the Time for Ethereum Inve...   \n",
       "5  9171475473795142532  Decentralized Options Exchange Etheropt Uses A...   \n",
       "6  5145921881592486583  Open Source Giant Red Hat Launches First Block...   \n",
       "7  5274322067107287523  Ethereum and Bitcoin Are Market Leaders But No...   \n",
       "8  4228415104574264137  Up your app's sharing game with DirectShare - ...   \n",
       "9  3067875254349597654  Microsoft Adds Ethereum to Windows Platform Fo...   \n",
       "\n",
       "   final_score  \n",
       "0     0.536257  \n",
       "1     0.531985  \n",
       "2     0.447544  \n",
       "3     0.423479  \n",
       "4     0.357684  \n",
       "5     0.346556  \n",
       "6     0.335271  \n",
       "7     0.333674  \n",
       "8     0.330490  \n",
       "9     0.323064  "
      ]
     },
     "execution_count": 76,
     "metadata": {},
     "output_type": "execute_result"
    }
   ],
   "source": [
    "# Results from ALS Similar Items & Content Based Recommendations\n",
    "hybrid_als_content(4110354420726924665)"
   ]
  },
  {
   "cell_type": "code",
   "execution_count": 77,
   "metadata": {
    "ExecuteTime": {
     "end_time": "2021-04-12T12:27:57.517161Z",
     "start_time": "2021-04-12T12:27:57.088520Z"
    }
   },
   "outputs": [
    {
     "data": {
      "text/html": [
       "<div>\n",
       "<style scoped>\n",
       "    .dataframe tbody tr th:only-of-type {\n",
       "        vertical-align: middle;\n",
       "    }\n",
       "\n",
       "    .dataframe tbody tr th {\n",
       "        vertical-align: top;\n",
       "    }\n",
       "\n",
       "    .dataframe thead th {\n",
       "        text-align: right;\n",
       "    }\n",
       "</style>\n",
       "<table border=\"1\" class=\"dataframe\">\n",
       "  <thead>\n",
       "    <tr style=\"text-align: right;\">\n",
       "      <th></th>\n",
       "      <th>item_id</th>\n",
       "      <th>title</th>\n",
       "      <th>final_score</th>\n",
       "    </tr>\n",
       "  </thead>\n",
       "  <tbody>\n",
       "    <tr>\n",
       "      <th>0</th>\n",
       "      <td>4110354420726924665</td>\n",
       "      <td>Ethereum, a Virtual Currency, Enables Transact...</td>\n",
       "      <td>1.000000</td>\n",
       "    </tr>\n",
       "    <tr>\n",
       "      <th>1</th>\n",
       "      <td>8445686000003509032</td>\n",
       "      <td>Proof of Individuality, the New-Age Security o...</td>\n",
       "      <td>0.500000</td>\n",
       "    </tr>\n",
       "    <tr>\n",
       "      <th>2</th>\n",
       "      <td>2518704978033827255</td>\n",
       "      <td>Google Now Posting Full OTA Images For Nexus D...</td>\n",
       "      <td>0.374183</td>\n",
       "    </tr>\n",
       "    <tr>\n",
       "      <th>3</th>\n",
       "      <td>7481609677042800346</td>\n",
       "      <td>NaN</td>\n",
       "      <td>0.368509</td>\n",
       "    </tr>\n",
       "    <tr>\n",
       "      <th>4</th>\n",
       "      <td>3173020603774823976</td>\n",
       "      <td>Welcome Google Cloud Platform!</td>\n",
       "      <td>0.356507</td>\n",
       "    </tr>\n",
       "    <tr>\n",
       "      <th>5</th>\n",
       "      <td>2871288807409592</td>\n",
       "      <td>Dilma Rousseff's Impeachment Isn't a Coup, It'...</td>\n",
       "      <td>0.347021</td>\n",
       "    </tr>\n",
       "    <tr>\n",
       "      <th>6</th>\n",
       "      <td>8031358134051918098</td>\n",
       "      <td>Learn Microservices in Java - DZone - Refcardz</td>\n",
       "      <td>0.344706</td>\n",
       "    </tr>\n",
       "    <tr>\n",
       "      <th>7</th>\n",
       "      <td>7277691357631151609</td>\n",
       "      <td>Giant-Man Goes Down in CAPTAIN AMERICA: CIVIL ...</td>\n",
       "      <td>0.342683</td>\n",
       "    </tr>\n",
       "    <tr>\n",
       "      <th>8</th>\n",
       "      <td>4562218760600603086</td>\n",
       "      <td>Performance Testing in a Nutshell</td>\n",
       "      <td>0.341398</td>\n",
       "    </tr>\n",
       "    <tr>\n",
       "      <th>9</th>\n",
       "      <td>273156842634169039</td>\n",
       "      <td>4K movies come to the Google Play Movies &amp; TV app</td>\n",
       "      <td>0.333032</td>\n",
       "    </tr>\n",
       "  </tbody>\n",
       "</table>\n",
       "</div>"
      ],
      "text/plain": [
       "               item_id                                              title  \\\n",
       "0  4110354420726924665  Ethereum, a Virtual Currency, Enables Transact...   \n",
       "1  8445686000003509032  Proof of Individuality, the New-Age Security o...   \n",
       "2  2518704978033827255  Google Now Posting Full OTA Images For Nexus D...   \n",
       "3  7481609677042800346                                                NaN   \n",
       "4  3173020603774823976                     Welcome Google Cloud Platform!   \n",
       "5     2871288807409592  Dilma Rousseff's Impeachment Isn't a Coup, It'...   \n",
       "6  8031358134051918098     Learn Microservices in Java - DZone - Refcardz   \n",
       "7  7277691357631151609  Giant-Man Goes Down in CAPTAIN AMERICA: CIVIL ...   \n",
       "8  4562218760600603086                  Performance Testing in a Nutshell   \n",
       "9   273156842634169039  4K movies come to the Google Play Movies & TV app   \n",
       "\n",
       "   final_score  \n",
       "0     1.000000  \n",
       "1     0.500000  \n",
       "2     0.374183  \n",
       "3     0.368509  \n",
       "4     0.356507  \n",
       "5     0.347021  \n",
       "6     0.344706  \n",
       "7     0.342683  \n",
       "8     0.341398  \n",
       "9     0.333032  "
      ]
     },
     "execution_count": 77,
     "metadata": {},
     "output_type": "execute_result"
    }
   ],
   "source": [
    "# Results from ALS Similar Items & Collaborative Item Based Recommendation \n",
    "hybrid_als_item(4110354420726924665)"
   ]
  },
  {
   "cell_type": "code",
   "execution_count": 78,
   "metadata": {
    "ExecuteTime": {
     "end_time": "2021-04-12T12:27:57.818782Z",
     "start_time": "2021-04-12T12:27:57.534427Z"
    }
   },
   "outputs": [
    {
     "data": {
      "text/html": [
       "<div>\n",
       "<style scoped>\n",
       "    .dataframe tbody tr th:only-of-type {\n",
       "        vertical-align: middle;\n",
       "    }\n",
       "\n",
       "    .dataframe tbody tr th {\n",
       "        vertical-align: top;\n",
       "    }\n",
       "\n",
       "    .dataframe thead th {\n",
       "        text-align: right;\n",
       "    }\n",
       "</style>\n",
       "<table border=\"1\" class=\"dataframe\">\n",
       "  <thead>\n",
       "    <tr style=\"text-align: right;\">\n",
       "      <th></th>\n",
       "      <th>item_id</th>\n",
       "      <th>title</th>\n",
       "      <th>final_score</th>\n",
       "    </tr>\n",
       "  </thead>\n",
       "  <tbody>\n",
       "    <tr>\n",
       "      <th>0</th>\n",
       "      <td>3689128258624052102</td>\n",
       "      <td>NaN</td>\n",
       "      <td>0.510100</td>\n",
       "    </tr>\n",
       "    <tr>\n",
       "      <th>1</th>\n",
       "      <td>6519443272707698315</td>\n",
       "      <td>Two Different Sales Motions . . . .</td>\n",
       "      <td>0.258716</td>\n",
       "    </tr>\n",
       "    <tr>\n",
       "      <th>2</th>\n",
       "      <td>7767869406844505704</td>\n",
       "      <td>Slice Labs raises $3.9M to insure on-demand wo...</td>\n",
       "      <td>0.254229</td>\n",
       "    </tr>\n",
       "    <tr>\n",
       "      <th>3</th>\n",
       "      <td>7463305179076477879</td>\n",
       "      <td>Salesforce buys Demandware for $2.8B, taking a...</td>\n",
       "      <td>0.253890</td>\n",
       "    </tr>\n",
       "    <tr>\n",
       "      <th>4</th>\n",
       "      <td>8377626164558006982</td>\n",
       "      <td>Bad Writing Is Destroying Your Company's Produ...</td>\n",
       "      <td>0.205979</td>\n",
       "    </tr>\n",
       "    <tr>\n",
       "      <th>5</th>\n",
       "      <td>3678789633202302491</td>\n",
       "      <td>Do You Suffer From Deployment Anxiety? - DZone...</td>\n",
       "      <td>0.199748</td>\n",
       "    </tr>\n",
       "    <tr>\n",
       "      <th>6</th>\n",
       "      <td>9086955082453789880</td>\n",
       "      <td>We are on the verge of a consumer M&amp;A avalanche</td>\n",
       "      <td>0.195734</td>\n",
       "    </tr>\n",
       "    <tr>\n",
       "      <th>7</th>\n",
       "      <td>1654063646246197191</td>\n",
       "      <td>Big IT Rising</td>\n",
       "      <td>0.173663</td>\n",
       "    </tr>\n",
       "    <tr>\n",
       "      <th>8</th>\n",
       "      <td>4293262855938209141</td>\n",
       "      <td>Globant Acquires L4 to Strengthen its Lead Pos...</td>\n",
       "      <td>0.122227</td>\n",
       "    </tr>\n",
       "    <tr>\n",
       "      <th>9</th>\n",
       "      <td>3900870368325485697</td>\n",
       "      <td>Adobe, Acquia, Episerver Lead New Forrester WC...</td>\n",
       "      <td>0.000000</td>\n",
       "    </tr>\n",
       "  </tbody>\n",
       "</table>\n",
       "</div>"
      ],
      "text/plain": [
       "               item_id                                              title  \\\n",
       "0  3689128258624052102                                                NaN   \n",
       "1  6519443272707698315                Two Different Sales Motions . . . .   \n",
       "2  7767869406844505704  Slice Labs raises $3.9M to insure on-demand wo...   \n",
       "3  7463305179076477879  Salesforce buys Demandware for $2.8B, taking a...   \n",
       "4  8377626164558006982  Bad Writing Is Destroying Your Company's Produ...   \n",
       "5  3678789633202302491  Do You Suffer From Deployment Anxiety? - DZone...   \n",
       "6  9086955082453789880    We are on the verge of a consumer M&A avalanche   \n",
       "7  1654063646246197191                                      Big IT Rising   \n",
       "8  4293262855938209141  Globant Acquires L4 to Strengthen its Lead Pos...   \n",
       "9  3900870368325485697  Adobe, Acquia, Episerver Lead New Forrester WC...   \n",
       "\n",
       "   final_score  \n",
       "0     0.510100  \n",
       "1     0.258716  \n",
       "2     0.254229  \n",
       "3     0.253890  \n",
       "4     0.205979  \n",
       "5     0.199748  \n",
       "6     0.195734  \n",
       "7     0.173663  \n",
       "8     0.122227  \n",
       "9     0.000000  "
      ]
     },
     "execution_count": 78,
     "metadata": {},
     "output_type": "execute_result"
    }
   ],
   "source": [
    "# Testing Hybrid User based Recommendation\n",
    "hybrid_als_user(4142810830429822977)"
   ]
  },
  {
   "cell_type": "markdown",
   "metadata": {},
   "source": [
    "#### Notes\n",
    "\n",
    "- From the above testing we saw that the Hybrid Recommendation System are providing similar results to the Item under consideration.\n",
    "- We can also see the diversity in recommendation , which shows that each individual systems has a different contribution and accordingly effects the Ranking & Diversity of Similar Content\n",
    "- We also tried creating a Hybrid Recommendation for User Based Recommendation\n",
    "\n",
    "- This section explicitly focused on creating APIs to invoke for recommendation\n",
    "- The indivudual recommendation systems had their API defined after training itself\n",
    "    - Content Based Recommendation has the API **content_recommendation()**\n",
    "    - ALS Recommendation has 2 APIs : als_model.recommend() & als_model.similar_items()\n",
    "    - Collaborative Systems have the predictions done and stored in user_predicted_ratings_test & item_predicted_ratings_test\n",
    "- One Key difference in the implementation is that of having a lookup for Consumer ID (aka User ID) & Item ID \n",
    "    - It just helped development to see normal values than gigantic numbers."
   ]
  },
  {
   "cell_type": "markdown",
   "metadata": {},
   "source": [
    "## Evaluation \n",
    "\n",
    "We will be trying the following Evaluation Techniques to check the models's performance :\n",
    "\n",
    "1. RMSE & MAE for Collaborative Filtering as we are predicting the ratings of unseen News Article.\n",
    "2. GlobalPrecision@K for Colloborative Filtering & ALS based on User Matrix for overall measure for dataset.\n",
    "\n",
    "\n",
    "For Content Based Recommendation & Similar Items from ALS Recommendation & Hybrid cannot be evaluated effectively using the above mentioned metrices. For Similar Items we can have different ways of testing as it very open ended and can vary from business use-case and availability of ground truth.\n",
    "\n",
    "Some of the ideas for the same can be :\n",
    "\n",
    "1. If we already have some tagged data for similarity, then we can compute accuracy,precission & recall accordingly\n",
    "2. If we have available ground truth, we can also compute Hit Rate or Cumulative Ground Truth for Similar Articles\n",
    "3. In the presence of News Category like Sports,Finance,Entertainment; we could have created a metrics to validate that similar news articles belong to the same category\n",
    "\n"
   ]
  },
  {
   "cell_type": "code",
   "execution_count": 79,
   "metadata": {
    "ExecuteTime": {
     "end_time": "2021-04-12T12:27:57.920427Z",
     "start_time": "2021-04-12T12:27:57.836252Z"
    }
   },
   "outputs": [],
   "source": [
    "# For Evaluation we will filter the Rated Items(Non-Zero Elements and compute the Metrices)\n",
    "\n",
    "def mae(prediction, ground_truth):\n",
    "\n",
    "    prediction = prediction[ground_truth.nonzero()]\n",
    "    ground_truth = ground_truth[ground_truth.nonzero()]\n",
    "    \n",
    "    return mean_absolute_error(prediction, ground_truth)\n",
    "\n",
    "\n",
    "def rmse(prediction, ground_truth):\n",
    "    prediction = prediction[ground_truth.nonzero()]\n",
    "    ground_truth = ground_truth[ground_truth.nonzero()]\n",
    "    return sqrt(mean_squared_error(prediction, ground_truth))\n",
    "\n",
    "def global_precision_computation(predictions,top_n=10) :\n",
    "    \n",
    "    global_precision=0\n",
    "    # As number of unique users are 1895\n",
    "    for user_index in range(0,1895):\n",
    "        user_relevant_set = ct_df[(ct_df['consumer_id']==user_index)].sort_values(by='ratings',ascending=False)['item_id'].tolist()\n",
    "        predicted_set = pd.DataFrame(predictions).iloc[user_index].sort_values(ascending=False)[:top_n].index.tolist()\n",
    "        precision_at_10 = (len(list(set(user_relevant_set) & set(predicted_set))))\n",
    "        global_precision = global_precision + precision_at_10\n",
    "\n",
    "    return (global_precision/1895)\n",
    "\n",
    "def global_precision_als(als_model,top_n=10) :\n",
    "    \n",
    "    \n",
    "    global_precision=0\n",
    "    # As number of unique users are 1895\n",
    "    for user_index in range(0,1895):\n",
    "        user_relevant_set = ct_df[(ct_df['consumer_id']==user_index)].sort_values(by='ratings',ascending=False)['item_id'].tolist()\n",
    "        predictions = als_model.recommend(user_id, sparse_user_item)\n",
    "\n",
    "        predicted_set = pd.DataFrame(predictions,\n",
    "                                     columns=['item_id', \n",
    "                                              'als_score']).sort_values(by=\"als_score\",\n",
    "                                                                        ascending=False)[:top_n].item_id.tolist()\n",
    "        precision_at_10 = (len(list(set(user_relevant_set) & set(predicted_set))))\n",
    "        global_precision = global_precision + precision_at_10\n",
    "\n",
    "    return (global_precision/1895)\n",
    "    "
   ]
  },
  {
   "cell_type": "code",
   "execution_count": 80,
   "metadata": {
    "ExecuteTime": {
     "end_time": "2021-04-12T12:29:43.693566Z",
     "start_time": "2021-04-12T12:27:57.937755Z"
    }
   },
   "outputs": [
    {
     "name": "stdout",
     "output_type": "stream",
     "text": [
      "Train MAE for User-User : 3.2236044695233654\n",
      "Test MAE for User-User : 0.36361792645418534\n",
      "------------------------------------------------------------\n",
      "Train RMSE for User-User : 6.813090642962094\n",
      "Test RMSE for User-User : 0.6325686492363639\n",
      "------------------------------------------------------------\n",
      "Global Precision on User-User : 0.05963060686015831\n",
      "\n",
      "********************************************************************************\n",
      "\n",
      "Train MAE for Item-Item : 27.0739874989576\n",
      "Test MAE for Item-Item : 8.618572757535548\n",
      "------------------------------------------------------------\n",
      "Train RMSE for Item-Item : 60.460298490708915\n",
      "Test RMSE for Item-Item : 17.296317163031162\n",
      "Global Precision on Item-Item : 0.06701846965699208\n",
      "\n",
      "********************************************************************************\n",
      "\n",
      "Global Precision on ALS User Prediction : 0.3113456464379947\n"
     ]
    }
   ],
   "source": [
    "## Collaborative Filtering Evaluation : (USER-USER)\n",
    "\n",
    "mae_user_train = mae(user_predicted_ratings_train,train_pivot)\n",
    "mae_user_test = mae(user_predicted_ratings_test,test_pivot)\n",
    "\n",
    "rmse_user_train = rmse(user_predicted_ratings_train,train_pivot)\n",
    "rmse_user_test = rmse(user_predicted_ratings_test,test_pivot)\n",
    "\n",
    "global_precision_user = global_precision_computation(user_predicted_ratings_test)\n",
    "\n",
    "## Collaborative Filtering Evaluation : (ITEM-ITEM)\n",
    "\n",
    "mae_item_train = mae(item_predicted_ratings_train,train_pivot)\n",
    "mae_item_test = mae(item_predicted_ratings_test,test_pivot)\n",
    "\n",
    "rmse_item_train = rmse(item_predicted_ratings_train,train_pivot)\n",
    "rmse_item_test = rmse(item_predicted_ratings_test,test_pivot)\n",
    "global_precision_item= global_precision_computation(item_predicted_ratings_test)\n",
    "\n",
    "\n",
    "print(\"Train MAE for User-User : {}\".format(mae_user_train))\n",
    "print(\"Test MAE for User-User : {}\".format(mae_user_test))\n",
    "print(\"-\"*60)\n",
    "print(\"Train RMSE for User-User : {}\".format(rmse_user_train))\n",
    "print(\"Test RMSE for User-User : {}\".format(rmse_user_test))\n",
    "print(\"-\"*60)\n",
    "print(\"Global Precision on User-User : {}\".format(global_precision_user))\n",
    "print()\n",
    "print(\"*\"*80)\n",
    "print()\n",
    "\n",
    "print(\"Train MAE for Item-Item : {}\".format(mae_item_train))\n",
    "print(\"Test MAE for Item-Item : {}\".format(mae_item_test))\n",
    "print(\"-\"*60)\n",
    "print(\"Train RMSE for Item-Item : {}\".format(rmse_item_train))\n",
    "print(\"Test RMSE for Item-Item : {}\".format(rmse_item_test))\n",
    "print(\"Global Precision on Item-Item : {}\".format(global_precision_item))\n",
    "\n",
    "print()\n",
    "print(\"*\"*80)\n",
    "print()\n",
    "\n",
    "global_precision_als_model = global_precision_als(als_model)\n",
    "print(\"Global Precision on ALS User Prediction : {}\".format(global_precision_als_model))"
   ]
  },
  {
   "cell_type": "markdown",
   "metadata": {},
   "source": [
    "#### Note : \n",
    "- As we can see User-User Recommendation has a lower loss from Item-Item for this particular use case for Ratings\n",
    "- But the Global Precision for Item-Item is slightly better than the User-User\n",
    "- Here, we can see that the User Based Recommendation from the ALS is far better in terms of Precision than Collaborative filtering.\n",
    "- The reason for the same is that the ratings are very sparse for Collaborative Filtering to learn the cor-relation between Users or Items.\n",
    "- Since User Based Collaborative Recommendation is not having good results, we don't go and test the Hybrid ALS + User Collaborative Recommendation that we build as it would be Definitely be hampering the overall quality of results.\n",
    "\n",
    "\n"
   ]
  },
  {
   "cell_type": "markdown",
   "metadata": {},
   "source": [
    "### Closing Flow \n",
    "\n",
    "As we build and experiment with multiple Recommendation system, I would re-iterate how are we addressing the problem statement again :\n",
    "\n",
    "- First we take **consumer_id** aka user_id as input\n",
    "- We call **als_model.recommend()** api to get diverse 10 recommendations\n",
    "- For every Top 10 Recommendations we use the Hybrid Recommendation API to get Similar Items\n",
    "- OR we in a Live system, we would automatically recommend the similar content from the Hybrid Recommendation once the User opens any of the news articles\n",
    "- It should also be noted all the prediction APIs have already been handled to not recommend News , consumers have already rated"
   ]
  },
  {
   "cell_type": "code",
   "execution_count": null,
   "metadata": {},
   "outputs": [],
   "source": []
  }
 ],
 "metadata": {
  "kernelspec": {
   "display_name": "Python 3",
   "language": "python",
   "name": "python3"
  },
  "language_info": {
   "codemirror_mode": {
    "name": "ipython",
    "version": 3
   },
   "file_extension": ".py",
   "mimetype": "text/x-python",
   "name": "python",
   "nbconvert_exporter": "python",
   "pygments_lexer": "ipython3",
   "version": "3.7.9"
  },
  "varInspector": {
   "cols": {
    "lenName": 16,
    "lenType": 16,
    "lenVar": 40
   },
   "kernels_config": {
    "python": {
     "delete_cmd_postfix": "",
     "delete_cmd_prefix": "del ",
     "library": "var_list.py",
     "varRefreshCmd": "print(var_dic_list())"
    },
    "r": {
     "delete_cmd_postfix": ") ",
     "delete_cmd_prefix": "rm(",
     "library": "var_list.r",
     "varRefreshCmd": "cat(var_dic_list()) "
    }
   },
   "types_to_exclude": [
    "module",
    "function",
    "builtin_function_or_method",
    "instance",
    "_Feature"
   ],
   "window_display": false
  }
 },
 "nbformat": 4,
 "nbformat_minor": 4
}
